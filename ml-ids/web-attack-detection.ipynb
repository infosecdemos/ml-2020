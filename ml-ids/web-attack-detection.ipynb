{
  "nbformat": 4,
  "nbformat_minor": 0,
  "metadata": {
    "colab": {
      "name": "Untitled2.ipynb",
      "provenance": [],
      "collapsed_sections": []
    },
    "kernelspec": {
      "name": "python3",
      "display_name": "Python 3"
    }
  },
  "cells": [
    {
      "cell_type": "markdown",
      "metadata": {
        "id": "tGLYJuXmFBZI"
      },
      "source": [
        "# Web attack detection using CICIDS2017 dataset"
      ]
    },
    {
      "cell_type": "markdown",
      "metadata": {
        "id": "sNPL1uYLFF1U"
      },
      "source": [
        "Training data: \"Intrusion Detection Evaluation Dataset\" (CICIDS2017). Description page: https://www.unb.ca/cic/datasets/ids-2017.html\n",
        "\n",
        "The data set is public. Download link: http://205.174.165.80/CICDataset/CIC-IDS-2017/Dataset/\n",
        "\n",
        "CICIDS2017 combines 8 files recorded on different days of observation (PCAP + CSV). Used archive: http://205.174.165.80/CICDataset/CIC-IDS-2017/Dataset/GeneratedLabelledFlows.zip\n",
        "\n",
        "In the downloaded archive GeneratedLabelledFlows.zip the file \"Thursday\" Thursday-WorkingHours-Morning-WebAttacks.pcap_ISCX.csv is selected.\n",
        "\n",
        "Sources:\n",
        "\n",
        "* [Sharafaldin2018] Iman Sharafaldin, Arash Habibi Lashkari and Ali A. Ghorbani. Toward Generating a New Intrusion Detection Dataset and Intrusion Traffic Characterization. 2018\n",
        "* [Kostas2018] Kahraman Kostas. Anomaly Detection in Networks Using Machine Learning. 2018 (error was found in assessing the importance of features)\n",
        "* https://github.com/bozbil/Anomaly-Detection-in-Networks-Using-Machine-Learning (error was found in assessing the importance of features)"
      ]
    },
    {
      "cell_type": "markdown",
      "metadata": {
        "id": "SCEkDfpOFPQX"
      },
      "source": [
        "## 1. Data preprocessing\n",
        "\n",
        "Source: https://github.com/bozbil/Anomaly-Detection-in-Networks-Using-Machine-Learning/blob/master/01_preprocessing.ipynb [Kostas2018]."
      ]
    },
    {
      "cell_type": "code",
      "metadata": {
        "id": "hJVAToeYFV2Q"
      },
      "source": [
        "import pandas as pd\n",
        "import numpy as np\n",
        "from sklearn import preprocessing\n",
        "import matplotlib.pyplot as plt\n",
        "%matplotlib inline"
      ],
      "execution_count": 32,
      "outputs": []
    },
    {
      "cell_type": "markdown",
      "metadata": {
        "id": "PFtoDi5mFkut"
      },
      "source": [
        "Download the dataset from Github to Google Colab and unzip it."
      ]
    },
    {
      "cell_type": "code",
      "metadata": {
        "id": "fX1ARK3i3xQs",
        "outputId": "7454f424-6029-4126-db04-70d739c981af",
        "colab": {
          "base_uri": "https://localhost:8080/",
          "height": 241
        }
      },
      "source": [
        "!wget https://raw.githubusercontent.com/infosecdemos/ml-2020/master/ml-ids/datasets/Thursday-WorkingHours-Morning-WebAttacks.pcap_ISCX.zip -O dataset.zip\n",
        "!unzip -u dataset.zip"
      ],
      "execution_count": 33,
      "outputs": [
        {
          "output_type": "stream",
          "text": [
            "--2020-09-28 13:49:02--  https://raw.githubusercontent.com/infosecdemos/ml-2020/master/ml-ids/datasets/Thursday-WorkingHours-Morning-WebAttacks.pcap_ISCX.zip\n",
            "Resolving raw.githubusercontent.com (raw.githubusercontent.com)... 151.101.0.133, 151.101.64.133, 151.101.128.133, ...\n",
            "Connecting to raw.githubusercontent.com (raw.githubusercontent.com)|151.101.0.133|:443... connected.\n",
            "HTTP request sent, awaiting response... 200 OK\n",
            "Length: 15190336 (14M) [application/zip]\n",
            "Saving to: ‘dataset.zip’\n",
            "\n",
            "dataset.zip         100%[===================>]  14.49M  24.4MB/s    in 0.6s    \n",
            "\n",
            "2020-09-28 13:49:03 (24.4 MB/s) - ‘dataset.zip’ saved [15190336/15190336]\n",
            "\n",
            "Archive:  dataset.zip\n"
          ],
          "name": "stdout"
        }
      ]
    },
    {
      "cell_type": "markdown",
      "metadata": {
        "id": "i4vnx_OaGAl0"
      },
      "source": [
        "We use \"engine=python\" to avoid the \"UnicodeDecodeError: 'utf-8' codec can't decode byte 0x96 in position 11: invalid start byte\" encoding error."
      ]
    },
    {
      "cell_type": "code",
      "metadata": {
        "id": "yIqeKHKYGCoz"
      },
      "source": [
        "df = pd.read_csv('Thursday-WorkingHours-Morning-WebAttacks.pcap_ISCX.csv', engine='python')"
      ],
      "execution_count": 34,
      "outputs": []
    },
    {
      "cell_type": "markdown",
      "metadata": {
        "id": "3U-gQIAmhamL"
      },
      "source": [
        "Thursday-WorkingHours-Morning-WebAttacks.pcap_ISCX.csv file contains 458968 records, 85 columns."
      ]
    },
    {
      "cell_type": "code",
      "metadata": {
        "id": "QMkibc_W4hpQ",
        "outputId": "3ac3e59e-86d5-44db-ea2f-0a5645533a40",
        "colab": {
          "base_uri": "https://localhost:8080/",
          "height": 34
        }
      },
      "source": [
        "df.shape"
      ],
      "execution_count": 35,
      "outputs": [
        {
          "output_type": "execute_result",
          "data": {
            "text/plain": [
              "(458968, 85)"
            ]
          },
          "metadata": {
            "tags": []
          },
          "execution_count": 35
        }
      ]
    },
    {
      "cell_type": "markdown",
      "metadata": {
        "id": "E5kIR-daheeV"
      },
      "source": [
        "The columns \"Fwd Header Length\" and \"Fwd Header Length.1\" are identical, the second one is removed, 84 columns remain."
      ]
    },
    {
      "cell_type": "code",
      "metadata": {
        "id": "83UFLCVlhjKF",
        "outputId": "8e36dd28-779c-4d2d-e291-133779530377",
        "colab": {
          "base_uri": "https://localhost:8080/",
          "height": 34
        }
      },
      "source": [
        "df.columns = df.columns.str.strip()\n",
        "df = df.drop(columns=['Fwd Header Length.1'])\n",
        "df.shape"
      ],
      "execution_count": 36,
      "outputs": [
        {
          "output_type": "execute_result",
          "data": {
            "text/plain": [
              "(458968, 84)"
            ]
          },
          "metadata": {
            "tags": []
          },
          "execution_count": 36
        }
      ]
    },
    {
      "cell_type": "markdown",
      "metadata": {
        "id": "BIQQvtxZhiTZ"
      },
      "source": [
        "When assessing the distribution of labels, it turns out that out of 458968 records there are many blank records (\"BENIGN\" - benign background traffic)."
      ]
    },
    {
      "cell_type": "code",
      "metadata": {
        "id": "HrGLjk5nhrGE",
        "outputId": "7ce09aec-af9d-457e-d1c5-173c01a7640a",
        "colab": {
          "base_uri": "https://localhost:8080/",
          "height": 51
        }
      },
      "source": [
        "df['Label'].unique()"
      ],
      "execution_count": 37,
      "outputs": [
        {
          "output_type": "execute_result",
          "data": {
            "text/plain": [
              "array(['BENIGN', 'Web Attack � Brute Force', 'Web Attack � XSS',\n",
              "       'Web Attack � Sql Injection', nan], dtype=object)"
            ]
          },
          "metadata": {
            "tags": []
          },
          "execution_count": 37
        }
      ]
    },
    {
      "cell_type": "code",
      "metadata": {
        "id": "HnpQqQ8fhxwN",
        "outputId": "42c8241c-ed3f-4996-92ba-129e9763254d",
        "colab": {
          "base_uri": "https://localhost:8080/",
          "height": 102
        }
      },
      "source": [
        "df['Label'].value_counts()"
      ],
      "execution_count": 38,
      "outputs": [
        {
          "output_type": "execute_result",
          "data": {
            "text/plain": [
              "BENIGN                        168186\n",
              "Web Attack � Brute Force        1507\n",
              "Web Attack � XSS                 652\n",
              "Web Attack � Sql Injection        21\n",
              "Name: Label, dtype: int64"
            ]
          },
          "metadata": {
            "tags": []
          },
          "execution_count": 38
        }
      ]
    },
    {
      "cell_type": "markdown",
      "metadata": {
        "id": "l7lpytF7h6D4"
      },
      "source": [
        "Delete blank records."
      ]
    },
    {
      "cell_type": "code",
      "metadata": {
        "id": "7ltfHW8dh7Tw",
        "outputId": "1ad9e6b9-1756-4455-f7c4-b15ad2fbf16b",
        "colab": {
          "base_uri": "https://localhost:8080/",
          "height": 34
        }
      },
      "source": [
        "df = df.drop(df[pd.isnull(df['Flow ID'])].index)\n",
        "df.shape"
      ],
      "execution_count": 39,
      "outputs": [
        {
          "output_type": "execute_result",
          "data": {
            "text/plain": [
              "(170366, 84)"
            ]
          },
          "metadata": {
            "tags": []
          },
          "execution_count": 39
        }
      ]
    },
    {
      "cell_type": "markdown",
      "metadata": {
        "id": "lhLxwK5Zh9yu"
      },
      "source": [
        "Replace the NaN values with zeros."
      ]
    },
    {
      "cell_type": "code",
      "metadata": {
        "id": "OLJrjaW3iC0a"
      },
      "source": [
        "df.fillna(0, inplace=True)"
      ],
      "execution_count": 40,
      "outputs": []
    },
    {
      "cell_type": "markdown",
      "metadata": {
        "id": "ZN6DKttXiH7J"
      },
      "source": [
        "The \"Flow Bytes/s\" and \"Flow Packets/s\" columns have non-numerical values, replace them."
      ]
    },
    {
      "cell_type": "code",
      "metadata": {
        "id": "mZ2ffToLi02x"
      },
      "source": [
        "df.replace('Infinity', -1, inplace=True)\n",
        "df[[\"Flow Bytes/s\", \"Flow Packets/s\"]] = df[[\"Flow Bytes/s\", \"Flow Packets/s\"]].apply(pd.to_numeric)\n",
        "df.replace([np.inf, -np.inf], np.nan, inplace=True)"
      ],
      "execution_count": 41,
      "outputs": []
    },
    {
      "cell_type": "markdown",
      "metadata": {
        "id": "2JMv7gKfi4nI"
      },
      "source": [
        "Convert string characters to numbers, use LabelEncoder, not OneHotEncoder."
      ]
    },
    {
      "cell_type": "code",
      "metadata": {
        "id": "XmYOMG0Ti8Wh",
        "outputId": "dfb444bd-3b63-4c2e-84a5-a8c1f5e09048",
        "colab": {
          "base_uri": "https://localhost:8080/",
          "height": 34
        }
      },
      "source": [
        "string_features = list(df.select_dtypes(include=['object']).columns)\n",
        "string_features.remove('Label')\n",
        "string_features"
      ],
      "execution_count": 42,
      "outputs": [
        {
          "output_type": "execute_result",
          "data": {
            "text/plain": [
              "['Flow ID', 'Source IP', 'Destination IP', 'Timestamp']"
            ]
          },
          "metadata": {
            "tags": []
          },
          "execution_count": 42
        }
      ]
    },
    {
      "cell_type": "code",
      "metadata": {
        "id": "ySZ2eW_2jCfQ"
      },
      "source": [
        "le = preprocessing.LabelEncoder()\n",
        "df[string_features] = df[string_features].apply(lambda col: le.fit_transform(col))"
      ],
      "execution_count": 43,
      "outputs": []
    },
    {
      "cell_type": "markdown",
      "metadata": {
        "id": "K94al8HAjJEN"
      },
      "source": [
        "### Undersampling against unbalance\n",
        "\n",
        "Dataset is unbalanced: total records = 170366, \"BENIGN\" records = 168186, records with attacks much less: 1507 + 652 + 21 = 2180."
      ]
    },
    {
      "cell_type": "code",
      "metadata": {
        "id": "7K7iWbNMjWrZ",
        "outputId": "11dfd634-3dd0-4953-c89e-7dbd7adb17e6",
        "colab": {
          "base_uri": "https://localhost:8080/",
          "height": 34
        }
      },
      "source": [
        "benign_total = len(df[df['Label'] == \"BENIGN\"])\n",
        "benign_total"
      ],
      "execution_count": 44,
      "outputs": [
        {
          "output_type": "execute_result",
          "data": {
            "text/plain": [
              "168186"
            ]
          },
          "metadata": {
            "tags": []
          },
          "execution_count": 44
        }
      ]
    },
    {
      "cell_type": "code",
      "metadata": {
        "id": "nVs_xEHFjY5q",
        "outputId": "a8e76c3a-4283-4223-b80f-24750cd91429",
        "colab": {
          "base_uri": "https://localhost:8080/",
          "height": 34
        }
      },
      "source": [
        "attack_total = len(df[df['Label'] != \"BENIGN\"])\n",
        "attack_total"
      ],
      "execution_count": 45,
      "outputs": [
        {
          "output_type": "execute_result",
          "data": {
            "text/plain": [
              "2180"
            ]
          },
          "metadata": {
            "tags": []
          },
          "execution_count": 45
        }
      ]
    },
    {
      "cell_type": "code",
      "metadata": {
        "id": "PFvPOea2jhMt",
        "outputId": "c2c88ebc-d27a-4492-b236-2b1696732e3c",
        "colab": {
          "base_uri": "https://localhost:8080/",
          "height": 102
        }
      },
      "source": [
        "df.to_csv(\"web_attacks_unbalanced.csv\", index=False)\n",
        "df['Label'].value_counts()"
      ],
      "execution_count": 46,
      "outputs": [
        {
          "output_type": "execute_result",
          "data": {
            "text/plain": [
              "BENIGN                        168186\n",
              "Web Attack � Brute Force        1507\n",
              "Web Attack � XSS                 652\n",
              "Web Attack � Sql Injection        21\n",
              "Name: Label, dtype: int64"
            ]
          },
          "metadata": {
            "tags": []
          },
          "execution_count": 46
        }
      ]
    },
    {
      "cell_type": "markdown",
      "metadata": {
        "id": "6A9-rS7OjyFl"
      },
      "source": [
        "We use **undersampling** to correct class imbalances: we remove most of the \"BENIGN\" records.\n",
        "\n",
        "Form a balanced dataset web_attacks_balanced.csv in proportion: 30% attack (2180 records), 70% benign data (2180 / 30 * 70 ~ = 5087 records).\n",
        "\n",
        "Algorithm to form a balanced df_balanced dataset:\n",
        "\n",
        "* All the records with the attacks are copied to the new dataset.\n",
        "* There are two conditions for copying \"BENIGN\" records to the new dataset:\n",
        " \n",
        "     1. The next record is copyied with the benign_inc_probability.\n",
        "     2. The total number of \"BENIGN\" records must not exceed the limit of 5087 records."
      ]
    },
    {
      "cell_type": "markdown",
      "metadata": {
        "id": "aVZutNOZj_N9"
      },
      "source": [
        "Сalculate the probability of copying a \"BENIGN\" record. The enlargement multiplier is used to get exactly 70% benign data (5087 records)."
      ]
    },
    {
      "cell_type": "code",
      "metadata": {
        "id": "XaW7sEjHkB3K",
        "outputId": "d8af5564-fca2-41df-d3de-c1ffa58b5060",
        "colab": {
          "base_uri": "https://localhost:8080/"
        }
      },
      "source": [
        "enlargement = 1.1\n",
        "benign_included_max = attack_total / 30 * 70\n",
        "benign_inc_probability = (benign_included_max / benign_total) * enlargement\n",
        "print(benign_included_max, benign_inc_probability)"
      ],
      "execution_count": 47,
      "outputs": [
        {
          "output_type": "stream",
          "text": [
            "5086.666666666667 0.03326872232726466\n"
          ],
          "name": "stdout"
        }
      ]
    },
    {
      "cell_type": "markdown",
      "metadata": {
        "id": "G3ZXh6fTkFK_"
      },
      "source": [
        "Copy records from df to df_balanced, save dataset **web_attacks_balanced.csv**."
      ]
    },
    {
      "cell_type": "code",
      "metadata": {
        "id": "0MdiMPmdkICk"
      },
      "source": [
        "import random\n",
        "indexes = []\n",
        "benign_included_count = 0\n",
        "for index, row in df.iterrows():\n",
        "    if (row['Label'] != \"BENIGN\"):\n",
        "        indexes.append(index)\n",
        "    else:\n",
        "        # Copying with benign_inc_probability\n",
        "        if random.random() > benign_inc_probability: continue\n",
        "        # Have we achieved 70% (5087 records)?\n",
        "        if benign_included_count > benign_included_max: continue\n",
        "        benign_included_count += 1\n",
        "        indexes.append(index)\n",
        "df_balanced = df.loc[indexes]"
      ],
      "execution_count": 17,
      "outputs": []
    },
    {
      "cell_type": "code",
      "metadata": {
        "id": "cqypBDIdkKN4",
        "outputId": "48795e60-9506-40bf-fd3b-96230d794d65",
        "colab": {
          "base_uri": "https://localhost:8080/",
          "height": 102
        }
      },
      "source": [
        "df_balanced['Label'].value_counts()"
      ],
      "execution_count": 18,
      "outputs": [
        {
          "output_type": "execute_result",
          "data": {
            "text/plain": [
              "BENIGN                        5087\n",
              "Web Attack � Brute Force      1507\n",
              "Web Attack � XSS               652\n",
              "Web Attack � Sql Injection      21\n",
              "Name: Label, dtype: int64"
            ]
          },
          "metadata": {
            "tags": []
          },
          "execution_count": 18
        }
      ]
    },
    {
      "cell_type": "markdown",
      "metadata": {
        "id": "hDPCkmutkNYD"
      },
      "source": [
        "If necessary, we can keep a single class of attack for experiments."
      ]
    },
    {
      "cell_type": "code",
      "metadata": {
        "id": "1_q52wjdkPZ8"
      },
      "source": [
        "# df_balanced = df_balanced[df_balanced['Label'] != \"Web Attack – Brute Force\"]\n",
        "# df_balanced = df_balanced[df_balanced['Label'] != \"Web Attack – Sql Injection\"]\n",
        "# df_balanced['Label'].value_counts()"
      ],
      "execution_count": 19,
      "outputs": []
    },
    {
      "cell_type": "code",
      "metadata": {
        "id": "qiYFzlGkkSXe"
      },
      "source": [
        "df_balanced.to_csv(\"web_attacks_balanced.csv\", index=False)"
      ],
      "execution_count": 20,
      "outputs": []
    },
    {
      "cell_type": "markdown",
      "metadata": {
        "id": "-IEyQxBDt5sG"
      },
      "source": [
        "## Preparing data for training"
      ]
    },
    {
      "cell_type": "markdown",
      "metadata": {
        "id": "1k2G5UAEt9cw"
      },
      "source": [
        "7 features (Flow ID, Source IP, Source Port, Destination IP, Destination Port, Protocol, Timestamp) are excluded from the dataset. The hypothesis is that the \"shape\" of the data being transmitted is more important than these attributes. In addition, ports and addresses can be substituted by an attacker, so it is better that the ML algorithm does not take these features into account in training [Kostas2018]."
      ]
    },
    {
      "cell_type": "code",
      "metadata": {
        "id": "8yza95R2t_1N"
      },
      "source": [
        "df = pd.read_csv('web_attacks_balanced.csv')\n",
        "excluded = ['Flow ID', 'Source IP', 'Source Port', 'Destination IP', 'Destination Port', 'Protocol', 'Timestamp']\n",
        "df = df.drop(columns=excluded)"
      ],
      "execution_count": 21,
      "outputs": []
    },
    {
      "cell_type": "markdown",
      "metadata": {
        "id": "eCxptOz2uDIV"
      },
      "source": [
        "Below at the stage of importance estimation the \"Init_Win_bytes_backward\" feature has the maximum value. After viewing the source dataset, it seems that an inaccuracy was made in forming the dataset. \n",
        "\n",
        "It turns out that it is possible to make a fairly accurate classification by one feature.\n",
        "\n",
        "Description of features: http://www.netflowmeter.ca/netflowmeter.html\n",
        "\n",
        "     Init_Win_bytes_backward - The total number of bytes sent in initial window in the backward direction\n",
        "     Init_Win_bytes_forward - The total number of bytes sent in initial window in the forward direction"
      ]
    },
    {
      "cell_type": "code",
      "metadata": {
        "id": "lYhtGKqJuUQA",
        "outputId": "e13f39f4-6d38-45aa-e0d3-5ff89f25a492",
        "colab": {
          "base_uri": "https://localhost:8080/",
          "height": 295
        }
      },
      "source": [
        "if 'Init_Win_bytes_backward' in df.columns:\n",
        "    df['Init_Win_bytes_backward'].hist(figsize=(6,4), bins=10);\n",
        "    plt.title(\"Init_Win_bytes_backward\")\n",
        "    plt.xlabel(\"Value bins\")\n",
        "    plt.ylabel(\"Density\")\n",
        "    plt.savefig('Init_Win_bytes_backward.png', dpi=300)"
      ],
      "execution_count": 22,
      "outputs": [
        {
          "output_type": "display_data",
          "data": {
            "image/png": "[encoded data removed]",
            "text/plain": [
              "<Figure size 432x288 with 1 Axes>"
            ]
          },
          "metadata": {
            "tags": [],
            "needs_background": "light"
          }
        }
      ]
    },
    {
      "cell_type": "code",
      "metadata": {
        "id": "XPbBcbj_uYMV",
        "outputId": "ffc87770-3bb7-4cb2-82f5-099796093a53",
        "colab": {
          "base_uri": "https://localhost:8080/",
          "height": 295
        }
      },
      "source": [
        "if 'Init_Win_bytes_forward' in df.columns:\n",
        "    df['Init_Win_bytes_forward'].hist(figsize=(6,4), bins=10);\n",
        "    plt.title(\"Init_Win_bytes_forward\")\n",
        "    plt.xlabel(\"Value bins\")\n",
        "    plt.ylabel(\"Density\")\n",
        "    plt.savefig('Init_Win_bytes_forward.png', dpi=300)"
      ],
      "execution_count": 23,
      "outputs": [
        {
          "output_type": "display_data",
          "data": {
            "image/png": "[encoded data removed]",
            "text/plain": [
              "<Figure size 432x288 with 1 Axes>"
            ]
          },
          "metadata": {
            "tags": [],
            "needs_background": "light"
          }
        }
      ]
    },
    {
      "cell_type": "code",
      "metadata": {
        "id": "Uw6liMMducM5"
      },
      "source": [
        "excluded2 = ['Init_Win_bytes_backward', 'Init_Win_bytes_forward']\n",
        "df = df.drop(columns=excluded2)"
      ],
      "execution_count": 24,
      "outputs": []
    },
    {
      "cell_type": "markdown",
      "metadata": {
        "id": "mY251UVouePR"
      },
      "source": [
        "The Label column is encoded as follows: \"BENIGN\" = 0, attack = 1."
      ]
    },
    {
      "cell_type": "code",
      "metadata": {
        "id": "a-FDOBmOufo6",
        "outputId": "d18ab799-1b57-47cd-fe0a-8b73347a4c69",
        "colab": {
          "base_uri": "https://localhost:8080/",
          "height": 385
        }
      },
      "source": [
        "df = pd.read_csv('web_attacks_balanced.csv')\n",
        "excluded = ['Flow ID', 'Source IP', 'Source Port', 'Destination IP', 'Destination Port', 'Protocol', 'Timestamp']\n",
        "df = df.drop(columns=excluded)\n",
        "excluded2 = ['Init_Win_bytes_backward', 'Init_Win_bytes_forward']\n",
        "df = df.drop(columns=excluded2)\n",
        "\n",
        "df['Label'] = df['Label'].apply(lambda x: 0 if x == 'BENIGN' else 1)\n",
        "y = df['Label'].values\n",
        "X = df.drop(columns=['Label'])\n",
        "df1 = X.iloc[:, 0:20]\n",
        "X = df1.copy()\n",
        "print(X.shape, y.shape)\n",
        "X.describe()"
      ],
      "execution_count": 25,
      "outputs": [
        {
          "output_type": "stream",
          "text": [
            "(7267, 20) (7267,)\n"
          ],
          "name": "stdout"
        },
        {
          "output_type": "execute_result",
          "data": {
            "text/html": [
              "<div>\n",
              "<style scoped>\n",
              "    .dataframe tbody tr th:only-of-type {\n",
              "        vertical-align: middle;\n",
              "    }\n",
              "\n",
              "    .dataframe tbody tr th {\n",
              "        vertical-align: top;\n",
              "    }\n",
              "\n",
              "    .dataframe thead th {\n",
              "        text-align: right;\n",
              "    }\n",
              "</style>\n",
              "<table border=\"1\" class=\"dataframe\">\n",
              "  <thead>\n",
              "    <tr style=\"text-align: right;\">\n",
              "      <th></th>\n",
              "      <th>Flow Duration</th>\n",
              "      <th>Total Fwd Packets</th>\n",
              "      <th>Total Backward Packets</th>\n",
              "      <th>Total Length of Fwd Packets</th>\n",
              "      <th>Total Length of Bwd Packets</th>\n",
              "      <th>Fwd Packet Length Max</th>\n",
              "      <th>Fwd Packet Length Min</th>\n",
              "      <th>Fwd Packet Length Mean</th>\n",
              "      <th>Fwd Packet Length Std</th>\n",
              "      <th>Bwd Packet Length Max</th>\n",
              "      <th>Bwd Packet Length Min</th>\n",
              "      <th>Bwd Packet Length Mean</th>\n",
              "      <th>Bwd Packet Length Std</th>\n",
              "      <th>Flow Bytes/s</th>\n",
              "      <th>Flow Packets/s</th>\n",
              "      <th>Flow IAT Mean</th>\n",
              "      <th>Flow IAT Std</th>\n",
              "      <th>Flow IAT Max</th>\n",
              "      <th>Flow IAT Min</th>\n",
              "      <th>Fwd IAT Total</th>\n",
              "    </tr>\n",
              "  </thead>\n",
              "  <tbody>\n",
              "    <tr>\n",
              "      <th>count</th>\n",
              "      <td>7.267000e+03</td>\n",
              "      <td>7267.000000</td>\n",
              "      <td>7267.000000</td>\n",
              "      <td>7267.000000</td>\n",
              "      <td>7.267000e+03</td>\n",
              "      <td>7267.000000</td>\n",
              "      <td>7267.00000</td>\n",
              "      <td>7267.000000</td>\n",
              "      <td>7267.000000</td>\n",
              "      <td>7267.000000</td>\n",
              "      <td>7267.000000</td>\n",
              "      <td>7267.000000</td>\n",
              "      <td>7267.000000</td>\n",
              "      <td>7.263000e+03</td>\n",
              "      <td>7.263000e+03</td>\n",
              "      <td>7.267000e+03</td>\n",
              "      <td>7.267000e+03</td>\n",
              "      <td>7.267000e+03</td>\n",
              "      <td>7.267000e+03</td>\n",
              "      <td>7.267000e+03</td>\n",
              "    </tr>\n",
              "    <tr>\n",
              "      <th>mean</th>\n",
              "      <td>1.054318e+07</td>\n",
              "      <td>10.045961</td>\n",
              "      <td>9.487684</td>\n",
              "      <td>857.723820</td>\n",
              "      <td>1.123396e+04</td>\n",
              "      <td>125.516857</td>\n",
              "      <td>15.79634</td>\n",
              "      <td>36.465261</td>\n",
              "      <td>37.443198</td>\n",
              "      <td>304.542865</td>\n",
              "      <td>37.536673</td>\n",
              "      <td>121.958616</td>\n",
              "      <td>94.884677</td>\n",
              "      <td>1.594895e+06</td>\n",
              "      <td>4.305725e+04</td>\n",
              "      <td>1.117948e+06</td>\n",
              "      <td>1.946198e+06</td>\n",
              "      <td>4.488933e+06</td>\n",
              "      <td>7.867260e+04</td>\n",
              "      <td>1.028333e+07</td>\n",
              "    </tr>\n",
              "    <tr>\n",
              "      <th>std</th>\n",
              "      <td>2.684171e+07</td>\n",
              "      <td>224.507363</td>\n",
              "      <td>340.325074</td>\n",
              "      <td>5422.876983</td>\n",
              "      <td>6.088340e+05</td>\n",
              "      <td>350.243184</td>\n",
              "      <td>28.23700</td>\n",
              "      <td>67.918328</td>\n",
              "      <td>112.364753</td>\n",
              "      <td>725.501817</td>\n",
              "      <td>62.331558</td>\n",
              "      <td>246.429169</td>\n",
              "      <td>247.620784</td>\n",
              "      <td>3.290097e+07</td>\n",
              "      <td>2.042599e+05</td>\n",
              "      <td>3.285610e+06</td>\n",
              "      <td>5.014647e+06</td>\n",
              "      <td>1.142724e+07</td>\n",
              "      <td>1.792886e+06</td>\n",
              "      <td>2.673843e+07</td>\n",
              "    </tr>\n",
              "    <tr>\n",
              "      <th>min</th>\n",
              "      <td>0.000000e+00</td>\n",
              "      <td>1.000000</td>\n",
              "      <td>0.000000</td>\n",
              "      <td>0.000000</td>\n",
              "      <td>0.000000e+00</td>\n",
              "      <td>0.000000</td>\n",
              "      <td>0.00000</td>\n",
              "      <td>0.000000</td>\n",
              "      <td>0.000000</td>\n",
              "      <td>0.000000</td>\n",
              "      <td>0.000000</td>\n",
              "      <td>0.000000</td>\n",
              "      <td>0.000000</td>\n",
              "      <td>0.000000e+00</td>\n",
              "      <td>3.119568e-02</td>\n",
              "      <td>0.000000e+00</td>\n",
              "      <td>0.000000e+00</td>\n",
              "      <td>0.000000e+00</td>\n",
              "      <td>-1.100000e+01</td>\n",
              "      <td>0.000000e+00</td>\n",
              "    </tr>\n",
              "    <tr>\n",
              "      <th>25%</th>\n",
              "      <td>2.440000e+02</td>\n",
              "      <td>2.000000</td>\n",
              "      <td>1.000000</td>\n",
              "      <td>0.000000</td>\n",
              "      <td>0.000000e+00</td>\n",
              "      <td>0.000000</td>\n",
              "      <td>0.00000</td>\n",
              "      <td>0.000000</td>\n",
              "      <td>0.000000</td>\n",
              "      <td>0.000000</td>\n",
              "      <td>0.000000</td>\n",
              "      <td>0.000000</td>\n",
              "      <td>0.000000</td>\n",
              "      <td>0.000000e+00</td>\n",
              "      <td>7.475332e-01</td>\n",
              "      <td>1.136667e+02</td>\n",
              "      <td>0.000000e+00</td>\n",
              "      <td>2.125000e+02</td>\n",
              "      <td>3.000000e+00</td>\n",
              "      <td>3.000000e+00</td>\n",
              "    </tr>\n",
              "    <tr>\n",
              "      <th>50%</th>\n",
              "      <td>1.031110e+05</td>\n",
              "      <td>3.000000</td>\n",
              "      <td>1.000000</td>\n",
              "      <td>46.000000</td>\n",
              "      <td>4.800000e+01</td>\n",
              "      <td>31.000000</td>\n",
              "      <td>0.00000</td>\n",
              "      <td>27.125000</td>\n",
              "      <td>0.000000</td>\n",
              "      <td>46.000000</td>\n",
              "      <td>0.000000</td>\n",
              "      <td>42.000000</td>\n",
              "      <td>0.000000</td>\n",
              "      <td>6.327195e+02</td>\n",
              "      <td>3.299459e+01</td>\n",
              "      <td>5.035400e+04</td>\n",
              "      <td>2.734908e+04</td>\n",
              "      <td>8.823100e+04</td>\n",
              "      <td>5.200000e+01</td>\n",
              "      <td>2.521900e+04</td>\n",
              "    </tr>\n",
              "    <tr>\n",
              "      <th>75%</th>\n",
              "      <td>5.568744e+06</td>\n",
              "      <td>3.000000</td>\n",
              "      <td>2.000000</td>\n",
              "      <td>96.000000</td>\n",
              "      <td>2.360000e+02</td>\n",
              "      <td>50.000000</td>\n",
              "      <td>35.00000</td>\n",
              "      <td>47.000000</td>\n",
              "      <td>0.000000</td>\n",
              "      <td>136.000000</td>\n",
              "      <td>67.000000</td>\n",
              "      <td>121.000000</td>\n",
              "      <td>0.000000</td>\n",
              "      <td>1.604582e+04</td>\n",
              "      <td>1.360236e+04</td>\n",
              "      <td>1.777134e+06</td>\n",
              "      <td>3.093322e+06</td>\n",
              "      <td>5.458696e+06</td>\n",
              "      <td>1.320000e+02</td>\n",
              "      <td>5.511692e+06</td>\n",
              "    </tr>\n",
              "    <tr>\n",
              "      <th>max</th>\n",
              "      <td>1.199984e+08</td>\n",
              "      <td>19004.000000</td>\n",
              "      <td>28926.000000</td>\n",
              "      <td>157816.000000</td>\n",
              "      <td>5.180000e+07</td>\n",
              "      <td>9670.000000</td>\n",
              "      <td>1472.00000</td>\n",
              "      <td>1472.000000</td>\n",
              "      <td>1689.950705</td>\n",
              "      <td>7926.000000</td>\n",
              "      <td>1430.000000</td>\n",
              "      <td>2048.896703</td>\n",
              "      <td>2479.122089</td>\n",
              "      <td>2.070000e+09</td>\n",
              "      <td>3.000000e+06</td>\n",
              "      <td>6.410000e+07</td>\n",
              "      <td>6.890000e+07</td>\n",
              "      <td>1.190000e+08</td>\n",
              "      <td>6.410000e+07</td>\n",
              "      <td>1.200000e+08</td>\n",
              "    </tr>\n",
              "  </tbody>\n",
              "</table>\n",
              "</div>"
            ],
            "text/plain": [
              "       Flow Duration  Total Fwd Packets  ...  Flow IAT Min  Fwd IAT Total\n",
              "count   7.267000e+03        7267.000000  ...  7.267000e+03   7.267000e+03\n",
              "mean    1.054318e+07          10.045961  ...  7.867260e+04   1.028333e+07\n",
              "std     2.684171e+07         224.507363  ...  1.792886e+06   2.673843e+07\n",
              "min     0.000000e+00           1.000000  ... -1.100000e+01   0.000000e+00\n",
              "25%     2.440000e+02           2.000000  ...  3.000000e+00   3.000000e+00\n",
              "50%     1.031110e+05           3.000000  ...  5.200000e+01   2.521900e+04\n",
              "75%     5.568744e+06           3.000000  ...  1.320000e+02   5.511692e+06\n",
              "max     1.199984e+08       19004.000000  ...  6.410000e+07   1.200000e+08\n",
              "\n",
              "[8 rows x 20 columns]"
            ]
          },
          "metadata": {
            "tags": []
          },
          "execution_count": 25
        }
      ]
    },
    {
      "cell_type": "markdown",
      "metadata": {
        "id": "3P69z9kfupES"
      },
      "source": [
        "## 2. Feature importance"
      ]
    },
    {
      "cell_type": "code",
      "metadata": {
        "id": "4BbvfnjTuzeX",
        "outputId": "1fc2667d-543f-4369-dfa0-0155d24f7f85",
        "colab": {
          "base_uri": "https://localhost:8080/",
          "height": 34
        }
      },
      "source": [
        "from sklearn.model_selection import train_test_split\n",
        "X_train, X_test, y_train, y_test = train_test_split(X, y, test_size=0.3, random_state=42)\n",
        "\n",
        "unique, counts = np.unique(y_train, return_counts=True)\n",
        "dict(zip(unique, counts))"
      ],
      "execution_count": 26,
      "outputs": [
        {
          "output_type": "execute_result",
          "data": {
            "text/plain": [
              "{0: 3547, 1: 1539}"
            ]
          },
          "metadata": {
            "tags": []
          },
          "execution_count": 26
        }
      ]
    },
    {
      "cell_type": "markdown",
      "metadata": {
        "id": "wE4AwrX1u6Hj"
      },
      "source": [
        "### Visualization of the decision tree, importance evaluation using a single tree (DecisionTreeClassifier)\n",
        " \n",
        "In the beginning we use one tree - for the convenience of visualization of the classifier. High cross-validation scores even with 5 leaves look suspiciously good, we should look at the data carefully. Parameters for change - test_size in the cell above (train_test_split), max_leaf_nodes in the cell below.\n",
        " \n",
        "By changing the **random_state** parameter, we will get different trees and different features with the highest importance. But the forest will already average individual trees below."
      ]
    },
    {
      "cell_type": "code",
      "metadata": {
        "id": "JtVUvneuyAeI",
        "outputId": "e0cbd5a3-126a-4a98-91a0-1bb7dffb2b58",
        "colab": {
          "base_uri": "https://localhost:8080/",
          "height": 734
        }
      },
      "source": [
        "from sklearn.model_selection import cross_val_score\n",
        "# from sklearn.tree.export import export_text\n",
        "from sklearn.tree import DecisionTreeClassifier\n",
        "decision_tree = DecisionTreeClassifier(max_leaf_nodes=5, random_state=0)\n",
        "decision_tree = decision_tree.fit(X_train[1:100], y_train[1:100])\n",
        "cross_val_score(decision_tree, X_train, y_train, cv=10)"
      ],
      "execution_count": 27,
      "outputs": [
        {
          "output_type": "stream",
          "text": [
            "/usr/local/lib/python3.6/dist-packages/sklearn/model_selection/_validation.py:536: FitFailedWarning: Estimator fit failed. The score on this train-test partition for these parameters will be set to nan. Details: \n",
            "ValueError: Input contains NaN, infinity or a value too large for dtype('float32').\n",
            "\n",
            "  FitFailedWarning)\n",
            "/usr/local/lib/python3.6/dist-packages/sklearn/model_selection/_validation.py:536: FitFailedWarning: Estimator fit failed. The score on this train-test partition for these parameters will be set to nan. Details: \n",
            "ValueError: Input contains NaN, infinity or a value too large for dtype('float32').\n",
            "\n",
            "  FitFailedWarning)\n",
            "/usr/local/lib/python3.6/dist-packages/sklearn/model_selection/_validation.py:536: FitFailedWarning: Estimator fit failed. The score on this train-test partition for these parameters will be set to nan. Details: \n",
            "ValueError: Input contains NaN, infinity or a value too large for dtype('float32').\n",
            "\n",
            "  FitFailedWarning)\n",
            "/usr/local/lib/python3.6/dist-packages/sklearn/model_selection/_validation.py:536: FitFailedWarning: Estimator fit failed. The score on this train-test partition for these parameters will be set to nan. Details: \n",
            "ValueError: Input contains NaN, infinity or a value too large for dtype('float32').\n",
            "\n",
            "  FitFailedWarning)\n",
            "/usr/local/lib/python3.6/dist-packages/sklearn/model_selection/_validation.py:536: FitFailedWarning: Estimator fit failed. The score on this train-test partition for these parameters will be set to nan. Details: \n",
            "ValueError: Input contains NaN, infinity or a value too large for dtype('float32').\n",
            "\n",
            "  FitFailedWarning)\n",
            "/usr/local/lib/python3.6/dist-packages/sklearn/model_selection/_validation.py:536: FitFailedWarning: Estimator fit failed. The score on this train-test partition for these parameters will be set to nan. Details: \n",
            "ValueError: Input contains NaN, infinity or a value too large for dtype('float32').\n",
            "\n",
            "  FitFailedWarning)\n",
            "/usr/local/lib/python3.6/dist-packages/sklearn/model_selection/_validation.py:536: FitFailedWarning: Estimator fit failed. The score on this train-test partition for these parameters will be set to nan. Details: \n",
            "ValueError: Input contains NaN, infinity or a value too large for dtype('float32').\n",
            "\n",
            "  FitFailedWarning)\n",
            "/usr/local/lib/python3.6/dist-packages/sklearn/model_selection/_validation.py:536: FitFailedWarning: Estimator fit failed. The score on this train-test partition for these parameters will be set to nan. Details: \n",
            "ValueError: Input contains NaN, infinity or a value too large for dtype('float32').\n",
            "\n",
            "  FitFailedWarning)\n",
            "/usr/local/lib/python3.6/dist-packages/sklearn/model_selection/_validation.py:536: FitFailedWarning: Estimator fit failed. The score on this train-test partition for these parameters will be set to nan. Details: \n",
            "ValueError: Input contains NaN, infinity or a value too large for dtype('float32').\n",
            "\n",
            "  FitFailedWarning)\n",
            "/usr/local/lib/python3.6/dist-packages/sklearn/model_selection/_validation.py:536: FitFailedWarning: Estimator fit failed. The score on this train-test partition for these parameters will be set to nan. Details: \n",
            "ValueError: Input contains NaN, infinity or a value too large for dtype('float32').\n",
            "\n",
            "  FitFailedWarning)\n"
          ],
          "name": "stderr"
        },
        {
          "output_type": "execute_result",
          "data": {
            "text/plain": [
              "array([nan, nan, nan, nan, nan, nan, nan, nan, nan, nan])"
            ]
          },
          "metadata": {
            "tags": []
          },
          "execution_count": 27
        }
      ]
    },
    {
      "cell_type": "code",
      "metadata": {
        "id": "QH4RxYR14jjz",
        "outputId": "2073b355-6d86-4d1b-fb8a-a253a2a3ec0a",
        "colab": {
          "base_uri": "https://localhost:8080/",
          "height": 153
        }
      },
      "source": [
        "# https://pair-code.github.io/facets/\n",
        "!pip install facets-overview"
      ],
      "execution_count": 28,
      "outputs": [
        {
          "output_type": "stream",
          "text": [
            "Requirement already satisfied: facets-overview in /usr/local/lib/python3.6/dist-packages (1.0.0)\n",
            "Requirement already satisfied: pandas>=0.22.0 in /usr/local/lib/python3.6/dist-packages (from facets-overview) (1.0.5)\n",
            "Requirement already satisfied: numpy>=1.16.0 in /usr/local/lib/python3.6/dist-packages (from facets-overview) (1.18.5)\n",
            "Requirement already satisfied: protobuf>=3.7.0 in /usr/local/lib/python3.6/dist-packages (from facets-overview) (3.12.4)\n",
            "Requirement already satisfied: python-dateutil>=2.6.1 in /usr/local/lib/python3.6/dist-packages (from pandas>=0.22.0->facets-overview) (2.8.1)\n",
            "Requirement already satisfied: pytz>=2017.2 in /usr/local/lib/python3.6/dist-packages (from pandas>=0.22.0->facets-overview) (2018.9)\n",
            "Requirement already satisfied: setuptools in /usr/local/lib/python3.6/dist-packages (from protobuf>=3.7.0->facets-overview) (50.3.0)\n",
            "Requirement already satisfied: six>=1.9 in /usr/local/lib/python3.6/dist-packages (from protobuf>=3.7.0->facets-overview) (1.15.0)\n"
          ],
          "name": "stdout"
        }
      ]
    },
    {
      "cell_type": "code",
      "metadata": {
        "id": "dQ1FzQGG6CNS",
        "outputId": "a3ae2f6b-5a4a-4137-9d6a-0a1445def88c",
        "colab": {
          "base_uri": "https://localhost:8080/",
          "height": 221
        }
      },
      "source": [
        "!wget https://raw.githubusercontent.com/infosecdemos/ml-2020/master/ml-ids/datasets/web_attacks_balanced.zip -O web_attacks_balanced.zip\n",
        "!unzip -u web_attacks_balanced.zip\n",
        "df = pd.read_csv('web_attacks_balanced.csv')"
      ],
      "execution_count": 29,
      "outputs": [
        {
          "output_type": "stream",
          "text": [
            "--2020-09-28 13:48:38--  https://raw.githubusercontent.com/infosecdemos/ml-2020/master/ml-ids/datasets/web_attacks_balanced.zip\n",
            "Resolving raw.githubusercontent.com (raw.githubusercontent.com)... 151.101.0.133, 151.101.64.133, 151.101.128.133, ...\n",
            "Connecting to raw.githubusercontent.com (raw.githubusercontent.com)|151.101.0.133|:443... connected.\n",
            "HTTP request sent, awaiting response... 200 OK\n",
            "Length: 768997 (751K) [application/zip]\n",
            "Saving to: ‘web_attacks_balanced.zip’\n",
            "\n",
            "\rweb_attacks_balance   0%[                    ]       0  --.-KB/s               \rweb_attacks_balance 100%[===================>] 750.97K  --.-KB/s    in 0.1s    \n",
            "\n",
            "2020-09-28 13:48:38 (6.73 MB/s) - ‘web_attacks_balanced.zip’ saved [768997/768997]\n",
            "\n",
            "Archive:  web_attacks_balanced.zip\n"
          ],
          "name": "stdout"
        }
      ]
    },
    {
      "cell_type": "code",
      "metadata": {
        "id": "0juU1aJQ44sk"
      },
      "source": [
        "# Create the feature stats for the datasets and stringify it.\n",
        "import base64\n",
        "from facets_overview.generic_feature_statistics_generator import GenericFeatureStatisticsGenerator\n",
        "\n",
        "gfsg = GenericFeatureStatisticsGenerator()\n",
        "proto = gfsg.ProtoFromDataFrames([{'name': 'train + test', 'table': df}])\n",
        "protostr = base64.b64encode(proto.SerializeToString()).decode(\"utf-8\")"
      ],
      "execution_count": 30,
      "outputs": []
    },
    {
      "cell_type": "code",
      "metadata": {
        "id": "mYvQDTKH5YRr",
        "outputId": "f1baa66d-b189-4215-96d2-f68080414b6b",
        "colab": {
          "base_uri": "https://localhost:8080/",
          "height": 1000
        }
      },
      "source": [
        "# Display the facets overview visualization for this data\n",
        "from IPython.core.display import display, HTML\n",
        "\n",
        "HTML_TEMPLATE = \"\"\"\n",
        "        <script src=\"https://cdnjs.cloudflare.com/ajax/libs/webcomponentsjs/1.3.3/webcomponents-lite.js\"></script>\n",
        "        <link rel=\"import\" href=\"https://raw.githubusercontent.com/PAIR-code/facets/1.0.0/facets-dist/facets-jupyter.html\" >\n",
        "        <facets-overview id=\"elem\"></facets-overview>\n",
        "        <script>\n",
        "          document.querySelector(\"#elem\").protoInput = \"{protostr}\";\n",
        "        </script>\"\"\"\n",
        "html = HTML_TEMPLATE.format(protostr=protostr)\n",
        "display(HTML(html))"
      ],
      "execution_count": 31,
      "outputs": [
        {
          "output_type": "display_data",
          "data": {
            "text/html": [
              "\n",
              "        <script src=\"https://cdnjs.cloudflare.com/ajax/libs/webcomponentsjs/1.3.3/webcomponents-lite.js\"></script>\n",
              "        <link rel=\"import\" href=\"https://raw.githubusercontent.com/PAIR-code/facets/1.0.0/facets-dist/facets-jupyter.html\" >\n",
              "        <facets-overview id=\"elem\"></facets-overview>\n",
              "        <script>\n",
              "          document.querySelector(\"#elem\").protoInput = \"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\";\n",
              "        </script>"
            ],
            "text/plain": [
              "<IPython.core.display.HTML object>"
            ]
          },
          "metadata": {
            "tags": []
          }
        }
      ]
    }
  ]
}