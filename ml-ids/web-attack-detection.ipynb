{
  "nbformat": 4,
  "nbformat_minor": 0,
  "metadata": {
    "colab": {
      "name": "Web Attack Detection (ML IDS)",
      "provenance": [],
      "collapsed_sections": [
        "SCEkDfpOFPQX",
        "3P69z9kfupES",
        "eLikdx9Legm0",
        "eh-k8KdMhJ_Q",
        "Iiskwr3VmoL5",
        "5PElFLh5oYzU",
        "pnHSPBrDodIs"
      ]
    },
    "kernelspec": {
      "name": "python3",
      "display_name": "Python 3"
    }
  },
  "cells": [
    {
      "cell_type": "markdown",
      "metadata": {
        "id": "tGLYJuXmFBZI"
      },
      "source": [
        "# Web attack detection using CICIDS2017 dataset"
      ]
    },
    {
      "cell_type": "markdown",
      "metadata": {
        "id": "sNPL1uYLFF1U"
      },
      "source": [
        "Training data: \"Intrusion Detection Evaluation Dataset\" (CICIDS2017). Description page: https://www.unb.ca/cic/datasets/ids-2017.html\n",
        "\n",
        "The data set is public. Download link: http://205.174.165.80/CICDataset/CIC-IDS-2017/Dataset/\n",
        "\n",
        "CICIDS2017 combines 8 files recorded on different days of observation (PCAP + CSV). Used archive: http://205.174.165.80/CICDataset/CIC-IDS-2017/Dataset/GeneratedLabelledFlows.zip\n",
        "\n",
        "In the downloaded archive GeneratedLabelledFlows.zip the file \"Thursday\" Thursday-WorkingHours-Morning-WebAttacks.pcap_ISCX.csv is selected.\n",
        "\n",
        "Sources:\n",
        "\n",
        "* [Sharafaldin2018] Iman Sharafaldin, Arash Habibi Lashkari and Ali A. Ghorbani. Toward Generating a New Intrusion Detection Dataset and Intrusion Traffic Characterization. 2018\n",
        "* [Kostas2018] Kahraman Kostas. Anomaly Detection in Networks Using Machine Learning. 2018 (error was found in assessing the importance of features)\n",
        "* https://github.com/bozbil/Anomaly-Detection-in-Networks-Using-Machine-Learning (error was found in assessing the importance of features)"
      ]
    },
    {
      "cell_type": "markdown",
      "metadata": {
        "id": "SCEkDfpOFPQX"
      },
      "source": [
        "## Data preprocessing\n",
        "\n",
        "Source: https://github.com/bozbil/Anomaly-Detection-in-Networks-Using-Machine-Learning/blob/master/01_preprocessing.ipynb [Kostas2018]."
      ]
    },
    {
      "cell_type": "code",
      "metadata": {
        "id": "hJVAToeYFV2Q"
      },
      "source": [
        "import pandas as pd\n",
        "import numpy as np\n",
        "from sklearn import preprocessing\n",
        "import matplotlib.pyplot as plt\n",
        "%matplotlib inline"
      ],
      "execution_count": 1,
      "outputs": []
    },
    {
      "cell_type": "markdown",
      "metadata": {
        "id": "PFtoDi5mFkut"
      },
      "source": [
        "Download the dataset from Github to Google Colab and unzip it."
      ]
    },
    {
      "cell_type": "code",
      "metadata": {
        "id": "fX1ARK3i3xQs",
        "outputId": "432df8d3-a9df-4834-ac29-6ce33d7cc506",
        "colab": {
          "base_uri": "https://localhost:8080/",
          "height": 221
        }
      },
      "source": [
        "!wget https://raw.githubusercontent.com/infosecdemos/ml-2020/master/ml-ids/datasets/Thursday-WorkingHours-Morning-WebAttacks.pcap_ISCX.zip -O dataset.zip\n",
        "!unzip -u dataset.zip"
      ],
      "execution_count": 2,
      "outputs": [
        {
          "output_type": "stream",
          "text": [
            "--2020-09-29 07:05:31--  https://raw.githubusercontent.com/infosecdemos/ml-2020/master/ml-ids/datasets/Thursday-WorkingHours-Morning-WebAttacks.pcap_ISCX.zip\n",
            "Resolving raw.githubusercontent.com (raw.githubusercontent.com)... 151.101.0.133, 151.101.64.133, 151.101.128.133, ...\n",
            "Connecting to raw.githubusercontent.com (raw.githubusercontent.com)|151.101.0.133|:443... connected.\n",
            "HTTP request sent, awaiting response... 200 OK\n",
            "Length: 15190336 (14M) [application/zip]\n",
            "Saving to: ‘dataset.zip’\n",
            "\n",
            "dataset.zip         100%[===================>]  14.49M  30.4MB/s    in 0.5s    \n",
            "\n",
            "2020-09-29 07:05:32 (30.4 MB/s) - ‘dataset.zip’ saved [15190336/15190336]\n",
            "\n",
            "Archive:  dataset.zip\n"
          ],
          "name": "stdout"
        }
      ]
    },
    {
      "cell_type": "markdown",
      "metadata": {
        "id": "i4vnx_OaGAl0"
      },
      "source": [
        "We use \"engine=python\" to avoid the \"UnicodeDecodeError: 'utf-8' codec can't decode byte 0x96 in position 11: invalid start byte\" encoding error."
      ]
    },
    {
      "cell_type": "code",
      "metadata": {
        "id": "yIqeKHKYGCoz"
      },
      "source": [
        "df = pd.read_csv('Thursday-WorkingHours-Morning-WebAttacks.pcap_ISCX.csv', engine='python')"
      ],
      "execution_count": 3,
      "outputs": []
    },
    {
      "cell_type": "markdown",
      "metadata": {
        "id": "3U-gQIAmhamL"
      },
      "source": [
        "Thursday-WorkingHours-Morning-WebAttacks.pcap_ISCX.csv file contains 458968 records, 85 columns."
      ]
    },
    {
      "cell_type": "code",
      "metadata": {
        "id": "QMkibc_W4hpQ",
        "outputId": "f8965510-6788-45e3-eda8-1d29ff1dd68a",
        "colab": {
          "base_uri": "https://localhost:8080/",
          "height": 34
        }
      },
      "source": [
        "df.shape"
      ],
      "execution_count": 4,
      "outputs": [
        {
          "output_type": "execute_result",
          "data": {
            "text/plain": [
              "(458968, 85)"
            ]
          },
          "metadata": {
            "tags": []
          },
          "execution_count": 4
        }
      ]
    },
    {
      "cell_type": "markdown",
      "metadata": {
        "id": "E5kIR-daheeV"
      },
      "source": [
        "The columns \"Fwd Header Length\" and \"Fwd Header Length.1\" are identical, the second one is removed, 84 columns remain."
      ]
    },
    {
      "cell_type": "code",
      "metadata": {
        "id": "83UFLCVlhjKF",
        "outputId": "b0c3baf0-9395-48f9-a829-953fb764f634",
        "colab": {
          "base_uri": "https://localhost:8080/",
          "height": 34
        }
      },
      "source": [
        "df.columns = df.columns.str.strip()\n",
        "df = df.drop(columns=['Fwd Header Length.1'])\n",
        "df.shape"
      ],
      "execution_count": 5,
      "outputs": [
        {
          "output_type": "execute_result",
          "data": {
            "text/plain": [
              "(458968, 84)"
            ]
          },
          "metadata": {
            "tags": []
          },
          "execution_count": 5
        }
      ]
    },
    {
      "cell_type": "markdown",
      "metadata": {
        "id": "BIQQvtxZhiTZ"
      },
      "source": [
        "When assessing the distribution of labels, it turns out that out of 458968 records there are many blank records (\"BENIGN\" - benign background traffic)."
      ]
    },
    {
      "cell_type": "code",
      "metadata": {
        "id": "HrGLjk5nhrGE",
        "outputId": "b5754c62-bc6c-43b3-8c67-032c07ce20e6",
        "colab": {
          "base_uri": "https://localhost:8080/",
          "height": 51
        }
      },
      "source": [
        "df['Label'].unique()"
      ],
      "execution_count": 6,
      "outputs": [
        {
          "output_type": "execute_result",
          "data": {
            "text/plain": [
              "array(['BENIGN', 'Web Attack � Brute Force', 'Web Attack � XSS',\n",
              "       'Web Attack � Sql Injection', nan], dtype=object)"
            ]
          },
          "metadata": {
            "tags": []
          },
          "execution_count": 6
        }
      ]
    },
    {
      "cell_type": "code",
      "metadata": {
        "id": "HnpQqQ8fhxwN",
        "outputId": "1875b6bf-6f59-466a-a633-8268a9a8b19d",
        "colab": {
          "base_uri": "https://localhost:8080/",
          "height": 102
        }
      },
      "source": [
        "df['Label'].value_counts()"
      ],
      "execution_count": 7,
      "outputs": [
        {
          "output_type": "execute_result",
          "data": {
            "text/plain": [
              "BENIGN                        168186\n",
              "Web Attack � Brute Force        1507\n",
              "Web Attack � XSS                 652\n",
              "Web Attack � Sql Injection        21\n",
              "Name: Label, dtype: int64"
            ]
          },
          "metadata": {
            "tags": []
          },
          "execution_count": 7
        }
      ]
    },
    {
      "cell_type": "markdown",
      "metadata": {
        "id": "l7lpytF7h6D4"
      },
      "source": [
        "Delete blank records."
      ]
    },
    {
      "cell_type": "code",
      "metadata": {
        "id": "7ltfHW8dh7Tw",
        "outputId": "d53015b1-03a4-4d7c-9440-ae0f3fcee7b7",
        "colab": {
          "base_uri": "https://localhost:8080/",
          "height": 34
        }
      },
      "source": [
        "df = df.drop(df[pd.isnull(df['Flow ID'])].index)\n",
        "df.shape"
      ],
      "execution_count": 8,
      "outputs": [
        {
          "output_type": "execute_result",
          "data": {
            "text/plain": [
              "(170366, 84)"
            ]
          },
          "metadata": {
            "tags": []
          },
          "execution_count": 8
        }
      ]
    },
    {
      "cell_type": "markdown",
      "metadata": {
        "id": "lhLxwK5Zh9yu"
      },
      "source": [
        "Replace the NaN values with zeros."
      ]
    },
    {
      "cell_type": "code",
      "metadata": {
        "id": "OLJrjaW3iC0a"
      },
      "source": [
        "df.fillna(0, inplace=True)"
      ],
      "execution_count": 9,
      "outputs": []
    },
    {
      "cell_type": "markdown",
      "metadata": {
        "id": "ZN6DKttXiH7J"
      },
      "source": [
        "The \"Flow Bytes/s\" and \"Flow Packets/s\" columns have non-numerical values, replace them."
      ]
    },
    {
      "cell_type": "code",
      "metadata": {
        "id": "mZ2ffToLi02x"
      },
      "source": [
        "df.replace('Infinity', -1, inplace=True)\n",
        "df[[\"Flow Bytes/s\", \"Flow Packets/s\"]] = df[[\"Flow Bytes/s\", \"Flow Packets/s\"]].apply(pd.to_numeric)\n",
        "df.replace([np.inf, -np.inf, np.nan], -1, inplace=True)"
      ],
      "execution_count": 10,
      "outputs": []
    },
    {
      "cell_type": "markdown",
      "metadata": {
        "id": "2JMv7gKfi4nI"
      },
      "source": [
        "Convert string characters to numbers, use LabelEncoder, not OneHotEncoder."
      ]
    },
    {
      "cell_type": "code",
      "metadata": {
        "id": "XmYOMG0Ti8Wh",
        "outputId": "bf6ffbc1-8b29-482c-fd6e-0c6a46951be5",
        "colab": {
          "base_uri": "https://localhost:8080/",
          "height": 34
        }
      },
      "source": [
        "string_features = list(df.select_dtypes(include=['object']).columns)\n",
        "string_features.remove('Label')\n",
        "string_features"
      ],
      "execution_count": 11,
      "outputs": [
        {
          "output_type": "execute_result",
          "data": {
            "text/plain": [
              "['Flow ID', 'Source IP', 'Destination IP', 'Timestamp']"
            ]
          },
          "metadata": {
            "tags": []
          },
          "execution_count": 11
        }
      ]
    },
    {
      "cell_type": "code",
      "metadata": {
        "id": "ySZ2eW_2jCfQ"
      },
      "source": [
        "le = preprocessing.LabelEncoder()\n",
        "df[string_features] = df[string_features].apply(lambda col: le.fit_transform(col))"
      ],
      "execution_count": 12,
      "outputs": []
    },
    {
      "cell_type": "markdown",
      "metadata": {
        "id": "K94al8HAjJEN"
      },
      "source": [
        "### Undersampling against unbalance\n",
        "\n",
        "Dataset is unbalanced: total records = 170366, \"BENIGN\" records = 168186, records with attacks much less: 1507 + 652 + 21 = 2180."
      ]
    },
    {
      "cell_type": "code",
      "metadata": {
        "id": "7K7iWbNMjWrZ",
        "outputId": "7ce9991a-9f78-4ee3-a190-ad8e6e376fc7",
        "colab": {
          "base_uri": "https://localhost:8080/",
          "height": 34
        }
      },
      "source": [
        "benign_total = len(df[df['Label'] == \"BENIGN\"])\n",
        "benign_total"
      ],
      "execution_count": 13,
      "outputs": [
        {
          "output_type": "execute_result",
          "data": {
            "text/plain": [
              "168186"
            ]
          },
          "metadata": {
            "tags": []
          },
          "execution_count": 13
        }
      ]
    },
    {
      "cell_type": "code",
      "metadata": {
        "id": "nVs_xEHFjY5q",
        "outputId": "f1c5e3e9-5dba-4061-d578-8089dc63c61f",
        "colab": {
          "base_uri": "https://localhost:8080/",
          "height": 34
        }
      },
      "source": [
        "attack_total = len(df[df['Label'] != \"BENIGN\"])\n",
        "attack_total"
      ],
      "execution_count": 14,
      "outputs": [
        {
          "output_type": "execute_result",
          "data": {
            "text/plain": [
              "2180"
            ]
          },
          "metadata": {
            "tags": []
          },
          "execution_count": 14
        }
      ]
    },
    {
      "cell_type": "code",
      "metadata": {
        "id": "PFvPOea2jhMt",
        "outputId": "c6ca7662-2455-48de-f3aa-41191655a252",
        "colab": {
          "base_uri": "https://localhost:8080/",
          "height": 102
        }
      },
      "source": [
        "df.to_csv(\"web_attacks_unbalanced.csv\", index=False)\n",
        "df['Label'].value_counts()"
      ],
      "execution_count": 15,
      "outputs": [
        {
          "output_type": "execute_result",
          "data": {
            "text/plain": [
              "BENIGN                        168186\n",
              "Web Attack � Brute Force        1507\n",
              "Web Attack � XSS                 652\n",
              "Web Attack � Sql Injection        21\n",
              "Name: Label, dtype: int64"
            ]
          },
          "metadata": {
            "tags": []
          },
          "execution_count": 15
        }
      ]
    },
    {
      "cell_type": "markdown",
      "metadata": {
        "id": "6A9-rS7OjyFl"
      },
      "source": [
        "We use **undersampling** to correct class imbalances: we remove most of the \"BENIGN\" records.\n",
        "\n",
        "Form a balanced dataset web_attacks_balanced.csv in proportion: 30% attack (2180 records), 70% benign data (2180 / 30 * 70 ~ = 5087 records).\n",
        "\n",
        "Algorithm to form a balanced df_balanced dataset:\n",
        "\n",
        "* All the records with the attacks are copied to the new dataset.\n",
        "* There are two conditions for copying \"BENIGN\" records to the new dataset:\n",
        " \n",
        "     1. The next record is copyied with the benign_inc_probability.\n",
        "     2. The total number of \"BENIGN\" records must not exceed the limit of 5087 records."
      ]
    },
    {
      "cell_type": "markdown",
      "metadata": {
        "id": "aVZutNOZj_N9"
      },
      "source": [
        "Сalculate the probability of copying a \"BENIGN\" record. The enlargement multiplier is used to get exactly 70% benign data (5087 records)."
      ]
    },
    {
      "cell_type": "code",
      "metadata": {
        "id": "XaW7sEjHkB3K",
        "outputId": "27e0c165-6226-48a5-cab6-9d94ad80566e",
        "colab": {
          "base_uri": "https://localhost:8080/",
          "height": 34
        }
      },
      "source": [
        "enlargement = 1.1\n",
        "benign_included_max = attack_total / 30 * 70\n",
        "benign_inc_probability = (benign_included_max / benign_total) * enlargement\n",
        "print(benign_included_max, benign_inc_probability)"
      ],
      "execution_count": 16,
      "outputs": [
        {
          "output_type": "stream",
          "text": [
            "5086.666666666667 0.03326872232726466\n"
          ],
          "name": "stdout"
        }
      ]
    },
    {
      "cell_type": "markdown",
      "metadata": {
        "id": "G3ZXh6fTkFK_"
      },
      "source": [
        "Copy records from df to df_balanced, save dataset **web_attacks_balanced.csv**."
      ]
    },
    {
      "cell_type": "code",
      "metadata": {
        "id": "0MdiMPmdkICk"
      },
      "source": [
        "import random\n",
        "indexes = []\n",
        "benign_included_count = 0\n",
        "for index, row in df.iterrows():\n",
        "    if (row['Label'] != \"BENIGN\"):\n",
        "        indexes.append(index)\n",
        "    else:\n",
        "        # Copying with benign_inc_probability\n",
        "        if random.random() > benign_inc_probability: continue\n",
        "        # Have we achieved 70% (5087 records)?\n",
        "        if benign_included_count > benign_included_max: continue\n",
        "        benign_included_count += 1\n",
        "        indexes.append(index)\n",
        "df_balanced = df.loc[indexes]"
      ],
      "execution_count": 17,
      "outputs": []
    },
    {
      "cell_type": "code",
      "metadata": {
        "id": "cqypBDIdkKN4",
        "outputId": "81585c22-c45e-4c60-b35a-c6272a1c263e",
        "colab": {
          "base_uri": "https://localhost:8080/",
          "height": 102
        }
      },
      "source": [
        "df_balanced['Label'].value_counts()"
      ],
      "execution_count": 18,
      "outputs": [
        {
          "output_type": "execute_result",
          "data": {
            "text/plain": [
              "BENIGN                        5087\n",
              "Web Attack � Brute Force      1507\n",
              "Web Attack � XSS               652\n",
              "Web Attack � Sql Injection      21\n",
              "Name: Label, dtype: int64"
            ]
          },
          "metadata": {
            "tags": []
          },
          "execution_count": 18
        }
      ]
    },
    {
      "cell_type": "markdown",
      "metadata": {
        "id": "hDPCkmutkNYD"
      },
      "source": [
        "If necessary, we can keep a single class of attack for experiments."
      ]
    },
    {
      "cell_type": "code",
      "metadata": {
        "id": "1_q52wjdkPZ8"
      },
      "source": [
        "# df_balanced = df_balanced[df_balanced['Label'] != \"Web Attack – Brute Force\"]\n",
        "# df_balanced = df_balanced[df_balanced['Label'] != \"Web Attack – Sql Injection\"]\n",
        "# df_balanced['Label'].value_counts()"
      ],
      "execution_count": 19,
      "outputs": []
    },
    {
      "cell_type": "code",
      "metadata": {
        "id": "qiYFzlGkkSXe"
      },
      "source": [
        "df_balanced.to_csv(\"web_attacks_balanced.csv\", index=False)"
      ],
      "execution_count": 20,
      "outputs": []
    },
    {
      "cell_type": "markdown",
      "metadata": {
        "id": "-IEyQxBDt5sG"
      },
      "source": [
        "### Preparing data for training"
      ]
    },
    {
      "cell_type": "markdown",
      "metadata": {
        "id": "1k2G5UAEt9cw"
      },
      "source": [
        "7 features (Flow ID, Source IP, Source Port, Destination IP, Destination Port, Protocol, Timestamp) are excluded from the dataset. The hypothesis is that the \"shape\" of the data being transmitted is more important than these attributes. In addition, ports and addresses can be substituted by an attacker, so it is better that the ML algorithm does not take these features into account in training [Kostas2018]."
      ]
    },
    {
      "cell_type": "code",
      "metadata": {
        "id": "8yza95R2t_1N"
      },
      "source": [
        "df = pd.read_csv('web_attacks_balanced.csv')\n",
        "excluded = ['Flow ID', 'Source IP', 'Source Port', 'Destination IP', 'Destination Port', 'Protocol', 'Timestamp']\n",
        "df = df.drop(columns=excluded)"
      ],
      "execution_count": 21,
      "outputs": []
    },
    {
      "cell_type": "markdown",
      "metadata": {
        "id": "eCxptOz2uDIV"
      },
      "source": [
        "Below at the stage of importance estimation the \"Init_Win_bytes_backward\" feature has the maximum value. After viewing the source dataset, it seems that an inaccuracy was made in forming the dataset. \n",
        "\n",
        "It turns out that it is possible to make a fairly accurate classification by one feature.\n",
        "\n",
        "Description of features: http://www.netflowmeter.ca/netflowmeter.html\n",
        "\n",
        "     Init_Win_bytes_backward - The total number of bytes sent in initial window in the backward direction\n",
        "     Init_Win_bytes_forward - The total number of bytes sent in initial window in the forward direction"
      ]
    },
    {
      "cell_type": "code",
      "metadata": {
        "id": "lYhtGKqJuUQA",
        "outputId": "aade2290-801b-44a9-d1b8-880b3f40d121",
        "colab": {
          "base_uri": "https://localhost:8080/",
          "height": 295
        }
      },
      "source": [
        "if 'Init_Win_bytes_backward' in df.columns:\n",
        "    df['Init_Win_bytes_backward'].hist(figsize=(6,4), bins=10);\n",
        "    plt.title(\"Init_Win_bytes_backward\")\n",
        "    plt.xlabel(\"Value bins\")\n",
        "    plt.ylabel(\"Density\")\n",
        "    plt.savefig('Init_Win_bytes_backward.png', dpi=300)"
      ],
      "execution_count": 22,
      "outputs": [
        {
          "output_type": "display_data",
          "data": {
            "image/png": "[encoded data removed]",
            "text/plain": [
              "<Figure size 432x288 with 1 Axes>"
            ]
          },
          "metadata": {
            "tags": [],
            "needs_background": "light"
          }
        }
      ]
    },
    {
      "cell_type": "code",
      "metadata": {
        "id": "XPbBcbj_uYMV",
        "outputId": "88d26808-c28b-43d1-91d5-9bc2dc6a9d04",
        "colab": {
          "base_uri": "https://localhost:8080/",
          "height": 295
        }
      },
      "source": [
        "if 'Init_Win_bytes_forward' in df.columns:\n",
        "    df['Init_Win_bytes_forward'].hist(figsize=(6,4), bins=10);\n",
        "    plt.title(\"Init_Win_bytes_forward\")\n",
        "    plt.xlabel(\"Value bins\")\n",
        "    plt.ylabel(\"Density\")\n",
        "    plt.savefig('Init_Win_bytes_forward.png', dpi=300)"
      ],
      "execution_count": 23,
      "outputs": [
        {
          "output_type": "display_data",
          "data": {
            "image/png": "[encoded data removed]",
            "text/plain": [
              "<Figure size 432x288 with 1 Axes>"
            ]
          },
          "metadata": {
            "tags": [],
            "needs_background": "light"
          }
        }
      ]
    },
    {
      "cell_type": "code",
      "metadata": {
        "id": "Uw6liMMducM5"
      },
      "source": [
        "excluded2 = ['Init_Win_bytes_backward', 'Init_Win_bytes_forward']\n",
        "df = df.drop(columns=excluded2)"
      ],
      "execution_count": 24,
      "outputs": []
    },
    {
      "cell_type": "markdown",
      "metadata": {
        "id": "mY251UVouePR"
      },
      "source": [
        "The Label column is encoded as follows: \"BENIGN\" = 0, attack = 1."
      ]
    },
    {
      "cell_type": "code",
      "metadata": {
        "id": "a-FDOBmOufo6",
        "outputId": "8ba70aa2-818b-48d5-a74b-9a5ddf0b76f7",
        "colab": {
          "base_uri": "https://localhost:8080/",
          "height": 34
        }
      },
      "source": [
        "df['Label'] = df['Label'].apply(lambda x: 0 if x == 'BENIGN' else 1)\n",
        "y = df['Label'].values\n",
        "X = df.drop(columns=['Label'])\n",
        "print(X.shape, y.shape)"
      ],
      "execution_count": 25,
      "outputs": [
        {
          "output_type": "stream",
          "text": [
            "(7267, 74) (7267,)\n"
          ],
          "name": "stdout"
        }
      ]
    },
    {
      "cell_type": "markdown",
      "metadata": {
        "id": "3P69z9kfupES"
      },
      "source": [
        "## Feature importance"
      ]
    },
    {
      "cell_type": "code",
      "metadata": {
        "id": "4BbvfnjTuzeX",
        "outputId": "55719ff0-84a0-4568-ebda-df2f479bc71c",
        "colab": {
          "base_uri": "https://localhost:8080/",
          "height": 34
        }
      },
      "source": [
        "from sklearn.model_selection import train_test_split\n",
        "X_train, X_test, y_train, y_test = train_test_split(X, y, test_size=0.3, random_state=42)\n",
        "\n",
        "unique, counts = np.unique(y_train, return_counts=True)\n",
        "dict(zip(unique, counts))"
      ],
      "execution_count": 26,
      "outputs": [
        {
          "output_type": "execute_result",
          "data": {
            "text/plain": [
              "{0: 3527, 1: 1559}"
            ]
          },
          "metadata": {
            "tags": []
          },
          "execution_count": 26
        }
      ]
    },
    {
      "cell_type": "markdown",
      "metadata": {
        "id": "wE4AwrX1u6Hj"
      },
      "source": [
        "### Visualization of the decision tree, importance evaluation using a single tree (DecisionTreeClassifier)\n",
        " \n",
        "In the beginning we use one tree - for the convenience of visualization of the classifier. High cross-validation scores even with 5 leaves look suspiciously good, we should look at the data carefully. Parameters for change - test_size in the cell above (train_test_split), max_leaf_nodes in the cell below.\n",
        " \n",
        "By changing the **random_state** parameter, we will get different trees and different features with the highest importance. But the forest will already average individual trees below."
      ]
    },
    {
      "cell_type": "code",
      "metadata": {
        "id": "JtVUvneuyAeI",
        "outputId": "582feeb2-a10f-4615-d3a7-74b734cddaf2",
        "colab": {
          "base_uri": "https://localhost:8080/",
          "height": 51
        }
      },
      "source": [
        "from sklearn.model_selection import cross_val_score\n",
        "from sklearn.tree import DecisionTreeClassifier\n",
        "decision_tree = DecisionTreeClassifier(max_leaf_nodes=5, random_state=0)\n",
        "decision_tree = decision_tree.fit(X_train, y_train)\n",
        "cross_val_score(decision_tree, X_train, y_train, cv=10)"
      ],
      "execution_count": 27,
      "outputs": [
        {
          "output_type": "execute_result",
          "data": {
            "text/plain": [
              "array([0.94891945, 0.95481336, 0.94499018, 0.94891945, 0.95088409,\n",
              "       0.94891945, 0.95472441, 0.94094488, 0.96259843, 0.95275591])"
            ]
          },
          "metadata": {
            "tags": []
          },
          "execution_count": 27
        }
      ]
    },
    {
      "cell_type": "code",
      "metadata": {
        "id": "cITpkfwyCqqU",
        "outputId": "d8120dd9-fc45-4746-b25d-cc488863c6e8",
        "colab": {
          "base_uri": "https://localhost:8080/",
          "height": 255
        }
      },
      "source": [
        "from sklearn.tree import export_text\n",
        "r = export_text(decision_tree, feature_names=X_train.columns.to_list())\n",
        "print(r)"
      ],
      "execution_count": 28,
      "outputs": [
        {
          "output_type": "stream",
          "text": [
            "|--- Packet Length Mean <= 0.57\n",
            "|   |--- Fwd IAT Std <= 3526476.62\n",
            "|   |   |--- class: 0\n",
            "|   |--- Fwd IAT Std >  3526476.62\n",
            "|   |   |--- Fwd IAT Min <= 15017.00\n",
            "|   |   |   |--- class: 1\n",
            "|   |   |--- Fwd IAT Min >  15017.00\n",
            "|   |   |   |--- class: 0\n",
            "|--- Packet Length Mean >  0.57\n",
            "|   |--- Subflow Fwd Bytes <= 35001.00\n",
            "|   |   |--- class: 0\n",
            "|   |--- Subflow Fwd Bytes >  35001.00\n",
            "|   |   |--- class: 1\n",
            "\n"
          ],
          "name": "stdout"
        }
      ]
    },
    {
      "cell_type": "code",
      "metadata": {
        "id": "6xpZlcv_-J_W",
        "outputId": "7b256ccd-64c0-4ad4-a34b-14e7275cfeab",
        "colab": {
          "base_uri": "https://localhost:8080/",
          "height": 518
        }
      },
      "source": [
        "from graphviz import Source\n",
        "from sklearn import tree\n",
        "Source(tree.export_graphviz(decision_tree, out_file=None, feature_names=X.columns))"
      ],
      "execution_count": 29,
      "outputs": [
        {
          "output_type": "execute_result",
          "data": {
            "text/plain": [
              "<graphviz.files.Source at 0x7fe95cb83b38>"
            ],
            "image/svg+xml": "<?xml version=\"1.0\" encoding=\"UTF-8\" standalone=\"no\"?>\n<!DOCTYPE svg PUBLIC \"-//W3C//DTD SVG 1.1//EN\"\n \"http://www.w3.org/Graphics/SVG/1.1/DTD/svg11.dtd\">\n<!-- Generated by graphviz version 2.40.1 (20161225.0304)\n -->\n<!-- Title: Tree Pages: 1 -->\n<svg width=\"612pt\" height=\"373pt\"\n viewBox=\"0.00 0.00 611.50 373.00\" xmlns=\"http://www.w3.org/2000/svg\" xmlns:xlink=\"http://www.w3.org/1999/xlink\">\n<g id=\"graph0\" class=\"graph\" transform=\"scale(1 1) rotate(0) translate(4 369)\">\n<title>Tree</title>\n<polygon fill=\"#ffffff\" stroke=\"transparent\" points=\"-4,4 -4,-369 607.5,-369 607.5,4 -4,4\"/>\n<!-- 0 -->\n<g id=\"node1\" class=\"node\">\n<title>0</title>\n<polygon fill=\"none\" stroke=\"#000000\" points=\"421,-365 228,-365 228,-297 421,-297 421,-365\"/>\n<text text-anchor=\"middle\" x=\"324.5\" y=\"-349.8\" font-family=\"Times,serif\" font-size=\"14.00\" fill=\"#000000\">Packet Length Mean &lt;= 0.574</text>\n<text text-anchor=\"middle\" x=\"324.5\" y=\"-334.8\" font-family=\"Times,serif\" font-size=\"14.00\" fill=\"#000000\">gini = 0.425</text>\n<text text-anchor=\"middle\" x=\"324.5\" y=\"-319.8\" font-family=\"Times,serif\" font-size=\"14.00\" fill=\"#000000\">samples = 5086</text>\n<text text-anchor=\"middle\" x=\"324.5\" y=\"-304.8\" font-family=\"Times,serif\" font-size=\"14.00\" fill=\"#000000\">value = [3527, 1559]</text>\n</g>\n<!-- 1 -->\n<g id=\"node2\" class=\"node\">\n<title>1</title>\n<polygon fill=\"none\" stroke=\"#000000\" points=\"313,-261 118,-261 118,-193 313,-193 313,-261\"/>\n<text text-anchor=\"middle\" x=\"215.5\" y=\"-245.8\" font-family=\"Times,serif\" font-size=\"14.00\" fill=\"#000000\">Fwd IAT Std &lt;= 3526476.625</text>\n<text text-anchor=\"middle\" x=\"215.5\" y=\"-230.8\" font-family=\"Times,serif\" font-size=\"14.00\" fill=\"#000000\">gini = 0.312</text>\n<text text-anchor=\"middle\" x=\"215.5\" y=\"-215.8\" font-family=\"Times,serif\" font-size=\"14.00\" fill=\"#000000\">samples = 1766</text>\n<text text-anchor=\"middle\" x=\"215.5\" y=\"-200.8\" font-family=\"Times,serif\" font-size=\"14.00\" fill=\"#000000\">value = [341, 1425]</text>\n</g>\n<!-- 0&#45;&gt;1 -->\n<g id=\"edge1\" class=\"edge\">\n<title>0&#45;&gt;1</title>\n<path fill=\"none\" stroke=\"#000000\" d=\"M288.8093,-296.9465C279.2109,-287.7884 268.7253,-277.7838 258.7634,-268.2788\"/>\n<polygon fill=\"#000000\" stroke=\"#000000\" points=\"260.9221,-265.5009 251.2709,-261.13 256.0898,-270.5655 260.9221,-265.5009\"/>\n<text text-anchor=\"middle\" x=\"251.8576\" y=\"-282.4231\" font-family=\"Times,serif\" font-size=\"14.00\" fill=\"#000000\">True</text>\n</g>\n<!-- 2 -->\n<g id=\"node7\" class=\"node\">\n<title>2</title>\n<polygon fill=\"none\" stroke=\"#000000\" points=\"536,-261 331,-261 331,-193 536,-193 536,-261\"/>\n<text text-anchor=\"middle\" x=\"433.5\" y=\"-245.8\" font-family=\"Times,serif\" font-size=\"14.00\" fill=\"#000000\">Subflow Fwd Bytes &lt;= 35001.0</text>\n<text text-anchor=\"middle\" x=\"433.5\" y=\"-230.8\" font-family=\"Times,serif\" font-size=\"14.00\" fill=\"#000000\">gini = 0.077</text>\n<text text-anchor=\"middle\" x=\"433.5\" y=\"-215.8\" font-family=\"Times,serif\" font-size=\"14.00\" fill=\"#000000\">samples = 3320</text>\n<text text-anchor=\"middle\" x=\"433.5\" y=\"-200.8\" font-family=\"Times,serif\" font-size=\"14.00\" fill=\"#000000\">value = [3186, 134]</text>\n</g>\n<!-- 0&#45;&gt;2 -->\n<g id=\"edge6\" class=\"edge\">\n<title>0&#45;&gt;2</title>\n<path fill=\"none\" stroke=\"#000000\" d=\"M360.1907,-296.9465C369.7891,-287.7884 380.2747,-277.7838 390.2366,-268.2788\"/>\n<polygon fill=\"#000000\" stroke=\"#000000\" points=\"392.9102,-270.5655 397.7291,-261.13 388.0779,-265.5009 392.9102,-270.5655\"/>\n<text text-anchor=\"middle\" x=\"397.1424\" y=\"-282.4231\" font-family=\"Times,serif\" font-size=\"14.00\" fill=\"#000000\">False</text>\n</g>\n<!-- 3 -->\n<g id=\"node3\" class=\"node\">\n<title>3</title>\n<polygon fill=\"none\" stroke=\"#000000\" points=\"125,-149.5 0,-149.5 0,-96.5 125,-96.5 125,-149.5\"/>\n<text text-anchor=\"middle\" x=\"62.5\" y=\"-134.3\" font-family=\"Times,serif\" font-size=\"14.00\" fill=\"#000000\">gini = 0.428</text>\n<text text-anchor=\"middle\" x=\"62.5\" y=\"-119.3\" font-family=\"Times,serif\" font-size=\"14.00\" fill=\"#000000\">samples = 465</text>\n<text text-anchor=\"middle\" x=\"62.5\" y=\"-104.3\" font-family=\"Times,serif\" font-size=\"14.00\" fill=\"#000000\">value = [321, 144]</text>\n</g>\n<!-- 1&#45;&gt;3 -->\n<g id=\"edge2\" class=\"edge\">\n<title>1&#45;&gt;3</title>\n<path fill=\"none\" stroke=\"#000000\" d=\"M165.4021,-192.9465C147.577,-180.8301 127.5721,-167.232 109.9735,-155.2696\"/>\n<polygon fill=\"#000000\" stroke=\"#000000\" points=\"111.7855,-152.2692 101.5476,-149.5422 107.8503,-158.0584 111.7855,-152.2692\"/>\n</g>\n<!-- 4 -->\n<g id=\"node4\" class=\"node\">\n<title>4</title>\n<polygon fill=\"none\" stroke=\"#000000\" points=\"313.5,-157 143.5,-157 143.5,-89 313.5,-89 313.5,-157\"/>\n<text text-anchor=\"middle\" x=\"228.5\" y=\"-141.8\" font-family=\"Times,serif\" font-size=\"14.00\" fill=\"#000000\">Fwd IAT Min &lt;= 15017.0</text>\n<text text-anchor=\"middle\" x=\"228.5\" y=\"-126.8\" font-family=\"Times,serif\" font-size=\"14.00\" fill=\"#000000\">gini = 0.03</text>\n<text text-anchor=\"middle\" x=\"228.5\" y=\"-111.8\" font-family=\"Times,serif\" font-size=\"14.00\" fill=\"#000000\">samples = 1301</text>\n<text text-anchor=\"middle\" x=\"228.5\" y=\"-96.8\" font-family=\"Times,serif\" font-size=\"14.00\" fill=\"#000000\">value = [20, 1281]</text>\n</g>\n<!-- 1&#45;&gt;4 -->\n<g id=\"edge3\" class=\"edge\">\n<title>1&#45;&gt;4</title>\n<path fill=\"none\" stroke=\"#000000\" d=\"M219.7567,-192.9465C220.7892,-184.6863 221.9078,-175.7374 222.9891,-167.0875\"/>\n<polygon fill=\"#000000\" stroke=\"#000000\" points=\"226.4663,-167.4869 224.2338,-157.13 219.5203,-166.6186 226.4663,-167.4869\"/>\n</g>\n<!-- 7 -->\n<g id=\"node5\" class=\"node\">\n<title>7</title>\n<polygon fill=\"none\" stroke=\"#000000\" points=\"223,-53 106,-53 106,0 223,0 223,-53\"/>\n<text text-anchor=\"middle\" x=\"164.5\" y=\"-37.8\" font-family=\"Times,serif\" font-size=\"14.00\" fill=\"#000000\">gini = 0.002</text>\n<text text-anchor=\"middle\" x=\"164.5\" y=\"-22.8\" font-family=\"Times,serif\" font-size=\"14.00\" fill=\"#000000\">samples = 1282</text>\n<text text-anchor=\"middle\" x=\"164.5\" y=\"-7.8\" font-family=\"Times,serif\" font-size=\"14.00\" fill=\"#000000\">value = [1, 1281]</text>\n</g>\n<!-- 4&#45;&gt;7 -->\n<g id=\"edge4\" class=\"edge\">\n<title>4&#45;&gt;7</title>\n<path fill=\"none\" stroke=\"#000000\" d=\"M205.936,-88.9777C200.1059,-80.187 193.8169,-70.7044 187.943,-61.8477\"/>\n<polygon fill=\"#000000\" stroke=\"#000000\" points=\"190.6838,-59.6478 182.2399,-53.2485 184.8502,-63.5167 190.6838,-59.6478\"/>\n</g>\n<!-- 8 -->\n<g id=\"node6\" class=\"node\">\n<title>8</title>\n<polygon fill=\"none\" stroke=\"#000000\" points=\"343.5,-53 241.5,-53 241.5,0 343.5,0 343.5,-53\"/>\n<text text-anchor=\"middle\" x=\"292.5\" y=\"-37.8\" font-family=\"Times,serif\" font-size=\"14.00\" fill=\"#000000\">gini = 0.0</text>\n<text text-anchor=\"middle\" x=\"292.5\" y=\"-22.8\" font-family=\"Times,serif\" font-size=\"14.00\" fill=\"#000000\">samples = 19</text>\n<text text-anchor=\"middle\" x=\"292.5\" y=\"-7.8\" font-family=\"Times,serif\" font-size=\"14.00\" fill=\"#000000\">value = [19, 0]</text>\n</g>\n<!-- 4&#45;&gt;8 -->\n<g id=\"edge5\" class=\"edge\">\n<title>4&#45;&gt;8</title>\n<path fill=\"none\" stroke=\"#000000\" d=\"M251.064,-88.9777C256.8941,-80.187 263.1831,-70.7044 269.057,-61.8477\"/>\n<polygon fill=\"#000000\" stroke=\"#000000\" points=\"272.1498,-63.5167 274.7601,-53.2485 266.3162,-59.6478 272.1498,-63.5167\"/>\n</g>\n<!-- 5 -->\n<g id=\"node8\" class=\"node\">\n<title>5</title>\n<polygon fill=\"none\" stroke=\"#000000\" points=\"483,-149.5 358,-149.5 358,-96.5 483,-96.5 483,-149.5\"/>\n<text text-anchor=\"middle\" x=\"420.5\" y=\"-134.3\" font-family=\"Times,serif\" font-size=\"14.00\" fill=\"#000000\">gini = 0.045</text>\n<text text-anchor=\"middle\" x=\"420.5\" y=\"-119.3\" font-family=\"Times,serif\" font-size=\"14.00\" fill=\"#000000\">samples = 3257</text>\n<text text-anchor=\"middle\" x=\"420.5\" y=\"-104.3\" font-family=\"Times,serif\" font-size=\"14.00\" fill=\"#000000\">value = [3182, 75]</text>\n</g>\n<!-- 2&#45;&gt;5 -->\n<g id=\"edge7\" class=\"edge\">\n<title>2&#45;&gt;5</title>\n<path fill=\"none\" stroke=\"#000000\" d=\"M429.2433,-192.9465C427.9078,-182.2621 426.4282,-170.4254 425.0718,-159.5742\"/>\n<polygon fill=\"#000000\" stroke=\"#000000\" points=\"428.5312,-159.0308 423.8178,-149.5422 421.5852,-159.8991 428.5312,-159.0308\"/>\n</g>\n<!-- 6 -->\n<g id=\"node9\" class=\"node\">\n<title>6</title>\n<polygon fill=\"none\" stroke=\"#000000\" points=\"603.5,-149.5 501.5,-149.5 501.5,-96.5 603.5,-96.5 603.5,-149.5\"/>\n<text text-anchor=\"middle\" x=\"552.5\" y=\"-134.3\" font-family=\"Times,serif\" font-size=\"14.00\" fill=\"#000000\">gini = 0.119</text>\n<text text-anchor=\"middle\" x=\"552.5\" y=\"-119.3\" font-family=\"Times,serif\" font-size=\"14.00\" fill=\"#000000\">samples = 63</text>\n<text text-anchor=\"middle\" x=\"552.5\" y=\"-104.3\" font-family=\"Times,serif\" font-size=\"14.00\" fill=\"#000000\">value = [4, 59]</text>\n</g>\n<!-- 2&#45;&gt;6 -->\n<g id=\"edge8\" class=\"edge\">\n<title>2&#45;&gt;6</title>\n<path fill=\"none\" stroke=\"#000000\" d=\"M472.4651,-192.9465C485.9509,-181.1606 501.0409,-167.9726 514.4521,-156.2519\"/>\n<polygon fill=\"#000000\" stroke=\"#000000\" points=\"516.9031,-158.7582 522.1296,-149.5422 512.2967,-153.4874 516.9031,-158.7582\"/>\n</g>\n</g>\n</svg>\n"
          },
          "metadata": {
            "tags": []
          },
          "execution_count": 29
        }
      ]
    },
    {
      "cell_type": "markdown",
      "metadata": {
        "id": "b99AtZuj-NR8"
      },
      "source": [
        "Analyze the confusion matrix. Which classes are confidently classified by the model?"
      ]
    },
    {
      "cell_type": "code",
      "metadata": {
        "id": "-7IrLSAx-PuK",
        "outputId": "e54c7989-2a1b-4054-e384-c42dd3c74d3f",
        "colab": {
          "base_uri": "https://localhost:8080/",
          "height": 34
        }
      },
      "source": [
        "unique, counts = np.unique(y_test, return_counts=True)\n",
        "dict(zip(unique, counts))"
      ],
      "execution_count": 30,
      "outputs": [
        {
          "output_type": "execute_result",
          "data": {
            "text/plain": [
              "{0: 1560, 1: 621}"
            ]
          },
          "metadata": {
            "tags": []
          },
          "execution_count": 30
        }
      ]
    },
    {
      "cell_type": "code",
      "metadata": {
        "id": "a9iK4zQt-SlP",
        "outputId": "256f6c4d-1123-4a97-dae1-b5a34ca0c29f",
        "colab": {
          "base_uri": "https://localhost:8080/",
          "height": 51
        }
      },
      "source": [
        "from sklearn.metrics import confusion_matrix\n",
        "y_pred = decision_tree.predict(X_test)\n",
        "confusion_matrix(y_test, y_pred)"
      ],
      "execution_count": 31,
      "outputs": [
        {
          "output_type": "execute_result",
          "data": {
            "text/plain": [
              "array([[1557,    3],\n",
              "       [  69,  552]])"
            ]
          },
          "metadata": {
            "tags": []
          },
          "execution_count": 31
        }
      ]
    },
    {
      "cell_type": "markdown",
      "metadata": {
        "id": "suPDWnoYaEPD"
      },
      "source": [
        "### Importance evaluation using SelectFromModel (still one decision tree)\n",
        "\n",
        "Source: https://github.com/oreilly-mlsec/book-resources/blob/master/chapter2/select-from-model-nslkdd.ipynb"
      ]
    },
    {
      "cell_type": "code",
      "metadata": {
        "id": "hm7PM7f_aRei",
        "outputId": "c6023813-4233-4b05-d889-98a617b21b55",
        "colab": {
          "base_uri": "https://localhost:8080/",
          "height": 272
        }
      },
      "source": [
        "from sklearn.feature_selection import SelectFromModel\n",
        "sfm = SelectFromModel(estimator=decision_tree).fit(X_train, y_train)\n",
        "sfm.estimator_.feature_importances_"
      ],
      "execution_count": 32,
      "outputs": [
        {
          "output_type": "execute_result",
          "data": {
            "text/plain": [
              "array([0.        , 0.        , 0.        , 0.        , 0.        ,\n",
              "       0.        , 0.        , 0.        , 0.        , 0.        ,\n",
              "       0.        , 0.        , 0.        , 0.        , 0.        ,\n",
              "       0.        , 0.        , 0.        , 0.        , 0.        ,\n",
              "       0.        , 0.17268669, 0.        , 0.02068535, 0.        ,\n",
              "       0.        , 0.        , 0.        , 0.        , 0.        ,\n",
              "       0.        , 0.        , 0.        , 0.        , 0.        ,\n",
              "       0.        , 0.        , 0.        , 0.        , 0.74955962,\n",
              "       0.        , 0.        , 0.        , 0.        , 0.        ,\n",
              "       0.        , 0.        , 0.        , 0.        , 0.        ,\n",
              "       0.        , 0.        , 0.        , 0.        , 0.        ,\n",
              "       0.        , 0.        , 0.        , 0.        , 0.        ,\n",
              "       0.        , 0.05706834, 0.        , 0.        , 0.        ,\n",
              "       0.        , 0.        , 0.        , 0.        , 0.        ,\n",
              "       0.        , 0.        , 0.        , 0.        ])"
            ]
          },
          "metadata": {
            "tags": []
          },
          "execution_count": 32
        }
      ]
    },
    {
      "cell_type": "code",
      "metadata": {
        "id": "Y0Sx8yJ_aW33",
        "outputId": "3a4f5abf-92b5-429c-e3c5-a28dbe0be19e",
        "colab": {
          "base_uri": "https://localhost:8080/",
          "height": 34
        }
      },
      "source": [
        "sfm.threshold_"
      ],
      "execution_count": 33,
      "outputs": [
        {
          "output_type": "execute_result",
          "data": {
            "text/plain": [
              "0.01351351351351351"
            ]
          },
          "metadata": {
            "tags": []
          },
          "execution_count": 33
        }
      ]
    },
    {
      "cell_type": "code",
      "metadata": {
        "id": "4iNlo5jIaaaL",
        "outputId": "d3683bfc-289b-414f-acec-eb6a60c1b09e",
        "colab": {
          "base_uri": "https://localhost:8080/",
          "height": 34
        }
      },
      "source": [
        "X_train_new = sfm.transform(X_train)\n",
        "print(\"Original num features: {}, selected num features: {}\"\n",
        "      .format(X_train.shape[1], X_train_new.shape[1]))"
      ],
      "execution_count": 34,
      "outputs": [
        {
          "output_type": "stream",
          "text": [
            "Original num features: 74, selected num features: 4\n"
          ],
          "name": "stdout"
        }
      ]
    },
    {
      "cell_type": "code",
      "metadata": {
        "id": "aBQxtLAwaegL",
        "outputId": "2c75fc3c-35e2-4532-fe8f-69fe909869df",
        "colab": {
          "base_uri": "https://localhost:8080/",
          "height": 187
        }
      },
      "source": [
        "indices = np.argsort(decision_tree.feature_importances_)[::-1]\n",
        "for idx, i in enumerate(indices[:10]):\n",
        "    print(\"{}.\\t{} - {}\".format(idx, X_train.columns[i], decision_tree.feature_importances_[i]))"
      ],
      "execution_count": 35,
      "outputs": [
        {
          "output_type": "stream",
          "text": [
            "0.\tPacket Length Mean - 0.7495596152594705\n",
            "1.\tFwd IAT Std - 0.17268668878361404\n",
            "2.\tSubflow Fwd Bytes - 0.0570683438976593\n",
            "3.\tFwd IAT Min - 0.020685352059256014\n",
            "4.\tIdle Min - 0.0\n",
            "5.\tBwd IAT Std - 0.0\n",
            "6.\tFwd IAT Mean - 0.0\n",
            "7.\tFwd IAT Max - 0.0\n",
            "8.\tBwd IAT Total - 0.0\n",
            "9.\tBwd IAT Mean - 0.0\n"
          ],
          "name": "stdout"
        }
      ]
    },
    {
      "cell_type": "markdown",
      "metadata": {
        "id": "duGKUsAzal52"
      },
      "source": [
        "### Evaluation of importance using RandomForestClassifier.feature_importances_ (move from one tree to a random forest, classification quality increases)"
      ]
    },
    {
      "cell_type": "code",
      "metadata": {
        "id": "xo4E_wFeaqNd",
        "outputId": "1f00d02b-5dc1-47eb-8c5f-47a76b077109",
        "colab": {
          "base_uri": "https://localhost:8080/",
          "height": 68
        }
      },
      "source": [
        "from sklearn.ensemble import RandomForestClassifier\n",
        "\n",
        "rf = RandomForestClassifier(n_estimators=250, random_state=42, oob_score=True)\n",
        "rf.fit(X_train, y_train)\n",
        "# Score = mean accuracy on the given test data and labels\n",
        "print('R^2 Training Score: {:.2f} \\nR^2 Validation Score: {:.2f} \\nOut-of-bag Score: {:.2f}'\n",
        "      .format(rf.score(X_train, y_train), rf.score(X_test, y_test), rf.oob_score_))"
      ],
      "execution_count": 36,
      "outputs": [
        {
          "output_type": "stream",
          "text": [
            "R^2 Training Score: 0.99 \n",
            "R^2 Validation Score: 0.98 \n",
            "Out-of-bag Score: 0.98\n"
          ],
          "name": "stdout"
        }
      ]
    },
    {
      "cell_type": "code",
      "metadata": {
        "id": "byV6krktawE_",
        "outputId": "b43f9da0-593c-4ec1-f993-d61d78a65706",
        "colab": {
          "base_uri": "https://localhost:8080/",
          "height": 357
        }
      },
      "source": [
        "features = X.columns\n",
        "importances = rf.feature_importances_\n",
        "indices = np.argsort(importances)[::-1]\n",
        "\n",
        "for i in indices[:20]:\n",
        "    print('#{}\\t{:.3f}\\t{}'.format(i, importances[i], features[i]))"
      ],
      "execution_count": 37,
      "outputs": [
        {
          "output_type": "stream",
          "text": [
            "#51\t0.083\tAverage Packet Size\n",
            "#13\t0.077\tFlow Bytes/s\n",
            "#38\t0.070\tMax Packet Length\n",
            "#39\t0.059\tPacket Length Mean\n",
            "#23\t0.059\tFwd IAT Min\n",
            "#7\t0.057\tFwd Packet Length Mean\n",
            "#61\t0.048\tSubflow Fwd Bytes\n",
            "#52\t0.044\tAvg Fwd Segment Size\n",
            "#3\t0.041\tTotal Length of Fwd Packets\n",
            "#15\t0.033\tFlow IAT Mean\n",
            "#21\t0.031\tFwd IAT Std\n",
            "#5\t0.029\tFwd Packet Length Max\n",
            "#33\t0.025\tFwd Header Length\n",
            "#16\t0.024\tFlow IAT Std\n",
            "#14\t0.024\tFlow Packets/s\n",
            "#0\t0.024\tFlow Duration\n",
            "#35\t0.019\tFwd Packets/s\n",
            "#17\t0.017\tFlow IAT Max\n",
            "#19\t0.016\tFwd IAT Total\n",
            "#22\t0.016\tFwd IAT Max\n"
          ],
          "name": "stdout"
        }
      ]
    },
    {
      "cell_type": "markdown",
      "metadata": {
        "id": "3RXQUuqHa11b"
      },
      "source": [
        "For comparison, the results of the study [Sharafaldin2018] (compare relatively, without taking into account the multiplier):\n",
        " \n",
        "* Init Win F.Bytes 0.0200\n",
        "* Subflow F.Bytes 0.0145\n",
        "* Init Win B.Bytes 0.0129\n",
        "* Total Len F.Packets 0.0096\n",
        "\n",
        "And incorrect results [Kostas2018] (error was found in assessing the importance of features, line: *impor_bars = pd.DataFrame({'Features':refclasscol[0:20],'importance':importances[0:20]})*, the importances[0:20] sample does not take into account that the values are not sorted in descending order):\n",
        " \n",
        "* Flow Bytes/s 0.313402\n",
        "* Total Length of Fwd Packets 0.304917\n",
        "* Flow Duration 0.000485\n",
        "* Fwd Packet Length Max 0.00013"
      ]
    },
    {
      "cell_type": "code",
      "metadata": {
        "id": "TPxzWeP4bHa5",
        "outputId": "5815f66e-3b0e-4c06-a7d6-6c0b1a49b59d",
        "colab": {
          "base_uri": "https://localhost:8080/",
          "height": 513
        }
      },
      "source": [
        "indices = np.argsort(importances)[-20:]\n",
        "plt.rcParams['figure.figsize'] = (20, 8)\n",
        "plt.title('Feature Importances')\n",
        "plt.barh(range(len(indices)), importances[indices], color='b', align='center')\n",
        "plt.yticks(range(len(indices)), [features[i] for i in indices])\n",
        "plt.xlabel('Relative Importance')\n",
        "plt.grid()\n",
        "plt.savefig('feature_importances.png', dpi=300)\n",
        "plt.show()"
      ],
      "execution_count": 38,
      "outputs": [
        {
          "output_type": "display_data",
          "data": {
            "image/png": "[encoded data removed]",
            "text/plain": [
              "<Figure size 1440x576 with 1 Axes>"
            ]
          },
          "metadata": {
            "tags": [],
            "needs_background": "light"
          }
        }
      ]
    },
    {
      "cell_type": "markdown",
      "metadata": {
        "id": "p4Dr0x5ZbLgU"
      },
      "source": [
        "Make sure that SelectFromModel shows the same results."
      ]
    },
    {
      "cell_type": "code",
      "metadata": {
        "id": "WIHBbt1AbORu",
        "outputId": "32858421-b089-4aef-fdbd-88e0f23f70fe",
        "colab": {
          "base_uri": "https://localhost:8080/",
          "height": 340
        }
      },
      "source": [
        "sfm = SelectFromModel(estimator=rf).fit(X_train, y_train)\n",
        "sfm.estimator_.feature_importances_"
      ],
      "execution_count": 39,
      "outputs": [
        {
          "output_type": "execute_result",
          "data": {
            "text/plain": [
              "array([2.35290102e-02, 7.96680677e-03, 4.06816304e-03, 4.12687835e-02,\n",
              "       9.83724990e-03, 2.86117483e-02, 2.48283866e-04, 5.66474813e-02,\n",
              "       3.53334029e-03, 5.55751849e-03, 2.85553825e-04, 3.31992191e-03,\n",
              "       2.41607686e-03, 7.74179191e-02, 2.35514560e-02, 3.29319669e-02,\n",
              "       2.37261393e-02, 1.67135759e-02, 1.13381215e-02, 1.64269640e-02,\n",
              "       1.49298633e-02, 3.10539944e-02, 1.58491178e-02, 5.91057853e-02,\n",
              "       4.73824075e-03, 4.07708950e-03, 2.49789855e-03, 2.75648040e-03,\n",
              "       4.89478294e-03, 0.00000000e+00, 0.00000000e+00, 0.00000000e+00,\n",
              "       0.00000000e+00, 2.52191336e-02, 1.28321800e-02, 1.93303880e-02,\n",
              "       1.13652236e-02, 3.48623392e-04, 6.97887055e-02, 5.94478376e-02,\n",
              "       7.62324984e-03, 7.17442130e-03, 0.00000000e+00, 0.00000000e+00,\n",
              "       0.00000000e+00, 1.29372392e-02, 7.61039194e-03, 4.35414325e-03,\n",
              "       0.00000000e+00, 0.00000000e+00, 2.73988037e-03, 8.30468722e-02,\n",
              "       4.42895749e-02, 4.36227086e-03, 0.00000000e+00, 0.00000000e+00,\n",
              "       0.00000000e+00, 0.00000000e+00, 0.00000000e+00, 0.00000000e+00,\n",
              "       7.46508333e-03, 4.84031268e-02, 3.90371058e-03, 8.32803782e-03,\n",
              "       1.04631502e-02, 4.24682485e-03, 3.54124642e-03, 6.26803036e-05,\n",
              "       1.24350314e-03, 1.41591008e-03, 2.65916244e-03, 1.00345719e-04,\n",
              "       1.89258810e-03, 4.50516085e-03])"
            ]
          },
          "metadata": {
            "tags": []
          },
          "execution_count": 39
        }
      ]
    },
    {
      "cell_type": "code",
      "metadata": {
        "id": "34H0r3mWbUQY",
        "outputId": "8e1babff-505e-4579-bd2e-da302b95ee51",
        "colab": {
          "base_uri": "https://localhost:8080/",
          "height": 34
        }
      },
      "source": [
        "X_train_new = sfm.transform(X_train)\n",
        "print(\"Original num features: {}, selected num features: {}\"\n",
        "      .format(X_train.shape[1], X_train_new.shape[1]))"
      ],
      "execution_count": 40,
      "outputs": [
        {
          "output_type": "stream",
          "text": [
            "Original num features: 74, selected num features: 21\n"
          ],
          "name": "stdout"
        }
      ]
    },
    {
      "cell_type": "code",
      "metadata": {
        "id": "Po-9BPKYbX3S",
        "outputId": "16572161-555c-4cce-e856-ffbf7dd50dde",
        "colab": {
          "base_uri": "https://localhost:8080/",
          "height": 357
        }
      },
      "source": [
        "indices = np.argsort(rf.feature_importances_)[::-1]\n",
        "webattack_features = []\n",
        "for idx, i in enumerate(indices):\n",
        "    webattack_features.append(X_train.columns[i])\n",
        "    if idx < 20:\n",
        "        print(\"{}.\\t{} - {}\".format(idx, X_train.columns[i], rf.feature_importances_[i]))"
      ],
      "execution_count": 41,
      "outputs": [
        {
          "output_type": "stream",
          "text": [
            "0.\tAverage Packet Size - 0.08304687216519575\n",
            "1.\tFlow Bytes/s - 0.07741791914229391\n",
            "2.\tMax Packet Length - 0.0697887054596054\n",
            "3.\tPacket Length Mean - 0.05944783762879627\n",
            "4.\tFwd IAT Min - 0.05910578531455271\n",
            "5.\tFwd Packet Length Mean - 0.056647481305229994\n",
            "6.\tSubflow Fwd Bytes - 0.04840312676301025\n",
            "7.\tAvg Fwd Segment Size - 0.04428957486934989\n",
            "8.\tTotal Length of Fwd Packets - 0.04126878347802345\n",
            "9.\tFlow IAT Mean - 0.03293196693092254\n",
            "10.\tFwd IAT Std - 0.031053994393374477\n",
            "11.\tFwd Packet Length Max - 0.02861174828761524\n",
            "12.\tFwd Header Length - 0.0252191336331209\n",
            "13.\tFlow IAT Std - 0.02372613932377926\n",
            "14.\tFlow Packets/s - 0.023551455998798442\n",
            "15.\tFlow Duration - 0.02352901024161367\n",
            "16.\tFwd Packets/s - 0.019330387966376605\n",
            "17.\tFlow IAT Max - 0.01671357585598448\n",
            "18.\tFwd IAT Total - 0.01642696403867533\n",
            "19.\tFwd IAT Max - 0.015849117790575712\n"
          ],
          "name": "stdout"
        }
      ]
    },
    {
      "cell_type": "markdown",
      "metadata": {
        "id": "1Ai-mjE_cYTK"
      },
      "source": [
        "Once again we analyze the confusion matrix, now for a higher quality classifier. A random forest also badly distinguishes between separate attack classes (\"Web Attack – XSS\" is very similar to \"Web Attack – Brute Force\"). At the same time, the \"BENIGN\" class is well separated from the others.\n",
        " \n",
        "If we combine different attack classes into one \"web attack\" class, the resulting binary classifier will show high quality."
      ]
    },
    {
      "cell_type": "code",
      "metadata": {
        "id": "QaYCrMC4cenU",
        "outputId": "da62ba7e-d7af-41e8-d9a9-0fab415eba7e",
        "colab": {
          "base_uri": "https://localhost:8080/",
          "height": 51
        }
      },
      "source": [
        "y_pred = rf.predict(X_test)\n",
        "confusion_matrix(y_test, y_pred)"
      ],
      "execution_count": 42,
      "outputs": [
        {
          "output_type": "execute_result",
          "data": {
            "text/plain": [
              "array([[1528,   32],\n",
              "       [  16,  605]])"
            ]
          },
          "metadata": {
            "tags": []
          },
          "execution_count": 42
        }
      ]
    },
    {
      "cell_type": "markdown",
      "metadata": {
        "id": "ktl5y47rcsiy"
      },
      "source": [
        "Next, for experiments, we keep the first max_features of features with maximum importance."
      ]
    },
    {
      "cell_type": "code",
      "metadata": {
        "id": "Xriaa8XicuoB",
        "outputId": "8a171904-2d66-4d5f-b0e3-3f549f383cdc",
        "colab": {
          "base_uri": "https://localhost:8080/",
          "height": 357
        }
      },
      "source": [
        "max_features = 20\n",
        "webattack_features = webattack_features[:max_features]\n",
        "webattack_features"
      ],
      "execution_count": 43,
      "outputs": [
        {
          "output_type": "execute_result",
          "data": {
            "text/plain": [
              "['Average Packet Size',\n",
              " 'Flow Bytes/s',\n",
              " 'Max Packet Length',\n",
              " 'Packet Length Mean',\n",
              " 'Fwd IAT Min',\n",
              " 'Fwd Packet Length Mean',\n",
              " 'Subflow Fwd Bytes',\n",
              " 'Avg Fwd Segment Size',\n",
              " 'Total Length of Fwd Packets',\n",
              " 'Flow IAT Mean',\n",
              " 'Fwd IAT Std',\n",
              " 'Fwd Packet Length Max',\n",
              " 'Fwd Header Length',\n",
              " 'Flow IAT Std',\n",
              " 'Flow Packets/s',\n",
              " 'Flow Duration',\n",
              " 'Fwd Packets/s',\n",
              " 'Flow IAT Max',\n",
              " 'Fwd IAT Total',\n",
              " 'Fwd IAT Max']"
            ]
          },
          "metadata": {
            "tags": []
          },
          "execution_count": 43
        }
      ]
    },
    {
      "cell_type": "markdown",
      "metadata": {
        "id": "eLikdx9Legm0"
      },
      "source": [
        "## Analysis of selected features"
      ]
    },
    {
      "cell_type": "code",
      "metadata": {
        "id": "l4AlTAUme5aJ",
        "outputId": "30c0dea5-f39d-4bf5-dc91-fb1619023a2c",
        "colab": {
          "base_uri": "https://localhost:8080/",
          "height": 716
        }
      },
      "source": [
        "df[webattack_features].hist(figsize=(20,12), bins=10);\n",
        "plt.savefig('features_hist.png', dpi=300)"
      ],
      "execution_count": 44,
      "outputs": [
        {
          "output_type": "display_data",
          "data": {
            "image/png": "[encoded data removed]",
            "text/plain": [
              "<Figure size 1440x864 with 20 Axes>"
            ]
          },
          "metadata": {
            "tags": [],
            "needs_background": "light"
          }
        }
      ]
    },
    {
      "cell_type": "markdown",
      "metadata": {
        "id": "qURMpkLBf1ZH"
      },
      "source": [
        "Install Facets Overview\n",
        "\n",
        "https://pair-code.github.io/facets/"
      ]
    },
    {
      "cell_type": "code",
      "metadata": {
        "id": "QH4RxYR14jjz",
        "outputId": "bb5e2d44-b5b2-401e-815f-e78c85304ad5",
        "colab": {
          "base_uri": "https://localhost:8080/",
          "height": 153
        }
      },
      "source": [
        "!pip install facets-overview"
      ],
      "execution_count": 45,
      "outputs": [
        {
          "output_type": "stream",
          "text": [
            "Requirement already satisfied: facets-overview in /usr/local/lib/python3.6/dist-packages (1.0.0)\n",
            "Requirement already satisfied: numpy>=1.16.0 in /usr/local/lib/python3.6/dist-packages (from facets-overview) (1.18.5)\n",
            "Requirement already satisfied: pandas>=0.22.0 in /usr/local/lib/python3.6/dist-packages (from facets-overview) (1.0.5)\n",
            "Requirement already satisfied: protobuf>=3.7.0 in /usr/local/lib/python3.6/dist-packages (from facets-overview) (3.12.4)\n",
            "Requirement already satisfied: pytz>=2017.2 in /usr/local/lib/python3.6/dist-packages (from pandas>=0.22.0->facets-overview) (2018.9)\n",
            "Requirement already satisfied: python-dateutil>=2.6.1 in /usr/local/lib/python3.6/dist-packages (from pandas>=0.22.0->facets-overview) (2.8.1)\n",
            "Requirement already satisfied: setuptools in /usr/local/lib/python3.6/dist-packages (from protobuf>=3.7.0->facets-overview) (50.3.0)\n",
            "Requirement already satisfied: six>=1.9 in /usr/local/lib/python3.6/dist-packages (from protobuf>=3.7.0->facets-overview) (1.15.0)\n"
          ],
          "name": "stdout"
        }
      ]
    },
    {
      "cell_type": "markdown",
      "metadata": {
        "id": "_A9f2J2tf9eA"
      },
      "source": [
        "Create the feature stats for the datasets and stringify it."
      ]
    },
    {
      "cell_type": "code",
      "metadata": {
        "id": "0juU1aJQ44sk"
      },
      "source": [
        "import base64\n",
        "from facets_overview.generic_feature_statistics_generator import GenericFeatureStatisticsGenerator\n",
        "\n",
        "gfsg = GenericFeatureStatisticsGenerator()\n",
        "proto = gfsg.ProtoFromDataFrames([{'name': 'train + test', 'table': df[webattack_features]}])\n",
        "protostr = base64.b64encode(proto.SerializeToString()).decode(\"utf-8\")"
      ],
      "execution_count": 46,
      "outputs": []
    },
    {
      "cell_type": "markdown",
      "metadata": {
        "id": "9Wqs7qELgBkM"
      },
      "source": [
        "Display the facets overview visualization for this data."
      ]
    },
    {
      "cell_type": "code",
      "metadata": {
        "id": "mYvQDTKH5YRr",
        "outputId": "332a8ae7-e3a6-4c18-983e-be180619ca2e",
        "colab": {
          "base_uri": "https://localhost:8080/",
          "height": 1000
        }
      },
      "source": [
        "from IPython.core.display import display, HTML\n",
        "\n",
        "HTML_TEMPLATE = \"\"\"\n",
        "        <script src=\"https://cdnjs.cloudflare.com/ajax/libs/webcomponentsjs/1.3.3/webcomponents-lite.js\"></script>\n",
        "        <link rel=\"import\" href=\"https://raw.githubusercontent.com/PAIR-code/facets/1.0.0/facets-dist/facets-jupyter.html\" >\n",
        "        <facets-overview id=\"elem\"></facets-overview>\n",
        "        <script>\n",
        "          document.querySelector(\"#elem\").protoInput = \"{protostr}\";\n",
        "        </script>\"\"\"\n",
        "html = HTML_TEMPLATE.format(protostr=protostr)\n",
        "display(HTML(html))"
      ],
      "execution_count": 47,
      "outputs": [
        {
          "output_type": "display_data",
          "data": {
            "text/html": [
              "\n",
              "        <script src=\"https://cdnjs.cloudflare.com/ajax/libs/webcomponentsjs/1.3.3/webcomponents-lite.js\"></script>\n",
              "        <link rel=\"import\" href=\"https://raw.githubusercontent.com/PAIR-code/facets/1.0.0/facets-dist/facets-jupyter.html\" >\n",
              "        <facets-overview id=\"elem\"></facets-overview>\n",
              "        <script>\n",
              "          document.querySelector(\"#elem\").protoInput = \"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\";\n",
              "        </script>"
            ],
            "text/plain": [
              "<IPython.core.display.HTML object>"
            ]
          },
          "metadata": {
            "tags": []
          }
        }
      ]
    },
    {
      "cell_type": "code",
      "metadata": {
        "id": "IIqD-DjrgbIr",
        "outputId": "745329d3-a08e-43e1-be61-3410b21254ca",
        "colab": {
          "base_uri": "https://localhost:8080/",
          "height": 485
        }
      },
      "source": [
        "import seaborn as sns\n",
        "corr_matrix = df[webattack_features].corr()\n",
        "plt.rcParams['figure.figsize'] = (6, 5)\n",
        "sns.heatmap(corr_matrix);\n",
        "plt.savefig('corr_heatmap.png', dpi=300)"
      ],
      "execution_count": 48,
      "outputs": [
        {
          "output_type": "stream",
          "text": [
            "/usr/local/lib/python3.6/dist-packages/statsmodels/tools/_testing.py:19: FutureWarning: pandas.util.testing is deprecated. Use the functions in the public API at pandas.testing instead.\n",
            "  import pandas.util.testing as tm\n"
          ],
          "name": "stderr"
        },
        {
          "output_type": "display_data",
          "data": {
            "image/png": "[encoded data removed]",
            "text/plain": [
              "<Figure size 432x360 with 2 Axes>"
            ]
          },
          "metadata": {
            "tags": [],
            "needs_background": "light"
          }
        }
      ]
    },
    {
      "cell_type": "markdown",
      "metadata": {
        "id": "r2J6Pz0xglza"
      },
      "source": [
        "Remove correlated features."
      ]
    },
    {
      "cell_type": "code",
      "metadata": {
        "id": "Nml7xnnqgoMz",
        "outputId": "0aa704e5-a5ce-4234-d88b-e8c30b7fc68c",
        "colab": {
          "base_uri": "https://localhost:8080/",
          "height": 187
        }
      },
      "source": [
        "to_be_removed = {'Packet Length Mean', 'Avg Fwd Segment Size', 'Subflow Fwd Bytes', 'Fwd Packets/s', 'Fwd IAT Total'}\n",
        "webattack_features = [item for item in webattack_features if item not in to_be_removed]\n",
        "webattack_features = webattack_features[:10]\n",
        "webattack_features"
      ],
      "execution_count": 49,
      "outputs": [
        {
          "output_type": "execute_result",
          "data": {
            "text/plain": [
              "['Average Packet Size',\n",
              " 'Flow Bytes/s',\n",
              " 'Max Packet Length',\n",
              " 'Fwd IAT Min',\n",
              " 'Fwd Packet Length Mean',\n",
              " 'Total Length of Fwd Packets',\n",
              " 'Flow IAT Mean',\n",
              " 'Fwd IAT Std',\n",
              " 'Fwd Packet Length Max',\n",
              " 'Fwd Header Length']"
            ]
          },
          "metadata": {
            "tags": []
          },
          "execution_count": 49
        }
      ]
    },
    {
      "cell_type": "code",
      "metadata": {
        "id": "vHbm-bkbgDw8",
        "outputId": "446d41d9-78b9-47c8-d99b-7e56a4d0eab8",
        "colab": {
          "base_uri": "https://localhost:8080/",
          "height": 451
        }
      },
      "source": [
        "corr_matrix = df[webattack_features].corr()\n",
        "plt.rcParams['figure.figsize'] = (6, 5)\n",
        "sns.heatmap(corr_matrix);"
      ],
      "execution_count": 50,
      "outputs": [
        {
          "output_type": "display_data",
          "data": {
            "image/png": "[encoded data removed]",
            "text/plain": [
              "<Figure size 432x360 with 2 Axes>"
            ]
          },
          "metadata": {
            "tags": [],
            "needs_background": "light"
          }
        }
      ]
    },
    {
      "cell_type": "markdown",
      "metadata": {
        "id": "eh-k8KdMhJ_Q"
      },
      "source": [
        "## Hyperparameter selection"
      ]
    },
    {
      "cell_type": "markdown",
      "metadata": {
        "id": "-jMiAnOthSIn"
      },
      "source": [
        "Reopen the dataset."
      ]
    },
    {
      "cell_type": "code",
      "metadata": {
        "id": "vrwIysyAhKxI",
        "outputId": "6be7974a-d713-4c89-b147-8b8cebb7fba7",
        "colab": {
          "base_uri": "https://localhost:8080/",
          "height": 34
        }
      },
      "source": [
        "from sklearn.model_selection import GridSearchCV\n",
        "\n",
        "df = pd.read_csv('web_attacks_balanced.csv')\n",
        "df['Label'] = df['Label'].apply(lambda x: 0 if x == 'BENIGN' else (0 if random.random() < 0 else 1))\n",
        "y = df['Label'].values\n",
        "X = df[webattack_features]\n",
        "print(X.shape, y.shape)"
      ],
      "execution_count": 51,
      "outputs": [
        {
          "output_type": "stream",
          "text": [
            "(7267, 10) (7267,)\n"
          ],
          "name": "stdout"
        }
      ]
    },
    {
      "cell_type": "markdown",
      "metadata": {
        "id": "PFYYEqnihZnZ"
      },
      "source": [
        "We get the list of RandomForestClassifier parameters."
      ]
    },
    {
      "cell_type": "code",
      "metadata": {
        "id": "wc_IVcRPhU82",
        "outputId": "b246e3ad-4240-460b-f294-3ee8109e8b4e",
        "colab": {
          "base_uri": "https://localhost:8080/",
          "height": 54
        }
      },
      "source": [
        "rfc = RandomForestClassifier(random_state=1)\n",
        "rfc.get_params().keys()"
      ],
      "execution_count": 52,
      "outputs": [
        {
          "output_type": "execute_result",
          "data": {
            "text/plain": [
              "dict_keys(['bootstrap', 'ccp_alpha', 'class_weight', 'criterion', 'max_depth', 'max_features', 'max_leaf_nodes', 'max_samples', 'min_impurity_decrease', 'min_impurity_split', 'min_samples_leaf', 'min_samples_split', 'min_weight_fraction_leaf', 'n_estimators', 'n_jobs', 'oob_score', 'random_state', 'verbose', 'warm_start'])"
            ]
          },
          "metadata": {
            "tags": []
          },
          "execution_count": 52
        }
      ]
    },
    {
      "cell_type": "markdown",
      "metadata": {
        "id": "LQ8VThpnheWD"
      },
      "source": [
        "For search of quasi-optimal value of one parameter we fix the others."
      ]
    },
    {
      "cell_type": "code",
      "metadata": {
        "id": "4JoxI-axhdD7",
        "outputId": "211fa8fc-2493-48fd-d0d2-a48b6f2e06a4",
        "colab": {
          "base_uri": "https://localhost:8080/",
          "height": 51
        }
      },
      "source": [
        "parameters = {'n_estimators': [10],\n",
        "              'min_samples_leaf': [3],\n",
        "              'max_features': [3], \n",
        "              'max_depth': [1, 2, 3, 4, 5, 6, 7, 8, 9, 10, 11, 15, 20, 30, 50]}\n",
        "scoring = {'f1', 'accuracy'}\n",
        "gcv = GridSearchCV(rfc, parameters, scoring=scoring, refit='f1', cv=10, return_train_score=True)\n",
        "get_ipython().run_line_magic('time', 'gcv.fit(X, y)')\n",
        "results = gcv.cv_results_"
      ],
      "execution_count": 53,
      "outputs": [
        {
          "output_type": "stream",
          "text": [
            "CPU times: user 9.96 s, sys: 13.5 ms, total: 9.97 s\n",
            "Wall time: 9.98 s\n"
          ],
          "name": "stdout"
        }
      ]
    },
    {
      "cell_type": "code",
      "metadata": {
        "id": "OOS-7FXchh31",
        "outputId": "b1a993d9-0a3e-4f59-f012-8c37b503c266",
        "colab": {
          "base_uri": "https://localhost:8080/",
          "height": 168
        }
      },
      "source": [
        "cv_results = pd.DataFrame(gcv.cv_results_)\n",
        "cv_results.head(1)"
      ],
      "execution_count": 54,
      "outputs": [
        {
          "output_type": "execute_result",
          "data": {
            "text/html": [
              "<div>\n",
              "<style scoped>\n",
              "    .dataframe tbody tr th:only-of-type {\n",
              "        vertical-align: middle;\n",
              "    }\n",
              "\n",
              "    .dataframe tbody tr th {\n",
              "        vertical-align: top;\n",
              "    }\n",
              "\n",
              "    .dataframe thead th {\n",
              "        text-align: right;\n",
              "    }\n",
              "</style>\n",
              "<table border=\"1\" class=\"dataframe\">\n",
              "  <thead>\n",
              "    <tr style=\"text-align: right;\">\n",
              "      <th></th>\n",
              "      <th>mean_fit_time</th>\n",
              "      <th>std_fit_time</th>\n",
              "      <th>mean_score_time</th>\n",
              "      <th>std_score_time</th>\n",
              "      <th>param_max_depth</th>\n",
              "      <th>param_max_features</th>\n",
              "      <th>param_min_samples_leaf</th>\n",
              "      <th>param_n_estimators</th>\n",
              "      <th>params</th>\n",
              "      <th>split0_test_f1</th>\n",
              "      <th>split1_test_f1</th>\n",
              "      <th>split2_test_f1</th>\n",
              "      <th>split3_test_f1</th>\n",
              "      <th>split4_test_f1</th>\n",
              "      <th>split5_test_f1</th>\n",
              "      <th>split6_test_f1</th>\n",
              "      <th>split7_test_f1</th>\n",
              "      <th>split8_test_f1</th>\n",
              "      <th>split9_test_f1</th>\n",
              "      <th>mean_test_f1</th>\n",
              "      <th>std_test_f1</th>\n",
              "      <th>rank_test_f1</th>\n",
              "      <th>split0_train_f1</th>\n",
              "      <th>split1_train_f1</th>\n",
              "      <th>split2_train_f1</th>\n",
              "      <th>split3_train_f1</th>\n",
              "      <th>split4_train_f1</th>\n",
              "      <th>split5_train_f1</th>\n",
              "      <th>split6_train_f1</th>\n",
              "      <th>split7_train_f1</th>\n",
              "      <th>split8_train_f1</th>\n",
              "      <th>split9_train_f1</th>\n",
              "      <th>mean_train_f1</th>\n",
              "      <th>std_train_f1</th>\n",
              "      <th>split0_test_accuracy</th>\n",
              "      <th>split1_test_accuracy</th>\n",
              "      <th>split2_test_accuracy</th>\n",
              "      <th>split3_test_accuracy</th>\n",
              "      <th>split4_test_accuracy</th>\n",
              "      <th>split5_test_accuracy</th>\n",
              "      <th>split6_test_accuracy</th>\n",
              "      <th>split7_test_accuracy</th>\n",
              "      <th>split8_test_accuracy</th>\n",
              "      <th>split9_test_accuracy</th>\n",
              "      <th>mean_test_accuracy</th>\n",
              "      <th>std_test_accuracy</th>\n",
              "      <th>rank_test_accuracy</th>\n",
              "      <th>split0_train_accuracy</th>\n",
              "      <th>split1_train_accuracy</th>\n",
              "      <th>split2_train_accuracy</th>\n",
              "      <th>split3_train_accuracy</th>\n",
              "      <th>split4_train_accuracy</th>\n",
              "      <th>split5_train_accuracy</th>\n",
              "      <th>split6_train_accuracy</th>\n",
              "      <th>split7_train_accuracy</th>\n",
              "      <th>split8_train_accuracy</th>\n",
              "      <th>split9_train_accuracy</th>\n",
              "      <th>mean_train_accuracy</th>\n",
              "      <th>std_train_accuracy</th>\n",
              "    </tr>\n",
              "  </thead>\n",
              "  <tbody>\n",
              "    <tr>\n",
              "      <th>0</th>\n",
              "      <td>0.029302</td>\n",
              "      <td>0.00379</td>\n",
              "      <td>0.003388</td>\n",
              "      <td>0.000291</td>\n",
              "      <td>1</td>\n",
              "      <td>3</td>\n",
              "      <td>3</td>\n",
              "      <td>10</td>\n",
              "      <td>{'max_depth': 1, 'max_features': 3, 'min_sampl...</td>\n",
              "      <td>0.866972</td>\n",
              "      <td>0.835443</td>\n",
              "      <td>0.827004</td>\n",
              "      <td>0.853448</td>\n",
              "      <td>0.848485</td>\n",
              "      <td>0.842553</td>\n",
              "      <td>0.855263</td>\n",
              "      <td>0.889353</td>\n",
              "      <td>0.887029</td>\n",
              "      <td>0.821577</td>\n",
              "      <td>0.852713</td>\n",
              "      <td>0.021864</td>\n",
              "      <td>15</td>\n",
              "      <td>0.851144</td>\n",
              "      <td>0.854558</td>\n",
              "      <td>0.855511</td>\n",
              "      <td>0.852529</td>\n",
              "      <td>0.853074</td>\n",
              "      <td>0.853746</td>\n",
              "      <td>0.852335</td>\n",
              "      <td>0.848427</td>\n",
              "      <td>0.848701</td>\n",
              "      <td>0.856189</td>\n",
              "      <td>0.852621</td>\n",
              "      <td>0.00248</td>\n",
              "      <td>0.92022</td>\n",
              "      <td>0.89271</td>\n",
              "      <td>0.887208</td>\n",
              "      <td>0.906465</td>\n",
              "      <td>0.903714</td>\n",
              "      <td>0.898212</td>\n",
              "      <td>0.909216</td>\n",
              "      <td>0.926997</td>\n",
              "      <td>0.92562</td>\n",
              "      <td>0.881543</td>\n",
              "      <td>0.90519</td>\n",
              "      <td>0.014919</td>\n",
              "      <td>15</td>\n",
              "      <td>0.903517</td>\n",
              "      <td>0.906575</td>\n",
              "      <td>0.907187</td>\n",
              "      <td>0.905046</td>\n",
              "      <td>0.905352</td>\n",
              "      <td>0.905963</td>\n",
              "      <td>0.90474</td>\n",
              "      <td>0.902767</td>\n",
              "      <td>0.90292</td>\n",
              "      <td>0.907812</td>\n",
              "      <td>0.905188</td>\n",
              "      <td>0.001657</td>\n",
              "    </tr>\n",
              "  </tbody>\n",
              "</table>\n",
              "</div>"
            ],
            "text/plain": [
              "   mean_fit_time  std_fit_time  ...  mean_train_accuracy  std_train_accuracy\n",
              "0       0.029302       0.00379  ...             0.905188            0.001657\n",
              "\n",
              "[1 rows x 59 columns]"
            ]
          },
          "metadata": {
            "tags": []
          },
          "execution_count": 54
        }
      ]
    },
    {
      "cell_type": "code",
      "metadata": {
        "id": "9Y75B_c_hn3b",
        "outputId": "f467bbbc-6fd9-4bb5-ed8e-f68862d6cabd",
        "colab": {
          "base_uri": "https://localhost:8080/",
          "height": 406
        }
      },
      "source": [
        "# https://scikit-learn.org/dev/auto_examples/model_selection/plot_multi_metric_evaluation.html\n",
        "plt.figure(figsize=(8, 6))\n",
        "plt.title(\"GridSearchCV results\", fontsize=14)\n",
        "\n",
        "plt.xlabel(\"max_depth\")\n",
        "plt.ylabel(\"f1\")\n",
        "\n",
        "ax = plt.gca()\n",
        "ax.set_xlim(0, 30)\n",
        "ax.set_ylim(0.85, 1)\n",
        "\n",
        "X_axis = np.array(results['param_max_depth'].data, dtype=float)\n",
        "\n",
        "for scorer, color in zip(sorted(scoring), ['g', 'k']):\n",
        "    for sample, style in (('train', '--'), ('test', '-')):\n",
        "        sample_score_mean = results['mean_%s_%s' % (sample, scorer)]\n",
        "        sample_score_std = results['std_%s_%s' % (sample, scorer)]\n",
        "        ax.fill_between(X_axis, sample_score_mean - sample_score_std,\n",
        "                        sample_score_mean + sample_score_std,\n",
        "                        alpha=0.1 if sample == 'test' else 0, color=color)\n",
        "        ax.plot(X_axis, sample_score_mean, style, color=color,\n",
        "                alpha=1 if sample == 'test' else 0.7,\n",
        "                label=\"%s (%s)\" % (scorer, sample))\n",
        "\n",
        "    best_index = np.nonzero(results['rank_test_%s' % scorer] == 1)[0][0]\n",
        "    best_score = results['mean_test_%s' % scorer][best_index]\n",
        "\n",
        "    # Plot a dotted vertical line at the best score for that scorer marked by x\n",
        "    ax.plot([X_axis[best_index], ] * 2, [0, best_score],\n",
        "            linestyle='-.', color=color, marker='x', markeredgewidth=3, ms=8)\n",
        "\n",
        "    # Annotate the best score for that scorer\n",
        "    ax.annotate(\"%0.2f\" % best_score,\n",
        "                (X_axis[best_index] + 0.3, best_score + 0.005))\n",
        "\n",
        "plt.legend(loc=\"best\")\n",
        "plt.grid(False)\n",
        "plt.savefig('GridSearchCV_results.png', dpi=300)\n",
        "plt.show()"
      ],
      "execution_count": 55,
      "outputs": [
        {
          "output_type": "display_data",
          "data": {
            "image/png": "[encoded data removed]",
            "text/plain": [
              "<Figure size 576x432 with 1 Axes>"
            ]
          },
          "metadata": {
            "tags": [],
            "needs_background": "light"
          }
        }
      ]
    },
    {
      "cell_type": "markdown",
      "metadata": {
        "id": "hZtnTrlNk_Uf"
      },
      "source": [
        "### Grid search"
      ]
    },
    {
      "cell_type": "code",
      "metadata": {
        "id": "eaeAf6VRhwJq"
      },
      "source": [
        "parameters = {'n_estimators': [50, 100], \n",
        "              'min_samples_leaf': [3, 5, 7],\n",
        "              'max_features': [3, 5, 7, 10], \n",
        "              'max_depth': [17, 23]}\n",
        "\n",
        "parameters = {'n_estimators': [100], 'max_features': [10]}"
      ],
      "execution_count": 56,
      "outputs": []
    },
    {
      "cell_type": "code",
      "metadata": {
        "id": "O3ziP5BolEss",
        "outputId": "0f09bd77-fa69-472a-c195-b4b1f356fffd",
        "colab": {
          "base_uri": "https://localhost:8080/",
          "height": 374
        }
      },
      "source": [
        "gcv = GridSearchCV(rfc, parameters, scoring=scoring, refit='f1', cv=10, return_train_score=True)\n",
        "get_ipython().run_line_magic('time', 'gcv.fit(X, y)')"
      ],
      "execution_count": 57,
      "outputs": [
        {
          "output_type": "stream",
          "text": [
            "CPU times: user 15.1 s, sys: 19.4 ms, total: 15.1 s\n",
            "Wall time: 15.1 s\n"
          ],
          "name": "stdout"
        },
        {
          "output_type": "execute_result",
          "data": {
            "text/plain": [
              "GridSearchCV(cv=10, error_score=nan,\n",
              "             estimator=RandomForestClassifier(bootstrap=True, ccp_alpha=0.0,\n",
              "                                              class_weight=None,\n",
              "                                              criterion='gini', max_depth=None,\n",
              "                                              max_features='auto',\n",
              "                                              max_leaf_nodes=None,\n",
              "                                              max_samples=None,\n",
              "                                              min_impurity_decrease=0.0,\n",
              "                                              min_impurity_split=None,\n",
              "                                              min_samples_leaf=1,\n",
              "                                              min_samples_split=2,\n",
              "                                              min_weight_fraction_leaf=0.0,\n",
              "                                              n_estimators=100, n_jobs=None,\n",
              "                                              oob_score=False, random_state=1,\n",
              "                                              verbose=0, warm_start=False),\n",
              "             iid='deprecated', n_jobs=None,\n",
              "             param_grid={'max_features': [10], 'n_estimators': [100]},\n",
              "             pre_dispatch='2*n_jobs', refit='f1', return_train_score=True,\n",
              "             scoring={'f1', 'accuracy'}, verbose=0)"
            ]
          },
          "metadata": {
            "tags": []
          },
          "execution_count": 57
        }
      ]
    },
    {
      "cell_type": "markdown",
      "metadata": {
        "id": "vwi5Ds61mirz"
      },
      "source": [
        "Let's take a look at the results of the parameter selection."
      ]
    },
    {
      "cell_type": "code",
      "metadata": {
        "id": "vi47XwmNmeHT",
        "outputId": "5680d386-af3e-459f-831a-41594fb99765",
        "colab": {
          "base_uri": "https://localhost:8080/",
          "height": 153
        }
      },
      "source": [
        "gcv.best_estimator_ "
      ],
      "execution_count": 58,
      "outputs": [
        {
          "output_type": "execute_result",
          "data": {
            "text/plain": [
              "RandomForestClassifier(bootstrap=True, ccp_alpha=0.0, class_weight=None,\n",
              "                       criterion='gini', max_depth=None, max_features=10,\n",
              "                       max_leaf_nodes=None, max_samples=None,\n",
              "                       min_impurity_decrease=0.0, min_impurity_split=None,\n",
              "                       min_samples_leaf=1, min_samples_split=2,\n",
              "                       min_weight_fraction_leaf=0.0, n_estimators=100,\n",
              "                       n_jobs=None, oob_score=False, random_state=1, verbose=0,\n",
              "                       warm_start=False)"
            ]
          },
          "metadata": {
            "tags": []
          },
          "execution_count": 58
        }
      ]
    },
    {
      "cell_type": "code",
      "metadata": {
        "id": "PxeUXPHHmk3C",
        "outputId": "54492363-1028-4859-c586-782e67c9ac82",
        "colab": {
          "base_uri": "https://localhost:8080/",
          "height": 34
        }
      },
      "source": [
        "gcv.best_params_"
      ],
      "execution_count": 59,
      "outputs": [
        {
          "output_type": "execute_result",
          "data": {
            "text/plain": [
              "{'max_features': 10, 'n_estimators': 100}"
            ]
          },
          "metadata": {
            "tags": []
          },
          "execution_count": 59
        }
      ]
    },
    {
      "cell_type": "code",
      "metadata": {
        "id": "4VFX3ERUmlvk",
        "outputId": "5c5f8f0f-674f-4c0c-f646-ce63425d5f7f",
        "colab": {
          "base_uri": "https://localhost:8080/",
          "height": 34
        }
      },
      "source": [
        "gcv.best_score_"
      ],
      "execution_count": 60,
      "outputs": [
        {
          "output_type": "execute_result",
          "data": {
            "text/plain": [
              "0.9557574450584504"
            ]
          },
          "metadata": {
            "tags": []
          },
          "execution_count": 60
        }
      ]
    },
    {
      "cell_type": "markdown",
      "metadata": {
        "id": "Iiskwr3VmoL5"
      },
      "source": [
        "## Final model"
      ]
    },
    {
      "cell_type": "code",
      "metadata": {
        "id": "7F8aWhX3mm8B",
        "outputId": "cbb69312-2d41-4eca-93d0-97d194a69604",
        "colab": {
          "base_uri": "https://localhost:8080/",
          "height": 153
        }
      },
      "source": [
        "rfc = RandomForestClassifier(max_depth=17, max_features=10, min_samples_leaf=3, n_estimators=50, random_state=42, oob_score=True)\n",
        "rfc.fit(X, y)"
      ],
      "execution_count": 61,
      "outputs": [
        {
          "output_type": "execute_result",
          "data": {
            "text/plain": [
              "RandomForestClassifier(bootstrap=True, ccp_alpha=0.0, class_weight=None,\n",
              "                       criterion='gini', max_depth=17, max_features=10,\n",
              "                       max_leaf_nodes=None, max_samples=None,\n",
              "                       min_impurity_decrease=0.0, min_impurity_split=None,\n",
              "                       min_samples_leaf=3, min_samples_split=2,\n",
              "                       min_weight_fraction_leaf=0.0, n_estimators=50,\n",
              "                       n_jobs=None, oob_score=True, random_state=42, verbose=0,\n",
              "                       warm_start=False)"
            ]
          },
          "metadata": {
            "tags": []
          },
          "execution_count": 61
        }
      ]
    },
    {
      "cell_type": "code",
      "metadata": {
        "id": "yULIEGsxmtsQ",
        "outputId": "b9eda3ad-c57b-472d-be97-8fed2161802b",
        "colab": {
          "base_uri": "https://localhost:8080/",
          "height": 187
        }
      },
      "source": [
        "features = X.columns\n",
        "importances = rfc.feature_importances_\n",
        "indices = np.argsort(importances)[::-1]\n",
        "\n",
        "for i in indices[:10]:\n",
        "    print('#{}\\t{:.3f}\\t{}'.format(i, importances[i], features[i]))"
      ],
      "execution_count": 62,
      "outputs": [
        {
          "output_type": "stream",
          "text": [
            "#2\t0.318\tMax Packet Length\n",
            "#3\t0.217\tFwd IAT Min\n",
            "#0\t0.204\tAverage Packet Size\n",
            "#7\t0.107\tFwd IAT Std\n",
            "#5\t0.047\tTotal Length of Fwd Packets\n",
            "#6\t0.044\tFlow IAT Mean\n",
            "#9\t0.038\tFwd Header Length\n",
            "#4\t0.016\tFwd Packet Length Mean\n",
            "#8\t0.007\tFwd Packet Length Max\n",
            "#1\t0.002\tFlow Bytes/s\n"
          ],
          "name": "stdout"
        }
      ]
    },
    {
      "cell_type": "markdown",
      "metadata": {
        "id": "B_9N4IAynwSc"
      },
      "source": [
        "Train the model on our own dataset."
      ]
    },
    {
      "cell_type": "code",
      "metadata": {
        "id": "4MVqe_rUmvP2",
        "outputId": "cbf6596e-1453-4218-ef36-d80dcbc269a0",
        "colab": {
          "base_uri": "https://localhost:8080/",
          "height": 221
        }
      },
      "source": [
        "!wget https://raw.githubusercontent.com/infosecdemos/ml-2020/master/ml-ids/datasets/mix_labelled.zip -O mix_labelled.zip\n",
        "!unzip -u mix_labelled.zip"
      ],
      "execution_count": 63,
      "outputs": [
        {
          "output_type": "stream",
          "text": [
            "--2020-09-29 07:07:13--  https://raw.githubusercontent.com/infosecdemos/ml-2020/master/ml-ids/datasets/mix_labelled.zip\n",
            "Resolving raw.githubusercontent.com (raw.githubusercontent.com)... 151.101.0.133, 151.101.64.133, 151.101.128.133, ...\n",
            "Connecting to raw.githubusercontent.com (raw.githubusercontent.com)|151.101.0.133|:443... connected.\n",
            "HTTP request sent, awaiting response... 200 OK\n",
            "Length: 95046 (93K) [application/zip]\n",
            "Saving to: ‘mix_labelled.zip’\n",
            "\n",
            "mix_labelled.zip    100%[===================>]  92.82K  --.-KB/s    in 0.03s   \n",
            "\n",
            "2020-09-29 07:07:13 (2.89 MB/s) - ‘mix_labelled.zip’ saved [95046/95046]\n",
            "\n",
            "Archive:  mix_labelled.zip\n"
          ],
          "name": "stdout"
        }
      ]
    },
    {
      "cell_type": "code",
      "metadata": {
        "id": "jDeCkXRrnjdK",
        "outputId": "0ca886e2-b1bc-49c0-c0c5-118696f75077",
        "colab": {
          "base_uri": "https://localhost:8080/",
          "height": 34
        }
      },
      "source": [
        "df = pd.read_csv('mix_labelled.csv')\n",
        "y = df['Label'].values\n",
        "X = df[webattack_features]\n",
        "print(X.shape, y.shape)"
      ],
      "execution_count": 64,
      "outputs": [
        {
          "output_type": "stream",
          "text": [
            "(1407, 10) (1407,)\n"
          ],
          "name": "stdout"
        }
      ]
    },
    {
      "cell_type": "code",
      "metadata": {
        "id": "4xHKM8WZn98e"
      },
      "source": [
        "X_train, X_test, y_train, y_test = train_test_split(X, y, test_size=0.3, random_state=42)"
      ],
      "execution_count": 65,
      "outputs": []
    },
    {
      "cell_type": "code",
      "metadata": {
        "id": "zEnSAfW0oBE4",
        "outputId": "592dbbbe-3fd7-461c-b691-f44a48f315f4",
        "colab": {
          "base_uri": "https://localhost:8080/",
          "height": 51
        }
      },
      "source": [
        "print(X_train.shape, y_train.shape)\n",
        "print(X_test.shape, y_test.shape)"
      ],
      "execution_count": 66,
      "outputs": [
        {
          "output_type": "stream",
          "text": [
            "(984, 10) (984,)\n",
            "(423, 10) (423,)\n"
          ],
          "name": "stdout"
        }
      ]
    },
    {
      "cell_type": "code",
      "metadata": {
        "id": "CMQSM7QkoCvv",
        "outputId": "d9d6eb8b-6cc6-4052-8bb1-cf971a3ded67",
        "colab": {
          "base_uri": "https://localhost:8080/",
          "height": 153
        }
      },
      "source": [
        "rfc.fit(X_train, y_train)"
      ],
      "execution_count": 67,
      "outputs": [
        {
          "output_type": "execute_result",
          "data": {
            "text/plain": [
              "RandomForestClassifier(bootstrap=True, ccp_alpha=0.0, class_weight=None,\n",
              "                       criterion='gini', max_depth=17, max_features=10,\n",
              "                       max_leaf_nodes=None, max_samples=None,\n",
              "                       min_impurity_decrease=0.0, min_impurity_split=None,\n",
              "                       min_samples_leaf=3, min_samples_split=2,\n",
              "                       min_weight_fraction_leaf=0.0, n_estimators=50,\n",
              "                       n_jobs=None, oob_score=True, random_state=42, verbose=0,\n",
              "                       warm_start=False)"
            ]
          },
          "metadata": {
            "tags": []
          },
          "execution_count": 67
        }
      ]
    },
    {
      "cell_type": "code",
      "metadata": {
        "id": "3Fvb_ENfoG1H",
        "outputId": "577d2821-178c-4aa3-f6cc-6de72f09bac4",
        "colab": {
          "base_uri": "https://localhost:8080/",
          "height": 51
        }
      },
      "source": [
        "y_pred = rfc.predict(X_test)\n",
        "confusion_matrix(y_test, y_pred)"
      ],
      "execution_count": 68,
      "outputs": [
        {
          "output_type": "execute_result",
          "data": {
            "text/plain": [
              "array([[138,  53],\n",
              "       [  4, 228]])"
            ]
          },
          "metadata": {
            "tags": []
          },
          "execution_count": 68
        }
      ]
    },
    {
      "cell_type": "code",
      "metadata": {
        "id": "WWgbCOjZoIYX",
        "outputId": "fc94afaf-e952-434b-daf8-d9c898056036",
        "colab": {
          "base_uri": "https://localhost:8080/",
          "height": 85
        }
      },
      "source": [
        "import sklearn.metrics as metrics\n",
        "accuracy = metrics.accuracy_score(y_test, y_pred)\n",
        "f1 = metrics.f1_score(y_test, y_pred)\n",
        "precision = metrics.precision_score(y_test, y_pred)\n",
        "recall = metrics.recall_score(y_test, y_pred)\n",
        "print('Precision =', precision)\n",
        "print('Recall =', recall)\n",
        "print('F1 =', f1)\n",
        "print('Accuracy =', accuracy)"
      ],
      "execution_count": 69,
      "outputs": [
        {
          "output_type": "stream",
          "text": [
            "Precision = 0.8113879003558719\n",
            "Recall = 0.9827586206896551\n",
            "F1 = 0.8888888888888888\n",
            "Accuracy = 0.8652482269503546\n"
          ],
          "name": "stdout"
        }
      ]
    },
    {
      "cell_type": "markdown",
      "metadata": {
        "id": "5PElFLh5oYzU"
      },
      "source": [
        "## Model saving"
      ]
    },
    {
      "cell_type": "code",
      "metadata": {
        "id": "QjZyFNFIoMFK"
      },
      "source": [
        "import pickle\n",
        "with open('webattack_detection_rf_model.pkl', 'wb') as f:\n",
        "    pickle.dump(gcv.best_estimator_, f)"
      ],
      "execution_count": 70,
      "outputs": []
    },
    {
      "cell_type": "markdown",
      "metadata": {
        "id": "pnHSPBrDodIs"
      },
      "source": [
        "## Model approbation"
      ]
    },
    {
      "cell_type": "markdown",
      "metadata": {
        "id": "98uX2hrvofRR"
      },
      "source": [
        "Open the previously saved model."
      ]
    },
    {
      "cell_type": "code",
      "metadata": {
        "id": "hxBtpLABob_z",
        "outputId": "8b0ef6ee-591e-4ed3-bac4-de1067520773",
        "colab": {
          "base_uri": "https://localhost:8080/",
          "height": 153
        }
      },
      "source": [
        "with open('webattack_detection_rf_model.pkl', 'rb') as f:\n",
        "    rfc = pickle.load(f)\n",
        "rfc"
      ],
      "execution_count": 71,
      "outputs": [
        {
          "output_type": "execute_result",
          "data": {
            "text/plain": [
              "RandomForestClassifier(bootstrap=True, ccp_alpha=0.0, class_weight=None,\n",
              "                       criterion='gini', max_depth=None, max_features=10,\n",
              "                       max_leaf_nodes=None, max_samples=None,\n",
              "                       min_impurity_decrease=0.0, min_impurity_split=None,\n",
              "                       min_samples_leaf=1, min_samples_split=2,\n",
              "                       min_weight_fraction_leaf=0.0, n_estimators=100,\n",
              "                       n_jobs=None, oob_score=False, random_state=1, verbose=0,\n",
              "                       warm_start=False)"
            ]
          },
          "metadata": {
            "tags": []
          },
          "execution_count": 71
        }
      ]
    },
    {
      "cell_type": "markdown",
      "metadata": {
        "id": "znNcDQd-oh5G"
      },
      "source": [
        "Reopen the dataset."
      ]
    },
    {
      "cell_type": "code",
      "metadata": {
        "id": "z_vhT5fcoguX",
        "outputId": "8ce12f85-6c36-4c07-f3af-e78affc90718",
        "colab": {
          "base_uri": "https://localhost:8080/",
          "height": 34
        }
      },
      "source": [
        "df = pd.read_csv('web_attacks_balanced.csv')\n",
        "# df = pd.read_csv('mix_labelled.csv')\n",
        "df['Label'] = df['Label'].apply(lambda x: 0 if x == 'BENIGN' else 1)\n",
        "y_test = df['Label'].values\n",
        "X_test = df[webattack_features]\n",
        "print(X_test.shape, y_test.shape)"
      ],
      "execution_count": 72,
      "outputs": [
        {
          "output_type": "stream",
          "text": [
            "(7267, 10) (7267,)\n"
          ],
          "name": "stdout"
        }
      ]
    },
    {
      "cell_type": "code",
      "metadata": {
        "id": "wmcv42wHoltz",
        "outputId": "fbbe0e7b-7a01-4b02-c7e3-498334b70a6e",
        "colab": {
          "base_uri": "https://localhost:8080/",
          "height": 204
        }
      },
      "source": [
        "X_test.head()"
      ],
      "execution_count": 73,
      "outputs": [
        {
          "output_type": "execute_result",
          "data": {
            "text/html": [
              "<div>\n",
              "<style scoped>\n",
              "    .dataframe tbody tr th:only-of-type {\n",
              "        vertical-align: middle;\n",
              "    }\n",
              "\n",
              "    .dataframe tbody tr th {\n",
              "        vertical-align: top;\n",
              "    }\n",
              "\n",
              "    .dataframe thead th {\n",
              "        text-align: right;\n",
              "    }\n",
              "</style>\n",
              "<table border=\"1\" class=\"dataframe\">\n",
              "  <thead>\n",
              "    <tr style=\"text-align: right;\">\n",
              "      <th></th>\n",
              "      <th>Average Packet Size</th>\n",
              "      <th>Flow Bytes/s</th>\n",
              "      <th>Max Packet Length</th>\n",
              "      <th>Fwd IAT Min</th>\n",
              "      <th>Fwd Packet Length Mean</th>\n",
              "      <th>Total Length of Fwd Packets</th>\n",
              "      <th>Flow IAT Mean</th>\n",
              "      <th>Fwd IAT Std</th>\n",
              "      <th>Fwd Packet Length Max</th>\n",
              "      <th>Fwd Header Length</th>\n",
              "    </tr>\n",
              "  </thead>\n",
              "  <tbody>\n",
              "    <tr>\n",
              "      <th>0</th>\n",
              "      <td>72.000000</td>\n",
              "      <td>3.162889e+03</td>\n",
              "      <td>48.0</td>\n",
              "      <td>0.0</td>\n",
              "      <td>48.0</td>\n",
              "      <td>48.0</td>\n",
              "      <td>3.035200e+04</td>\n",
              "      <td>0.000000e+00</td>\n",
              "      <td>48.0</td>\n",
              "      <td>32.0</td>\n",
              "    </tr>\n",
              "    <tr>\n",
              "      <th>1</th>\n",
              "      <td>80.000000</td>\n",
              "      <td>1.408163e+06</td>\n",
              "      <td>94.0</td>\n",
              "      <td>49.0</td>\n",
              "      <td>44.0</td>\n",
              "      <td>88.0</td>\n",
              "      <td>6.533333e+01</td>\n",
              "      <td>0.000000e+00</td>\n",
              "      <td>44.0</td>\n",
              "      <td>64.0</td>\n",
              "    </tr>\n",
              "    <tr>\n",
              "      <th>2</th>\n",
              "      <td>50.400000</td>\n",
              "      <td>8.718178e+00</td>\n",
              "      <td>48.0</td>\n",
              "      <td>1998856.0</td>\n",
              "      <td>48.0</td>\n",
              "      <td>480.0</td>\n",
              "      <td>5.795513e+06</td>\n",
              "      <td>2.000000e+07</td>\n",
              "      <td>48.0</td>\n",
              "      <td>236.0</td>\n",
              "    </tr>\n",
              "    <tr>\n",
              "      <th>3</th>\n",
              "      <td>35.071429</td>\n",
              "      <td>4.667300e+05</td>\n",
              "      <td>163.0</td>\n",
              "      <td>1.0</td>\n",
              "      <td>16.5</td>\n",
              "      <td>165.0</td>\n",
              "      <td>8.092308e+01</td>\n",
              "      <td>2.054254e+02</td>\n",
              "      <td>79.0</td>\n",
              "      <td>336.0</td>\n",
              "    </tr>\n",
              "    <tr>\n",
              "      <th>4</th>\n",
              "      <td>94.250000</td>\n",
              "      <td>2.024845e+06</td>\n",
              "      <td>112.0</td>\n",
              "      <td>3.0</td>\n",
              "      <td>51.0</td>\n",
              "      <td>102.0</td>\n",
              "      <td>5.366667e+01</td>\n",
              "      <td>0.000000e+00</td>\n",
              "      <td>51.0</td>\n",
              "      <td>64.0</td>\n",
              "    </tr>\n",
              "  </tbody>\n",
              "</table>\n",
              "</div>"
            ],
            "text/plain": [
              "   Average Packet Size  Flow Bytes/s  ...  Fwd Packet Length Max  Fwd Header Length\n",
              "0            72.000000  3.162889e+03  ...                   48.0               32.0\n",
              "1            80.000000  1.408163e+06  ...                   44.0               64.0\n",
              "2            50.400000  8.718178e+00  ...                   48.0              236.0\n",
              "3            35.071429  4.667300e+05  ...                   79.0              336.0\n",
              "4            94.250000  2.024845e+06  ...                   51.0               64.0\n",
              "\n",
              "[5 rows x 10 columns]"
            ]
          },
          "metadata": {
            "tags": []
          },
          "execution_count": 73
        }
      ]
    },
    {
      "cell_type": "code",
      "metadata": {
        "id": "-lSUUhseopZz",
        "outputId": "ef9ad3e0-48ca-43b6-9e64-26e1b8add59a",
        "colab": {
          "base_uri": "https://localhost:8080/",
          "height": 68
        }
      },
      "source": [
        "import time\n",
        "seconds = time.time()\n",
        "y_pred = rfc.predict(X_test)\n",
        "print(\"Total operation time:\", time.time() - seconds, \"seconds\")\n",
        "\n",
        "print(\"Benign records detected (0), attacks detected (1):\")\n",
        "unique, counts = np.unique(y_pred, return_counts=True)\n",
        "dict(zip(unique, counts))"
      ],
      "execution_count": 74,
      "outputs": [
        {
          "output_type": "stream",
          "text": [
            "Total operation time: 0.0606236457824707 seconds\n",
            "Benign records detected (0), attacks detected (1):\n"
          ],
          "name": "stdout"
        },
        {
          "output_type": "execute_result",
          "data": {
            "text/plain": [
              "{0: 5069, 1: 2198}"
            ]
          },
          "metadata": {
            "tags": []
          },
          "execution_count": 74
        }
      ]
    },
    {
      "cell_type": "markdown",
      "metadata": {
        "id": "J2czidjro0at"
      },
      "source": [
        "Confusion matrix:\n",
        "\n",
        "      0  1 - predicted value (Wikipedia uses different convention for axes)\n",
        "    0 TN FP\n",
        "    1 FN TP"
      ]
    },
    {
      "cell_type": "code",
      "metadata": {
        "id": "-g03Us5potkl",
        "outputId": "502b9a3b-2cb4-4363-ad66-40f879b52186",
        "colab": {
          "base_uri": "https://localhost:8080/",
          "height": 51
        }
      },
      "source": [
        "confusion_matrix(y_test, y_pred)"
      ],
      "execution_count": 75,
      "outputs": [
        {
          "output_type": "execute_result",
          "data": {
            "text/plain": [
              "array([[5034,   53],\n",
              "       [  35, 2145]])"
            ]
          },
          "metadata": {
            "tags": []
          },
          "execution_count": 75
        }
      ]
    },
    {
      "cell_type": "code",
      "metadata": {
        "id": "qBDPbUU_o6Pi",
        "outputId": "8ad0fd77-427b-472c-daae-cda92b67ffc2",
        "colab": {
          "base_uri": "https://localhost:8080/",
          "height": 85
        }
      },
      "source": [
        "import sklearn.metrics as metrics\n",
        "accuracy = metrics.accuracy_score(y_test, y_pred)\n",
        "f1 = metrics.f1_score(y_test, y_pred)\n",
        "precision = metrics.precision_score(y_test, y_pred)\n",
        "recall = metrics.recall_score(y_test, y_pred)\n",
        "print('Precision =', precision)\n",
        "print('Recall =', recall)\n",
        "print('F1 =', f1)\n",
        "print('Accuracy =', accuracy)"
      ],
      "execution_count": 76,
      "outputs": [
        {
          "output_type": "stream",
          "text": [
            "Precision = 0.9758871701546861\n",
            "Recall = 0.9839449541284404\n",
            "F1 = 0.9798994974874372\n",
            "Accuracy = 0.9878904637401954\n"
          ],
          "name": "stdout"
        }
      ]
    },
    {
      "cell_type": "markdown",
      "metadata": {
        "id": "u4OU8WyZpJdD"
      },
      "source": [
        "Manual calculation of the confusion matrix:\n",
        "    \n",
        "    array([[5075,   12],\n",
        "           [   1, 2179]], dtype=int64)\n",
        "  \n",
        "      0  1 - predicted value (Wikipedia uses different convention for axes)\n",
        "    0 TN FP\n",
        "    1 FN TP\n",
        "\n",
        "    Точность\n",
        "    Precision = TP / (TP + FP) = 2179 / (2179 + 12) = 0.9945230488361478\n",
        "\n",
        "    Полнота\n",
        "    Recall = TP / (TP + FN) = 2179 / (2179 + 1) = 0.9995412844036697\n",
        "\n",
        "    F-мера, параметр = 1, гармоническое среднее точности и полноты, множитель = 2\n",
        "    F1 = 2 * (precision * recall) / (precision + recall) = 0.9970258522077328\n",
        "\n",
        "    Доля правильных ответов\n",
        "    Accuracy = TP + TN / (TP + TN + FP + FN) = (2179 + 5075) / 7267 = 0.998211091234347"
      ]
    },
    {
      "cell_type": "code",
      "metadata": {
        "id": "RyyORmRrpDTz"
      },
      "source": [
        "predict = pd.DataFrame({'Predict': rfc.predict(X_test)})\n",
        "label = pd.DataFrame({'Label': y_test})\n",
        "result = X_test.join(label).join(predict)"
      ],
      "execution_count": 77,
      "outputs": []
    },
    {
      "cell_type": "code",
      "metadata": {
        "id": "Vgpf2SVmpnyp",
        "outputId": "ea5e58a0-f808-45ee-ecdc-4f3e0327cf57",
        "colab": {
          "base_uri": "https://localhost:8080/",
          "height": 419
        }
      },
      "source": [
        "result[result['Predict'] == 1]"
      ],
      "execution_count": 78,
      "outputs": [
        {
          "output_type": "execute_result",
          "data": {
            "text/html": [
              "<div>\n",
              "<style scoped>\n",
              "    .dataframe tbody tr th:only-of-type {\n",
              "        vertical-align: middle;\n",
              "    }\n",
              "\n",
              "    .dataframe tbody tr th {\n",
              "        vertical-align: top;\n",
              "    }\n",
              "\n",
              "    .dataframe thead th {\n",
              "        text-align: right;\n",
              "    }\n",
              "</style>\n",
              "<table border=\"1\" class=\"dataframe\">\n",
              "  <thead>\n",
              "    <tr style=\"text-align: right;\">\n",
              "      <th></th>\n",
              "      <th>Average Packet Size</th>\n",
              "      <th>Flow Bytes/s</th>\n",
              "      <th>Max Packet Length</th>\n",
              "      <th>Fwd IAT Min</th>\n",
              "      <th>Fwd Packet Length Mean</th>\n",
              "      <th>Total Length of Fwd Packets</th>\n",
              "      <th>Flow IAT Mean</th>\n",
              "      <th>Fwd IAT Std</th>\n",
              "      <th>Fwd Packet Length Max</th>\n",
              "      <th>Fwd Header Length</th>\n",
              "      <th>Label</th>\n",
              "      <th>Predict</th>\n",
              "    </tr>\n",
              "  </thead>\n",
              "  <tbody>\n",
              "    <tr>\n",
              "      <th>172</th>\n",
              "      <td>0.000000</td>\n",
              "      <td>0.000000</td>\n",
              "      <td>0.0</td>\n",
              "      <td>0.0</td>\n",
              "      <td>0.000000</td>\n",
              "      <td>0.0</td>\n",
              "      <td>46.0000</td>\n",
              "      <td>0.000000e+00</td>\n",
              "      <td>0.0</td>\n",
              "      <td>32.0</td>\n",
              "      <td>0</td>\n",
              "      <td>1</td>\n",
              "    </tr>\n",
              "    <tr>\n",
              "      <th>178</th>\n",
              "      <td>0.000000</td>\n",
              "      <td>0.000000</td>\n",
              "      <td>0.0</td>\n",
              "      <td>0.0</td>\n",
              "      <td>0.000000</td>\n",
              "      <td>0.0</td>\n",
              "      <td>45.0000</td>\n",
              "      <td>0.000000e+00</td>\n",
              "      <td>0.0</td>\n",
              "      <td>32.0</td>\n",
              "      <td>0</td>\n",
              "      <td>1</td>\n",
              "    </tr>\n",
              "    <tr>\n",
              "      <th>409</th>\n",
              "      <td>238.785714</td>\n",
              "      <td>644.729782</td>\n",
              "      <td>1047.0</td>\n",
              "      <td>4.0</td>\n",
              "      <td>146.000000</td>\n",
              "      <td>1022.0</td>\n",
              "      <td>398855.2308</td>\n",
              "      <td>5.614102e+04</td>\n",
              "      <td>372.0</td>\n",
              "      <td>232.0</td>\n",
              "      <td>1</td>\n",
              "      <td>1</td>\n",
              "    </tr>\n",
              "    <tr>\n",
              "      <th>410</th>\n",
              "      <td>624.470588</td>\n",
              "      <td>2099.113097</td>\n",
              "      <td>4344.0</td>\n",
              "      <td>192.0</td>\n",
              "      <td>73.600000</td>\n",
              "      <td>736.0</td>\n",
              "      <td>316085.8750</td>\n",
              "      <td>1.650529e+06</td>\n",
              "      <td>395.0</td>\n",
              "      <td>328.0</td>\n",
              "      <td>1</td>\n",
              "      <td>1</td>\n",
              "    </tr>\n",
              "    <tr>\n",
              "      <th>412</th>\n",
              "      <td>199.916667</td>\n",
              "      <td>455.121233</td>\n",
              "      <td>1066.0</td>\n",
              "      <td>323.0</td>\n",
              "      <td>138.428571</td>\n",
              "      <td>969.0</td>\n",
              "      <td>479193.0000</td>\n",
              "      <td>2.003103e+06</td>\n",
              "      <td>561.0</td>\n",
              "      <td>232.0</td>\n",
              "      <td>1</td>\n",
              "      <td>1</td>\n",
              "    </tr>\n",
              "    <tr>\n",
              "      <th>...</th>\n",
              "      <td>...</td>\n",
              "      <td>...</td>\n",
              "      <td>...</td>\n",
              "      <td>...</td>\n",
              "      <td>...</td>\n",
              "      <td>...</td>\n",
              "      <td>...</td>\n",
              "      <td>...</td>\n",
              "      <td>...</td>\n",
              "      <td>...</td>\n",
              "      <td>...</td>\n",
              "      <td>...</td>\n",
              "    </tr>\n",
              "    <tr>\n",
              "      <th>6951</th>\n",
              "      <td>0.000000</td>\n",
              "      <td>0.000000</td>\n",
              "      <td>0.0</td>\n",
              "      <td>0.0</td>\n",
              "      <td>0.000000</td>\n",
              "      <td>0.0</td>\n",
              "      <td>51.0000</td>\n",
              "      <td>0.000000e+00</td>\n",
              "      <td>0.0</td>\n",
              "      <td>32.0</td>\n",
              "      <td>0</td>\n",
              "      <td>1</td>\n",
              "    </tr>\n",
              "    <tr>\n",
              "      <th>7009</th>\n",
              "      <td>0.000000</td>\n",
              "      <td>0.000000</td>\n",
              "      <td>0.0</td>\n",
              "      <td>0.0</td>\n",
              "      <td>0.000000</td>\n",
              "      <td>0.0</td>\n",
              "      <td>66.0000</td>\n",
              "      <td>0.000000e+00</td>\n",
              "      <td>0.0</td>\n",
              "      <td>32.0</td>\n",
              "      <td>0</td>\n",
              "      <td>1</td>\n",
              "    </tr>\n",
              "    <tr>\n",
              "      <th>7048</th>\n",
              "      <td>0.000000</td>\n",
              "      <td>0.000000</td>\n",
              "      <td>0.0</td>\n",
              "      <td>0.0</td>\n",
              "      <td>0.000000</td>\n",
              "      <td>0.0</td>\n",
              "      <td>79.0000</td>\n",
              "      <td>0.000000e+00</td>\n",
              "      <td>0.0</td>\n",
              "      <td>32.0</td>\n",
              "      <td>0</td>\n",
              "      <td>1</td>\n",
              "    </tr>\n",
              "    <tr>\n",
              "      <th>7123</th>\n",
              "      <td>0.000000</td>\n",
              "      <td>0.000000</td>\n",
              "      <td>0.0</td>\n",
              "      <td>0.0</td>\n",
              "      <td>0.000000</td>\n",
              "      <td>0.0</td>\n",
              "      <td>21.0000</td>\n",
              "      <td>0.000000e+00</td>\n",
              "      <td>0.0</td>\n",
              "      <td>32.0</td>\n",
              "      <td>0</td>\n",
              "      <td>1</td>\n",
              "    </tr>\n",
              "    <tr>\n",
              "      <th>7181</th>\n",
              "      <td>0.000000</td>\n",
              "      <td>0.000000</td>\n",
              "      <td>0.0</td>\n",
              "      <td>0.0</td>\n",
              "      <td>0.000000</td>\n",
              "      <td>0.0</td>\n",
              "      <td>84.0000</td>\n",
              "      <td>0.000000e+00</td>\n",
              "      <td>0.0</td>\n",
              "      <td>32.0</td>\n",
              "      <td>0</td>\n",
              "      <td>1</td>\n",
              "    </tr>\n",
              "  </tbody>\n",
              "</table>\n",
              "<p>2198 rows × 12 columns</p>\n",
              "</div>"
            ],
            "text/plain": [
              "      Average Packet Size  Flow Bytes/s  ...  Label  Predict\n",
              "172              0.000000      0.000000  ...      0        1\n",
              "178              0.000000      0.000000  ...      0        1\n",
              "409            238.785714    644.729782  ...      1        1\n",
              "410            624.470588   2099.113097  ...      1        1\n",
              "412            199.916667    455.121233  ...      1        1\n",
              "...                   ...           ...  ...    ...      ...\n",
              "6951             0.000000      0.000000  ...      0        1\n",
              "7009             0.000000      0.000000  ...      0        1\n",
              "7048             0.000000      0.000000  ...      0        1\n",
              "7123             0.000000      0.000000  ...      0        1\n",
              "7181             0.000000      0.000000  ...      0        1\n",
              "\n",
              "[2198 rows x 12 columns]"
            ]
          },
          "metadata": {
            "tags": []
          },
          "execution_count": 78
        }
      ]
    },
    {
      "cell_type": "code",
      "metadata": {
        "id": "yD7m3P1lppwu",
        "outputId": "d02e0f4d-e60a-4fc0-d583-f6c709777a3e",
        "colab": {
          "base_uri": "https://localhost:8080/",
          "height": 669
        }
      },
      "source": [
        "result[410:430]"
      ],
      "execution_count": 79,
      "outputs": [
        {
          "output_type": "execute_result",
          "data": {
            "text/html": [
              "<div>\n",
              "<style scoped>\n",
              "    .dataframe tbody tr th:only-of-type {\n",
              "        vertical-align: middle;\n",
              "    }\n",
              "\n",
              "    .dataframe tbody tr th {\n",
              "        vertical-align: top;\n",
              "    }\n",
              "\n",
              "    .dataframe thead th {\n",
              "        text-align: right;\n",
              "    }\n",
              "</style>\n",
              "<table border=\"1\" class=\"dataframe\">\n",
              "  <thead>\n",
              "    <tr style=\"text-align: right;\">\n",
              "      <th></th>\n",
              "      <th>Average Packet Size</th>\n",
              "      <th>Flow Bytes/s</th>\n",
              "      <th>Max Packet Length</th>\n",
              "      <th>Fwd IAT Min</th>\n",
              "      <th>Fwd Packet Length Mean</th>\n",
              "      <th>Total Length of Fwd Packets</th>\n",
              "      <th>Flow IAT Mean</th>\n",
              "      <th>Fwd IAT Std</th>\n",
              "      <th>Fwd Packet Length Max</th>\n",
              "      <th>Fwd Header Length</th>\n",
              "      <th>Label</th>\n",
              "      <th>Predict</th>\n",
              "    </tr>\n",
              "  </thead>\n",
              "  <tbody>\n",
              "    <tr>\n",
              "      <th>410</th>\n",
              "      <td>624.470588</td>\n",
              "      <td>2.099113e+03</td>\n",
              "      <td>4344.0</td>\n",
              "      <td>192.0</td>\n",
              "      <td>73.600000</td>\n",
              "      <td>736.0</td>\n",
              "      <td>3.160859e+05</td>\n",
              "      <td>1.650529e+06</td>\n",
              "      <td>395.0</td>\n",
              "      <td>328.0</td>\n",
              "      <td>1</td>\n",
              "      <td>1</td>\n",
              "    </tr>\n",
              "    <tr>\n",
              "      <th>411</th>\n",
              "      <td>0.000000</td>\n",
              "      <td>0.000000e+00</td>\n",
              "      <td>0.0</td>\n",
              "      <td>0.0</td>\n",
              "      <td>0.000000</td>\n",
              "      <td>0.0</td>\n",
              "      <td>8.100000e+01</td>\n",
              "      <td>0.000000e+00</td>\n",
              "      <td>0.0</td>\n",
              "      <td>32.0</td>\n",
              "      <td>1</td>\n",
              "      <td>0</td>\n",
              "    </tr>\n",
              "    <tr>\n",
              "      <th>412</th>\n",
              "      <td>199.916667</td>\n",
              "      <td>4.551212e+02</td>\n",
              "      <td>1066.0</td>\n",
              "      <td>323.0</td>\n",
              "      <td>138.428571</td>\n",
              "      <td>969.0</td>\n",
              "      <td>4.791930e+05</td>\n",
              "      <td>2.003103e+06</td>\n",
              "      <td>561.0</td>\n",
              "      <td>232.0</td>\n",
              "      <td>1</td>\n",
              "      <td>1</td>\n",
              "    </tr>\n",
              "    <tr>\n",
              "      <th>413</th>\n",
              "      <td>22.666667</td>\n",
              "      <td>5.692308e+05</td>\n",
              "      <td>31.0</td>\n",
              "      <td>1.0</td>\n",
              "      <td>15.500000</td>\n",
              "      <td>31.0</td>\n",
              "      <td>3.250000e+01</td>\n",
              "      <td>0.000000e+00</td>\n",
              "      <td>31.0</td>\n",
              "      <td>64.0</td>\n",
              "      <td>0</td>\n",
              "      <td>0</td>\n",
              "    </tr>\n",
              "    <tr>\n",
              "      <th>414</th>\n",
              "      <td>0.000000</td>\n",
              "      <td>0.000000e+00</td>\n",
              "      <td>0.0</td>\n",
              "      <td>0.0</td>\n",
              "      <td>0.000000</td>\n",
              "      <td>0.0</td>\n",
              "      <td>1.300000e+01</td>\n",
              "      <td>0.000000e+00</td>\n",
              "      <td>0.0</td>\n",
              "      <td>32.0</td>\n",
              "      <td>0</td>\n",
              "      <td>0</td>\n",
              "    </tr>\n",
              "    <tr>\n",
              "      <th>415</th>\n",
              "      <td>0.000000</td>\n",
              "      <td>0.000000e+00</td>\n",
              "      <td>0.0</td>\n",
              "      <td>0.0</td>\n",
              "      <td>0.000000</td>\n",
              "      <td>0.0</td>\n",
              "      <td>3.600000e+01</td>\n",
              "      <td>0.000000e+00</td>\n",
              "      <td>0.0</td>\n",
              "      <td>32.0</td>\n",
              "      <td>0</td>\n",
              "      <td>0</td>\n",
              "    </tr>\n",
              "    <tr>\n",
              "      <th>416</th>\n",
              "      <td>218.454545</td>\n",
              "      <td>4.786244e+02</td>\n",
              "      <td>1066.0</td>\n",
              "      <td>18.0</td>\n",
              "      <td>139.000000</td>\n",
              "      <td>973.0</td>\n",
              "      <td>5.020638e+05</td>\n",
              "      <td>2.021330e+06</td>\n",
              "      <td>565.0</td>\n",
              "      <td>232.0</td>\n",
              "      <td>1</td>\n",
              "      <td>1</td>\n",
              "    </tr>\n",
              "    <tr>\n",
              "      <th>417</th>\n",
              "      <td>10.333333</td>\n",
              "      <td>1.016393e+05</td>\n",
              "      <td>31.0</td>\n",
              "      <td>47.0</td>\n",
              "      <td>10.333333</td>\n",
              "      <td>31.0</td>\n",
              "      <td>1.525000e+02</td>\n",
              "      <td>1.491995e+02</td>\n",
              "      <td>31.0</td>\n",
              "      <td>96.0</td>\n",
              "      <td>0</td>\n",
              "      <td>0</td>\n",
              "    </tr>\n",
              "    <tr>\n",
              "      <th>418</th>\n",
              "      <td>121.500000</td>\n",
              "      <td>2.075472e+06</td>\n",
              "      <td>174.0</td>\n",
              "      <td>4.0</td>\n",
              "      <td>46.000000</td>\n",
              "      <td>92.0</td>\n",
              "      <td>7.066667e+01</td>\n",
              "      <td>0.000000e+00</td>\n",
              "      <td>46.0</td>\n",
              "      <td>64.0</td>\n",
              "      <td>0</td>\n",
              "      <td>0</td>\n",
              "    </tr>\n",
              "    <tr>\n",
              "      <th>419</th>\n",
              "      <td>9.000000</td>\n",
              "      <td>1.764706e+05</td>\n",
              "      <td>6.0</td>\n",
              "      <td>0.0</td>\n",
              "      <td>6.000000</td>\n",
              "      <td>6.0</td>\n",
              "      <td>6.800000e+01</td>\n",
              "      <td>0.000000e+00</td>\n",
              "      <td>6.0</td>\n",
              "      <td>20.0</td>\n",
              "      <td>0</td>\n",
              "      <td>0</td>\n",
              "    </tr>\n",
              "    <tr>\n",
              "      <th>420</th>\n",
              "      <td>3.000000</td>\n",
              "      <td>2.079042e+00</td>\n",
              "      <td>6.0</td>\n",
              "      <td>51620.0</td>\n",
              "      <td>4.000000</td>\n",
              "      <td>12.0</td>\n",
              "      <td>1.923963e+06</td>\n",
              "      <td>4.008340e+06</td>\n",
              "      <td>6.0</td>\n",
              "      <td>72.0</td>\n",
              "      <td>0</td>\n",
              "      <td>0</td>\n",
              "    </tr>\n",
              "    <tr>\n",
              "      <th>421</th>\n",
              "      <td>60.000000</td>\n",
              "      <td>2.781645e+00</td>\n",
              "      <td>48.0</td>\n",
              "      <td>69000000.0</td>\n",
              "      <td>48.000000</td>\n",
              "      <td>96.0</td>\n",
              "      <td>2.300000e+07</td>\n",
              "      <td>0.000000e+00</td>\n",
              "      <td>48.0</td>\n",
              "      <td>52.0</td>\n",
              "      <td>0</td>\n",
              "      <td>0</td>\n",
              "    </tr>\n",
              "    <tr>\n",
              "      <th>422</th>\n",
              "      <td>86.000000</td>\n",
              "      <td>2.093960e+06</td>\n",
              "      <td>124.0</td>\n",
              "      <td>4.0</td>\n",
              "      <td>32.000000</td>\n",
              "      <td>64.0</td>\n",
              "      <td>4.966667e+01</td>\n",
              "      <td>0.000000e+00</td>\n",
              "      <td>32.0</td>\n",
              "      <td>40.0</td>\n",
              "      <td>0</td>\n",
              "      <td>0</td>\n",
              "    </tr>\n",
              "    <tr>\n",
              "      <th>423</th>\n",
              "      <td>58.000000</td>\n",
              "      <td>1.215190e+06</td>\n",
              "      <td>56.0</td>\n",
              "      <td>3.0</td>\n",
              "      <td>40.000000</td>\n",
              "      <td>80.0</td>\n",
              "      <td>5.266667e+01</td>\n",
              "      <td>0.000000e+00</td>\n",
              "      <td>40.0</td>\n",
              "      <td>40.0</td>\n",
              "      <td>0</td>\n",
              "      <td>0</td>\n",
              "    </tr>\n",
              "    <tr>\n",
              "      <th>424</th>\n",
              "      <td>9.000000</td>\n",
              "      <td>6.269592e+03</td>\n",
              "      <td>6.0</td>\n",
              "      <td>1914.0</td>\n",
              "      <td>6.000000</td>\n",
              "      <td>12.0</td>\n",
              "      <td>1.914000e+03</td>\n",
              "      <td>0.000000e+00</td>\n",
              "      <td>6.0</td>\n",
              "      <td>40.0</td>\n",
              "      <td>0</td>\n",
              "      <td>0</td>\n",
              "    </tr>\n",
              "    <tr>\n",
              "      <th>425</th>\n",
              "      <td>111.050000</td>\n",
              "      <td>3.671361e+01</td>\n",
              "      <td>1397.0</td>\n",
              "      <td>204.0</td>\n",
              "      <td>144.500000</td>\n",
              "      <td>1445.0</td>\n",
              "      <td>3.183962e+06</td>\n",
              "      <td>5.003496e+06</td>\n",
              "      <td>1397.0</td>\n",
              "      <td>212.0</td>\n",
              "      <td>0</td>\n",
              "      <td>0</td>\n",
              "    </tr>\n",
              "    <tr>\n",
              "      <th>426</th>\n",
              "      <td>58.000000</td>\n",
              "      <td>1.454545e+06</td>\n",
              "      <td>56.0</td>\n",
              "      <td>3.0</td>\n",
              "      <td>40.000000</td>\n",
              "      <td>80.0</td>\n",
              "      <td>4.400000e+01</td>\n",
              "      <td>0.000000e+00</td>\n",
              "      <td>40.0</td>\n",
              "      <td>40.0</td>\n",
              "      <td>0</td>\n",
              "      <td>0</td>\n",
              "    </tr>\n",
              "    <tr>\n",
              "      <th>427</th>\n",
              "      <td>347.416667</td>\n",
              "      <td>3.461063e+01</td>\n",
              "      <td>2920.0</td>\n",
              "      <td>77814.0</td>\n",
              "      <td>33.166667</td>\n",
              "      <td>199.0</td>\n",
              "      <td>1.070000e+07</td>\n",
              "      <td>3.220000e+07</td>\n",
              "      <td>89.0</td>\n",
              "      <td>120.0</td>\n",
              "      <td>0</td>\n",
              "      <td>0</td>\n",
              "    </tr>\n",
              "    <tr>\n",
              "      <th>428</th>\n",
              "      <td>105.250000</td>\n",
              "      <td>5.955039e+02</td>\n",
              "      <td>185.0</td>\n",
              "      <td>594009.0</td>\n",
              "      <td>53.000000</td>\n",
              "      <td>106.0</td>\n",
              "      <td>2.082270e+05</td>\n",
              "      <td>0.000000e+00</td>\n",
              "      <td>57.0</td>\n",
              "      <td>40.0</td>\n",
              "      <td>0</td>\n",
              "      <td>0</td>\n",
              "    </tr>\n",
              "    <tr>\n",
              "      <th>429</th>\n",
              "      <td>102.125000</td>\n",
              "      <td>1.259311e+04</td>\n",
              "      <td>153.0</td>\n",
              "      <td>4.0</td>\n",
              "      <td>41.000000</td>\n",
              "      <td>164.0</td>\n",
              "      <td>8.803000e+03</td>\n",
              "      <td>3.542709e+04</td>\n",
              "      <td>41.0</td>\n",
              "      <td>80.0</td>\n",
              "      <td>0</td>\n",
              "      <td>0</td>\n",
              "    </tr>\n",
              "  </tbody>\n",
              "</table>\n",
              "</div>"
            ],
            "text/plain": [
              "     Average Packet Size  Flow Bytes/s  ...  Label  Predict\n",
              "410           624.470588  2.099113e+03  ...      1        1\n",
              "411             0.000000  0.000000e+00  ...      1        0\n",
              "412           199.916667  4.551212e+02  ...      1        1\n",
              "413            22.666667  5.692308e+05  ...      0        0\n",
              "414             0.000000  0.000000e+00  ...      0        0\n",
              "415             0.000000  0.000000e+00  ...      0        0\n",
              "416           218.454545  4.786244e+02  ...      1        1\n",
              "417            10.333333  1.016393e+05  ...      0        0\n",
              "418           121.500000  2.075472e+06  ...      0        0\n",
              "419             9.000000  1.764706e+05  ...      0        0\n",
              "420             3.000000  2.079042e+00  ...      0        0\n",
              "421            60.000000  2.781645e+00  ...      0        0\n",
              "422            86.000000  2.093960e+06  ...      0        0\n",
              "423            58.000000  1.215190e+06  ...      0        0\n",
              "424             9.000000  6.269592e+03  ...      0        0\n",
              "425           111.050000  3.671361e+01  ...      0        0\n",
              "426            58.000000  1.454545e+06  ...      0        0\n",
              "427           347.416667  3.461063e+01  ...      0        0\n",
              "428           105.250000  5.955039e+02  ...      0        0\n",
              "429           102.125000  1.259311e+04  ...      0        0\n",
              "\n",
              "[20 rows x 12 columns]"
            ]
          },
          "metadata": {
            "tags": []
          },
          "execution_count": 79
        }
      ]
    },
    {
      "cell_type": "code",
      "metadata": {
        "id": "B7m7GhQvprBa"
      },
      "source": [
        ""
      ],
      "execution_count": 79,
      "outputs": []
    }
  ]
}